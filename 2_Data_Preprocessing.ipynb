{
  "nbformat": 4,
  "nbformat_minor": 0,
  "metadata": {
    "colab": {
      "name": "Wysa Data Preprocessing.ipynb",
      "provenance": [],
      "toc_visible": true
    },
    "kernelspec": {
      "name": "python3",
      "display_name": "Python 3"
    },
    "language_info": {
      "name": "python"
    }
  },
  "cells": [
    {
      "cell_type": "markdown",
      "source": [
        "#Data Preprocessing"
      ],
      "metadata": {
        "id": "cfur4d8sQAlp"
      }
    },
    {
      "cell_type": "markdown",
      "source": [
        "##Merge Datasets\n",
        "\n",
        "The first thing we will do is combine the r/India and the r/IndiaSpeaks datasets into one, using the very simple ```pd.concat()``` method"
      ],
      "metadata": {
        "id": "ubca1zu2QH4_"
      }
    },
    {
      "cell_type": "code",
      "execution_count": null,
      "metadata": {
        "id": "2QCNy4Tp0weH"
      },
      "outputs": [],
      "source": [
        "df_india_path = '/content/drive/MyDrive/Wysa/df_india.pkl'\n",
        "df_ispeaks_path = '/content/drive/MyDrive/Wysa/df_ispeaks.pkl'"
      ]
    },
    {
      "cell_type": "code",
      "source": [
        "import pandas as pd"
      ],
      "metadata": {
        "id": "om1S9lIB1vZ_"
      },
      "execution_count": null,
      "outputs": []
    },
    {
      "cell_type": "code",
      "source": [
        "df_india = pd.read_pickle(df_india_path)\n",
        "df_ispeaks = pd.read_pickle(df_ispeaks_path)\n",
        "merged = pd.concat([df_india, df_ispeaks])\n",
        "merged.head()"
      ],
      "metadata": {
        "colab": {
          "base_uri": "https://localhost:8080/",
          "height": 369
        },
        "id": "m88z0sZK1zZz",
        "outputId": "c0cfc157-8899-4f9f-cd6c-2926b03552f8"
      },
      "execution_count": null,
      "outputs": [
        {
          "output_type": "execute_result",
          "data": {
            "text/plain": [
              "  all_awardings allow_live_comments                author  \\\n",
              "0            []               False     InternetFreedomIn   \n",
              "1            []               False           adam0010101   \n",
              "2            []               False  MaharajadhirajaSawai   \n",
              "3            []               False     InternetFreedomIn   \n",
              "4            []               False         wanderingmind   \n",
              "\n",
              "  author_flair_background_color author_flair_css_class  \\\n",
              "0                   transparent                   None   \n",
              "1                           NaN                   None   \n",
              "2                           NaN                   None   \n",
              "3                   transparent                   None   \n",
              "4                           NaN                    goa   \n",
              "\n",
              "                               author_flair_richtext  \\\n",
              "0  [{'a': ':iff:', 'e': 'emoji', 'u': 'https://em...   \n",
              "1                                                 []   \n",
              "2                                                 []   \n",
              "3  [{'a': ':iff:', 'e': 'emoji', 'u': 'https://em...   \n",
              "4  [{'e': 'text', 't': 'I for one welcome my Hind...   \n",
              "\n",
              "               author_flair_template_id  \\\n",
              "0  b9166d2c-7935-11eb-9eca-0ebf9c183c69   \n",
              "1                                   NaN   \n",
              "2                                   NaN   \n",
              "3  b9166d2c-7935-11eb-9eca-0ebf9c183c69   \n",
              "4  23313f6e-43a0-11e6-b174-0e8e685ef98b   \n",
              "\n",
              "                         author_flair_text author_flair_text_color  \\\n",
              "0        :iff: Internet Freedom Foundation                   light   \n",
              "1                                     None                     NaN   \n",
              "2                                     None                     NaN   \n",
              "3        :iff: Internet Freedom Foundation                   light   \n",
              "4  I for one welcome my Hindutva overlords                    dark   \n",
              "\n",
              "  author_flair_type  ... brand_safe suggested_sort view_count distinguished  \\\n",
              "0          richtext  ...        NaN            NaN        NaN           NaN   \n",
              "1              text  ...        NaN            NaN        NaN           NaN   \n",
              "2              text  ...        NaN            NaN        NaN           NaN   \n",
              "3          richtext  ...        NaN            NaN        NaN           NaN   \n",
              "4          richtext  ...        NaN            NaN        NaN           NaN   \n",
              "\n",
              "  author_id gallery_data is_gallery  crosspost_parent crosspost_parent_list  \\\n",
              "0       NaN          NaN        NaN               NaN                   NaN   \n",
              "1       NaN          NaN        NaN               NaN                   NaN   \n",
              "2       NaN          NaN        NaN               NaN                   NaN   \n",
              "3       NaN          NaN        NaN               NaN                   NaN   \n",
              "4       NaN          NaN        NaN               NaN                   NaN   \n",
              "\n",
              "  banned_by  \n",
              "0       NaN  \n",
              "1       NaN  \n",
              "2       NaN  \n",
              "3       NaN  \n",
              "4       NaN  \n",
              "\n",
              "[5 rows x 97 columns]"
            ],
            "text/html": [
              "\n",
              "  <div id=\"df-96d68674-1761-4cb8-8d56-b53bed4028d9\">\n",
              "    <div class=\"colab-df-container\">\n",
              "      <div>\n",
              "<style scoped>\n",
              "    .dataframe tbody tr th:only-of-type {\n",
              "        vertical-align: middle;\n",
              "    }\n",
              "\n",
              "    .dataframe tbody tr th {\n",
              "        vertical-align: top;\n",
              "    }\n",
              "\n",
              "    .dataframe thead th {\n",
              "        text-align: right;\n",
              "    }\n",
              "</style>\n",
              "<table border=\"1\" class=\"dataframe\">\n",
              "  <thead>\n",
              "    <tr style=\"text-align: right;\">\n",
              "      <th></th>\n",
              "      <th>all_awardings</th>\n",
              "      <th>allow_live_comments</th>\n",
              "      <th>author</th>\n",
              "      <th>author_flair_background_color</th>\n",
              "      <th>author_flair_css_class</th>\n",
              "      <th>author_flair_richtext</th>\n",
              "      <th>author_flair_template_id</th>\n",
              "      <th>author_flair_text</th>\n",
              "      <th>author_flair_text_color</th>\n",
              "      <th>author_flair_type</th>\n",
              "      <th>...</th>\n",
              "      <th>brand_safe</th>\n",
              "      <th>suggested_sort</th>\n",
              "      <th>view_count</th>\n",
              "      <th>distinguished</th>\n",
              "      <th>author_id</th>\n",
              "      <th>gallery_data</th>\n",
              "      <th>is_gallery</th>\n",
              "      <th>crosspost_parent</th>\n",
              "      <th>crosspost_parent_list</th>\n",
              "      <th>banned_by</th>\n",
              "    </tr>\n",
              "  </thead>\n",
              "  <tbody>\n",
              "    <tr>\n",
              "      <th>0</th>\n",
              "      <td>[]</td>\n",
              "      <td>False</td>\n",
              "      <td>InternetFreedomIn</td>\n",
              "      <td>transparent</td>\n",
              "      <td>None</td>\n",
              "      <td>[{'a': ':iff:', 'e': 'emoji', 'u': 'https://em...</td>\n",
              "      <td>b9166d2c-7935-11eb-9eca-0ebf9c183c69</td>\n",
              "      <td>:iff: Internet Freedom Foundation</td>\n",
              "      <td>light</td>\n",
              "      <td>richtext</td>\n",
              "      <td>...</td>\n",
              "      <td>NaN</td>\n",
              "      <td>NaN</td>\n",
              "      <td>NaN</td>\n",
              "      <td>NaN</td>\n",
              "      <td>NaN</td>\n",
              "      <td>NaN</td>\n",
              "      <td>NaN</td>\n",
              "      <td>NaN</td>\n",
              "      <td>NaN</td>\n",
              "      <td>NaN</td>\n",
              "    </tr>\n",
              "    <tr>\n",
              "      <th>1</th>\n",
              "      <td>[]</td>\n",
              "      <td>False</td>\n",
              "      <td>adam0010101</td>\n",
              "      <td>NaN</td>\n",
              "      <td>None</td>\n",
              "      <td>[]</td>\n",
              "      <td>NaN</td>\n",
              "      <td>None</td>\n",
              "      <td>NaN</td>\n",
              "      <td>text</td>\n",
              "      <td>...</td>\n",
              "      <td>NaN</td>\n",
              "      <td>NaN</td>\n",
              "      <td>NaN</td>\n",
              "      <td>NaN</td>\n",
              "      <td>NaN</td>\n",
              "      <td>NaN</td>\n",
              "      <td>NaN</td>\n",
              "      <td>NaN</td>\n",
              "      <td>NaN</td>\n",
              "      <td>NaN</td>\n",
              "    </tr>\n",
              "    <tr>\n",
              "      <th>2</th>\n",
              "      <td>[]</td>\n",
              "      <td>False</td>\n",
              "      <td>MaharajadhirajaSawai</td>\n",
              "      <td>NaN</td>\n",
              "      <td>None</td>\n",
              "      <td>[]</td>\n",
              "      <td>NaN</td>\n",
              "      <td>None</td>\n",
              "      <td>NaN</td>\n",
              "      <td>text</td>\n",
              "      <td>...</td>\n",
              "      <td>NaN</td>\n",
              "      <td>NaN</td>\n",
              "      <td>NaN</td>\n",
              "      <td>NaN</td>\n",
              "      <td>NaN</td>\n",
              "      <td>NaN</td>\n",
              "      <td>NaN</td>\n",
              "      <td>NaN</td>\n",
              "      <td>NaN</td>\n",
              "      <td>NaN</td>\n",
              "    </tr>\n",
              "    <tr>\n",
              "      <th>3</th>\n",
              "      <td>[]</td>\n",
              "      <td>False</td>\n",
              "      <td>InternetFreedomIn</td>\n",
              "      <td>transparent</td>\n",
              "      <td>None</td>\n",
              "      <td>[{'a': ':iff:', 'e': 'emoji', 'u': 'https://em...</td>\n",
              "      <td>b9166d2c-7935-11eb-9eca-0ebf9c183c69</td>\n",
              "      <td>:iff: Internet Freedom Foundation</td>\n",
              "      <td>light</td>\n",
              "      <td>richtext</td>\n",
              "      <td>...</td>\n",
              "      <td>NaN</td>\n",
              "      <td>NaN</td>\n",
              "      <td>NaN</td>\n",
              "      <td>NaN</td>\n",
              "      <td>NaN</td>\n",
              "      <td>NaN</td>\n",
              "      <td>NaN</td>\n",
              "      <td>NaN</td>\n",
              "      <td>NaN</td>\n",
              "      <td>NaN</td>\n",
              "    </tr>\n",
              "    <tr>\n",
              "      <th>4</th>\n",
              "      <td>[]</td>\n",
              "      <td>False</td>\n",
              "      <td>wanderingmind</td>\n",
              "      <td>NaN</td>\n",
              "      <td>goa</td>\n",
              "      <td>[{'e': 'text', 't': 'I for one welcome my Hind...</td>\n",
              "      <td>23313f6e-43a0-11e6-b174-0e8e685ef98b</td>\n",
              "      <td>I for one welcome my Hindutva overlords</td>\n",
              "      <td>dark</td>\n",
              "      <td>richtext</td>\n",
              "      <td>...</td>\n",
              "      <td>NaN</td>\n",
              "      <td>NaN</td>\n",
              "      <td>NaN</td>\n",
              "      <td>NaN</td>\n",
              "      <td>NaN</td>\n",
              "      <td>NaN</td>\n",
              "      <td>NaN</td>\n",
              "      <td>NaN</td>\n",
              "      <td>NaN</td>\n",
              "      <td>NaN</td>\n",
              "    </tr>\n",
              "  </tbody>\n",
              "</table>\n",
              "<p>5 rows × 97 columns</p>\n",
              "</div>\n",
              "      <button class=\"colab-df-convert\" onclick=\"convertToInteractive('df-96d68674-1761-4cb8-8d56-b53bed4028d9')\"\n",
              "              title=\"Convert this dataframe to an interactive table.\"\n",
              "              style=\"display:none;\">\n",
              "        \n",
              "  <svg xmlns=\"http://www.w3.org/2000/svg\" height=\"24px\"viewBox=\"0 0 24 24\"\n",
              "       width=\"24px\">\n",
              "    <path d=\"M0 0h24v24H0V0z\" fill=\"none\"/>\n",
              "    <path d=\"M18.56 5.44l.94 2.06.94-2.06 2.06-.94-2.06-.94-.94-2.06-.94 2.06-2.06.94zm-11 1L8.5 8.5l.94-2.06 2.06-.94-2.06-.94L8.5 2.5l-.94 2.06-2.06.94zm10 10l.94 2.06.94-2.06 2.06-.94-2.06-.94-.94-2.06-.94 2.06-2.06.94z\"/><path d=\"M17.41 7.96l-1.37-1.37c-.4-.4-.92-.59-1.43-.59-.52 0-1.04.2-1.43.59L10.3 9.45l-7.72 7.72c-.78.78-.78 2.05 0 2.83L4 21.41c.39.39.9.59 1.41.59.51 0 1.02-.2 1.41-.59l7.78-7.78 2.81-2.81c.8-.78.8-2.07 0-2.86zM5.41 20L4 18.59l7.72-7.72 1.47 1.35L5.41 20z\"/>\n",
              "  </svg>\n",
              "      </button>\n",
              "      \n",
              "  <style>\n",
              "    .colab-df-container {\n",
              "      display:flex;\n",
              "      flex-wrap:wrap;\n",
              "      gap: 12px;\n",
              "    }\n",
              "\n",
              "    .colab-df-convert {\n",
              "      background-color: #E8F0FE;\n",
              "      border: none;\n",
              "      border-radius: 50%;\n",
              "      cursor: pointer;\n",
              "      display: none;\n",
              "      fill: #1967D2;\n",
              "      height: 32px;\n",
              "      padding: 0 0 0 0;\n",
              "      width: 32px;\n",
              "    }\n",
              "\n",
              "    .colab-df-convert:hover {\n",
              "      background-color: #E2EBFA;\n",
              "      box-shadow: 0px 1px 2px rgba(60, 64, 67, 0.3), 0px 1px 3px 1px rgba(60, 64, 67, 0.15);\n",
              "      fill: #174EA6;\n",
              "    }\n",
              "\n",
              "    [theme=dark] .colab-df-convert {\n",
              "      background-color: #3B4455;\n",
              "      fill: #D2E3FC;\n",
              "    }\n",
              "\n",
              "    [theme=dark] .colab-df-convert:hover {\n",
              "      background-color: #434B5C;\n",
              "      box-shadow: 0px 1px 3px 1px rgba(0, 0, 0, 0.15);\n",
              "      filter: drop-shadow(0px 1px 2px rgba(0, 0, 0, 0.3));\n",
              "      fill: #FFFFFF;\n",
              "    }\n",
              "  </style>\n",
              "\n",
              "      <script>\n",
              "        const buttonEl =\n",
              "          document.querySelector('#df-96d68674-1761-4cb8-8d56-b53bed4028d9 button.colab-df-convert');\n",
              "        buttonEl.style.display =\n",
              "          google.colab.kernel.accessAllowed ? 'block' : 'none';\n",
              "\n",
              "        async function convertToInteractive(key) {\n",
              "          const element = document.querySelector('#df-96d68674-1761-4cb8-8d56-b53bed4028d9');\n",
              "          const dataTable =\n",
              "            await google.colab.kernel.invokeFunction('convertToInteractive',\n",
              "                                                     [key], {});\n",
              "          if (!dataTable) return;\n",
              "\n",
              "          const docLinkHtml = 'Like what you see? Visit the ' +\n",
              "            '<a target=\"_blank\" href=https://colab.research.google.com/notebooks/data_table.ipynb>data table notebook</a>'\n",
              "            + ' to learn more about interactive tables.';\n",
              "          element.innerHTML = '';\n",
              "          dataTable['output_type'] = 'display_data';\n",
              "          await google.colab.output.renderOutput(dataTable, element);\n",
              "          const docLink = document.createElement('div');\n",
              "          docLink.innerHTML = docLinkHtml;\n",
              "          element.appendChild(docLink);\n",
              "        }\n",
              "      </script>\n",
              "    </div>\n",
              "  </div>\n",
              "  "
            ]
          },
          "metadata": {},
          "execution_count": 14
        }
      ]
    },
    {
      "cell_type": "code",
      "source": [
        "merged.info()"
      ],
      "metadata": {
        "colab": {
          "base_uri": "https://localhost:8080/"
        },
        "id": "xg05Np_U40Gs",
        "outputId": "781bc2df-826f-4f32-8c30-ecb85f1e985b"
      },
      "execution_count": null,
      "outputs": [
        {
          "output_type": "stream",
          "name": "stdout",
          "text": [
            "<class 'pandas.core.frame.DataFrame'>\n",
            "Int64Index: 2073 entries, 0 to 2095\n",
            "Data columns (total 97 columns):\n",
            " #   Column                         Non-Null Count  Dtype  \n",
            "---  ------                         --------------  -----  \n",
            " 0   all_awardings                  1672 non-null   object \n",
            " 1   allow_live_comments            1659 non-null   object \n",
            " 2   author                         2073 non-null   object \n",
            " 3   author_flair_background_color  662 non-null    object \n",
            " 4   author_flair_css_class         248 non-null    object \n",
            " 5   author_flair_richtext          1753 non-null   object \n",
            " 6   author_flair_template_id       670 non-null    object \n",
            " 7   author_flair_text              783 non-null    object \n",
            " 8   author_flair_text_color        714 non-null    object \n",
            " 9   author_flair_type              1753 non-null   object \n",
            " 10  author_fullname                1939 non-null   object \n",
            " 11  author_is_blocked              1118 non-null   object \n",
            " 12  author_patreon_flair           1704 non-null   object \n",
            " 13  author_premium                 1599 non-null   object \n",
            " 14  awarders                       1635 non-null   object \n",
            " 15  can_mod_post                   1815 non-null   object \n",
            " 16  contest_mode                   1876 non-null   object \n",
            " 17  created_utc                    2073 non-null   int64  \n",
            " 18  domain                         2073 non-null   object \n",
            " 19  full_link                      2073 non-null   object \n",
            " 20  gildings                       1718 non-null   object \n",
            " 21  id                             2073 non-null   object \n",
            " 22  is_created_from_ads_ui         1284 non-null   object \n",
            " 23  is_crosspostable               1790 non-null   object \n",
            " 24  is_meta                        1728 non-null   object \n",
            " 25  is_original_content            1750 non-null   object \n",
            " 26  is_reddit_media_domain         1779 non-null   object \n",
            " 27  is_robot_indexable             1718 non-null   object \n",
            " 28  is_self                        2073 non-null   bool   \n",
            " 29  is_video                       1824 non-null   object \n",
            " 30  link_flair_background_color    1758 non-null   object \n",
            " 31  link_flair_css_class           1998 non-null   object \n",
            " 32  link_flair_richtext            1763 non-null   object \n",
            " 33  link_flair_template_id         1680 non-null   object \n",
            " 34  link_flair_text                1999 non-null   object \n",
            " 35  link_flair_text_color          1763 non-null   object \n",
            " 36  link_flair_type                1763 non-null   object \n",
            " 37  locked                         1987 non-null   object \n",
            " 38  media_metadata                 94 non-null     object \n",
            " 39  media_only                     1734 non-null   object \n",
            " 40  no_follow                      1755 non-null   object \n",
            " 41  num_comments                   2073 non-null   int64  \n",
            " 42  num_crossposts                 1790 non-null   float64\n",
            " 43  over_18                        2073 non-null   bool   \n",
            " 44  parent_whitelist_status        1794 non-null   object \n",
            " 45  permalink                      2073 non-null   object \n",
            " 46  pinned                         1784 non-null   object \n",
            " 47  post_hint                      1182 non-null   object \n",
            " 48  preview                        1182 non-null   object \n",
            " 49  pwls                           1741 non-null   float64\n",
            " 50  retrieved_on                   2073 non-null   int64  \n",
            " 51  score                          2073 non-null   int64  \n",
            " 52  selftext                       2072 non-null   object \n",
            " 53  send_replies                   1755 non-null   object \n",
            " 54  spoiler                        1867 non-null   object \n",
            " 55  stickied                       2073 non-null   bool   \n",
            " 56  subreddit                      2073 non-null   object \n",
            " 57  subreddit_id                   2073 non-null   object \n",
            " 58  subreddit_subscribers          1754 non-null   float64\n",
            " 59  subreddit_type                 1770 non-null   object \n",
            " 60  thumbnail                      2073 non-null   object \n",
            " 61  thumbnail_height               1076 non-null   float64\n",
            " 62  thumbnail_width                1076 non-null   float64\n",
            " 63  title                          2073 non-null   object \n",
            " 64  total_awards_received          1672 non-null   float64\n",
            " 65  treatment_tags                 1537 non-null   object \n",
            " 66  upvote_ratio                   1523 non-null   float64\n",
            " 67  url                            2073 non-null   object \n",
            " 68  whitelist_status               1794 non-null   object \n",
            " 69  wls                            1741 non-null   float64\n",
            " 70  edited                         138 non-null    float64\n",
            " 71  author_cakeday                 7 non-null      object \n",
            " 72  removed_by_category            248 non-null    object \n",
            " 73  url_overridden_by_dest         1072 non-null   object \n",
            " 74  media                          122 non-null    object \n",
            " 75  media_embed                    387 non-null    object \n",
            " 76  secure_media                   122 non-null    object \n",
            " 77  secure_media_embed             387 non-null    object \n",
            " 78  updated_utc                    69 non-null     float64\n",
            " 79  steward_reports                64 non-null     object \n",
            " 80  og_description                 2 non-null      object \n",
            " 81  og_title                       2 non-null      object \n",
            " 82  gilded                         317 non-null    float64\n",
            " 83  rte_mode                       40 non-null     object \n",
            " 84  approved_at_utc                0 non-null      float64\n",
            " 85  author_created_utc             227 non-null    float64\n",
            " 86  banned_at_utc                  0 non-null      float64\n",
            " 87  brand_safe                     108 non-null    object \n",
            " 88  suggested_sort                 1217 non-null   object \n",
            " 89  view_count                     0 non-null      float64\n",
            " 90  distinguished                  4 non-null      object \n",
            " 91  author_id                      1 non-null      object \n",
            " 92  gallery_data                   30 non-null     object \n",
            " 93  is_gallery                     38 non-null     object \n",
            " 94  crosspost_parent               108 non-null    object \n",
            " 95  crosspost_parent_list          108 non-null    object \n",
            " 96  banned_by                      1 non-null      object \n",
            "dtypes: bool(3), float64(15), int64(4), object(75)\n",
            "memory usage: 1.5+ MB\n"
          ]
        }
      ]
    },
    {
      "cell_type": "markdown",
      "source": [
        "##Reduce Dataset\n",
        "\n",
        "We have a staggering 97 columns of data, ranging from very important textual attributes, to scores and number of comments per post, to trivial internal reddit metadata. Below, I select 17 important columns that we may require in the future for our exploratory data analysis:\n",
        "\n",
        "| Fields                  \t|\n",
        "|-------------------------\t|\n",
        "| 'author',               \t|\n",
        "|  'created_utc',         \t|\n",
        "|  'full_link',           \t|\n",
        "|  'id',                  \t|\n",
        "|  'is_original_content', \t|\n",
        "|  'is_self',             \t|\n",
        "|  'is_video',            \t|\n",
        "|  'link_flair_text',     \t|\n",
        "|  'num_comments',        \t|\n",
        "|  'over_18',             \t|\n",
        "|  'score',               \t|\n",
        "|  'selftext',            \t|\n",
        "|  'send_replies',        \t|\n",
        "|  'subreddit',           \t|\n",
        "|  'title',               \t|\n",
        "|  'upvote_ratio',        \t|\n",
        "|  'url'                  \t|"
      ],
      "metadata": {
        "id": "JG-4QdtLQkmE"
      }
    },
    {
      "cell_type": "code",
      "source": [
        "df_reduced = merged[[\"author\",\"created_utc\",\"full_link\",\"id\",\"is_original_content\",\"is_self\",\"is_video\",\"link_flair_text\",\"num_comments\",\"over_18\",\"score\",\"selftext\",\"send_replies\",\"subreddit\",\"title\",\"upvote_ratio\",\"url\"]]"
      ],
      "metadata": {
        "id": "iJYmUaEc71yz"
      },
      "execution_count": null,
      "outputs": []
    },
    {
      "cell_type": "code",
      "source": [
        "df_reduced.head()"
      ],
      "metadata": {
        "colab": {
          "base_uri": "https://localhost:8080/",
          "height": 686
        },
        "id": "tf7m0tB_fi6h",
        "outputId": "c988ae96-8159-4fd7-d95f-36fdb7830fff"
      },
      "execution_count": null,
      "outputs": [
        {
          "output_type": "execute_result",
          "data": {
            "text/plain": [
              "                 author  created_utc  \\\n",
              "0     InternetFreedomIn   1628168541   \n",
              "1           adam0010101   1628452706   \n",
              "2  MaharajadhirajaSawai   1629126680   \n",
              "3     InternetFreedomIn   1627026319   \n",
              "4         wanderingmind   1628683922   \n",
              "\n",
              "                                           full_link      id  \\\n",
              "0  https://www.reddit.com/r/india/comments/oyh2uq...  oyh2uq   \n",
              "1  https://www.reddit.com/r/india/comments/p0lpok...  p0lpok   \n",
              "2  https://www.reddit.com/r/india/comments/p5i0b6...  p5i0b6   \n",
              "3  https://www.reddit.com/r/india/comments/opxkgc...  opxkgc   \n",
              "4  https://www.reddit.com/r/india/comments/p2btn6...  p2btn6   \n",
              "\n",
              "  is_original_content  is_self is_video link_flair_text  num_comments  \\\n",
              "0               False     True    False  Policy/Economy             0   \n",
              "1               False     True    False        Politics             0   \n",
              "2               False     True    False        History              9   \n",
              "3               False     True    False  Policy/Economy            11   \n",
              "4               False     True    False   Non-Political            17   \n",
              "\n",
              "   over_18  score                                           selftext  \\\n",
              "0    False      1  &amp;#x200B;\\n\\nhttps://preview.redd.it/2vkmxg...   \n",
              "1    False      1  Despite India’s many social divisions, based o...   \n",
              "2    False      1  I'll make it clear at the very beginning, my i...   \n",
              "3    False      1  &amp;#x200B;\\n\\nhttps://preview.redd.it/ogjw20...   \n",
              "4    False      1  Barking dogs are a problem for those who want ...   \n",
              "\n",
              "  send_replies subreddit                                              title  \\\n",
              "0         True     india  #4 Cybersec Charcha: A Global overview of the ...   \n",
              "1         True     india    Indian social divisions and political redresses   \n",
              "2         True     india  My critique of The Carvaka Podcast's Warhorse ...   \n",
              "3         True     india  Dear Standing Committee, We Have Some Question...   \n",
              "4         True     india  Barking, biting stray dogs, hypocritical dog-l...   \n",
              "\n",
              "   upvote_ratio                                                url  \n",
              "0           1.0  https://www.reddit.com/r/india/comments/oyh2uq...  \n",
              "1           1.0  https://www.reddit.com/r/india/comments/p0lpok...  \n",
              "2           1.0  https://www.reddit.com/r/india/comments/p5i0b6...  \n",
              "3           1.0  https://www.reddit.com/r/india/comments/opxkgc...  \n",
              "4           1.0  https://www.reddit.com/r/india/comments/p2btn6...  "
            ],
            "text/html": [
              "\n",
              "  <div id=\"df-522b39d1-6f48-47a6-9eb4-460caa02048c\">\n",
              "    <div class=\"colab-df-container\">\n",
              "      <div>\n",
              "<style scoped>\n",
              "    .dataframe tbody tr th:only-of-type {\n",
              "        vertical-align: middle;\n",
              "    }\n",
              "\n",
              "    .dataframe tbody tr th {\n",
              "        vertical-align: top;\n",
              "    }\n",
              "\n",
              "    .dataframe thead th {\n",
              "        text-align: right;\n",
              "    }\n",
              "</style>\n",
              "<table border=\"1\" class=\"dataframe\">\n",
              "  <thead>\n",
              "    <tr style=\"text-align: right;\">\n",
              "      <th></th>\n",
              "      <th>author</th>\n",
              "      <th>created_utc</th>\n",
              "      <th>full_link</th>\n",
              "      <th>id</th>\n",
              "      <th>is_original_content</th>\n",
              "      <th>is_self</th>\n",
              "      <th>is_video</th>\n",
              "      <th>link_flair_text</th>\n",
              "      <th>num_comments</th>\n",
              "      <th>over_18</th>\n",
              "      <th>score</th>\n",
              "      <th>selftext</th>\n",
              "      <th>send_replies</th>\n",
              "      <th>subreddit</th>\n",
              "      <th>title</th>\n",
              "      <th>upvote_ratio</th>\n",
              "      <th>url</th>\n",
              "    </tr>\n",
              "  </thead>\n",
              "  <tbody>\n",
              "    <tr>\n",
              "      <th>0</th>\n",
              "      <td>InternetFreedomIn</td>\n",
              "      <td>1628168541</td>\n",
              "      <td>https://www.reddit.com/r/india/comments/oyh2uq...</td>\n",
              "      <td>oyh2uq</td>\n",
              "      <td>False</td>\n",
              "      <td>True</td>\n",
              "      <td>False</td>\n",
              "      <td>Policy/Economy</td>\n",
              "      <td>0</td>\n",
              "      <td>False</td>\n",
              "      <td>1</td>\n",
              "      <td>&amp;amp;#x200B;\\n\\nhttps://preview.redd.it/2vkmxg...</td>\n",
              "      <td>True</td>\n",
              "      <td>india</td>\n",
              "      <td>#4 Cybersec Charcha: A Global overview of the ...</td>\n",
              "      <td>1.0</td>\n",
              "      <td>https://www.reddit.com/r/india/comments/oyh2uq...</td>\n",
              "    </tr>\n",
              "    <tr>\n",
              "      <th>1</th>\n",
              "      <td>adam0010101</td>\n",
              "      <td>1628452706</td>\n",
              "      <td>https://www.reddit.com/r/india/comments/p0lpok...</td>\n",
              "      <td>p0lpok</td>\n",
              "      <td>False</td>\n",
              "      <td>True</td>\n",
              "      <td>False</td>\n",
              "      <td>Politics</td>\n",
              "      <td>0</td>\n",
              "      <td>False</td>\n",
              "      <td>1</td>\n",
              "      <td>Despite India’s many social divisions, based o...</td>\n",
              "      <td>True</td>\n",
              "      <td>india</td>\n",
              "      <td>Indian social divisions and political redresses</td>\n",
              "      <td>1.0</td>\n",
              "      <td>https://www.reddit.com/r/india/comments/p0lpok...</td>\n",
              "    </tr>\n",
              "    <tr>\n",
              "      <th>2</th>\n",
              "      <td>MaharajadhirajaSawai</td>\n",
              "      <td>1629126680</td>\n",
              "      <td>https://www.reddit.com/r/india/comments/p5i0b6...</td>\n",
              "      <td>p5i0b6</td>\n",
              "      <td>False</td>\n",
              "      <td>True</td>\n",
              "      <td>False</td>\n",
              "      <td>History</td>\n",
              "      <td>9</td>\n",
              "      <td>False</td>\n",
              "      <td>1</td>\n",
              "      <td>I'll make it clear at the very beginning, my i...</td>\n",
              "      <td>True</td>\n",
              "      <td>india</td>\n",
              "      <td>My critique of The Carvaka Podcast's Warhorse ...</td>\n",
              "      <td>1.0</td>\n",
              "      <td>https://www.reddit.com/r/india/comments/p5i0b6...</td>\n",
              "    </tr>\n",
              "    <tr>\n",
              "      <th>3</th>\n",
              "      <td>InternetFreedomIn</td>\n",
              "      <td>1627026319</td>\n",
              "      <td>https://www.reddit.com/r/india/comments/opxkgc...</td>\n",
              "      <td>opxkgc</td>\n",
              "      <td>False</td>\n",
              "      <td>True</td>\n",
              "      <td>False</td>\n",
              "      <td>Policy/Economy</td>\n",
              "      <td>11</td>\n",
              "      <td>False</td>\n",
              "      <td>1</td>\n",
              "      <td>&amp;amp;#x200B;\\n\\nhttps://preview.redd.it/ogjw20...</td>\n",
              "      <td>True</td>\n",
              "      <td>india</td>\n",
              "      <td>Dear Standing Committee, We Have Some Question...</td>\n",
              "      <td>1.0</td>\n",
              "      <td>https://www.reddit.com/r/india/comments/opxkgc...</td>\n",
              "    </tr>\n",
              "    <tr>\n",
              "      <th>4</th>\n",
              "      <td>wanderingmind</td>\n",
              "      <td>1628683922</td>\n",
              "      <td>https://www.reddit.com/r/india/comments/p2btn6...</td>\n",
              "      <td>p2btn6</td>\n",
              "      <td>False</td>\n",
              "      <td>True</td>\n",
              "      <td>False</td>\n",
              "      <td>Non-Political</td>\n",
              "      <td>17</td>\n",
              "      <td>False</td>\n",
              "      <td>1</td>\n",
              "      <td>Barking dogs are a problem for those who want ...</td>\n",
              "      <td>True</td>\n",
              "      <td>india</td>\n",
              "      <td>Barking, biting stray dogs, hypocritical dog-l...</td>\n",
              "      <td>1.0</td>\n",
              "      <td>https://www.reddit.com/r/india/comments/p2btn6...</td>\n",
              "    </tr>\n",
              "  </tbody>\n",
              "</table>\n",
              "</div>\n",
              "      <button class=\"colab-df-convert\" onclick=\"convertToInteractive('df-522b39d1-6f48-47a6-9eb4-460caa02048c')\"\n",
              "              title=\"Convert this dataframe to an interactive table.\"\n",
              "              style=\"display:none;\">\n",
              "        \n",
              "  <svg xmlns=\"http://www.w3.org/2000/svg\" height=\"24px\"viewBox=\"0 0 24 24\"\n",
              "       width=\"24px\">\n",
              "    <path d=\"M0 0h24v24H0V0z\" fill=\"none\"/>\n",
              "    <path d=\"M18.56 5.44l.94 2.06.94-2.06 2.06-.94-2.06-.94-.94-2.06-.94 2.06-2.06.94zm-11 1L8.5 8.5l.94-2.06 2.06-.94-2.06-.94L8.5 2.5l-.94 2.06-2.06.94zm10 10l.94 2.06.94-2.06 2.06-.94-2.06-.94-.94-2.06-.94 2.06-2.06.94z\"/><path d=\"M17.41 7.96l-1.37-1.37c-.4-.4-.92-.59-1.43-.59-.52 0-1.04.2-1.43.59L10.3 9.45l-7.72 7.72c-.78.78-.78 2.05 0 2.83L4 21.41c.39.39.9.59 1.41.59.51 0 1.02-.2 1.41-.59l7.78-7.78 2.81-2.81c.8-.78.8-2.07 0-2.86zM5.41 20L4 18.59l7.72-7.72 1.47 1.35L5.41 20z\"/>\n",
              "  </svg>\n",
              "      </button>\n",
              "      \n",
              "  <style>\n",
              "    .colab-df-container {\n",
              "      display:flex;\n",
              "      flex-wrap:wrap;\n",
              "      gap: 12px;\n",
              "    }\n",
              "\n",
              "    .colab-df-convert {\n",
              "      background-color: #E8F0FE;\n",
              "      border: none;\n",
              "      border-radius: 50%;\n",
              "      cursor: pointer;\n",
              "      display: none;\n",
              "      fill: #1967D2;\n",
              "      height: 32px;\n",
              "      padding: 0 0 0 0;\n",
              "      width: 32px;\n",
              "    }\n",
              "\n",
              "    .colab-df-convert:hover {\n",
              "      background-color: #E2EBFA;\n",
              "      box-shadow: 0px 1px 2px rgba(60, 64, 67, 0.3), 0px 1px 3px 1px rgba(60, 64, 67, 0.15);\n",
              "      fill: #174EA6;\n",
              "    }\n",
              "\n",
              "    [theme=dark] .colab-df-convert {\n",
              "      background-color: #3B4455;\n",
              "      fill: #D2E3FC;\n",
              "    }\n",
              "\n",
              "    [theme=dark] .colab-df-convert:hover {\n",
              "      background-color: #434B5C;\n",
              "      box-shadow: 0px 1px 3px 1px rgba(0, 0, 0, 0.15);\n",
              "      filter: drop-shadow(0px 1px 2px rgba(0, 0, 0, 0.3));\n",
              "      fill: #FFFFFF;\n",
              "    }\n",
              "  </style>\n",
              "\n",
              "      <script>\n",
              "        const buttonEl =\n",
              "          document.querySelector('#df-522b39d1-6f48-47a6-9eb4-460caa02048c button.colab-df-convert');\n",
              "        buttonEl.style.display =\n",
              "          google.colab.kernel.accessAllowed ? 'block' : 'none';\n",
              "\n",
              "        async function convertToInteractive(key) {\n",
              "          const element = document.querySelector('#df-522b39d1-6f48-47a6-9eb4-460caa02048c');\n",
              "          const dataTable =\n",
              "            await google.colab.kernel.invokeFunction('convertToInteractive',\n",
              "                                                     [key], {});\n",
              "          if (!dataTable) return;\n",
              "\n",
              "          const docLinkHtml = 'Like what you see? Visit the ' +\n",
              "            '<a target=\"_blank\" href=https://colab.research.google.com/notebooks/data_table.ipynb>data table notebook</a>'\n",
              "            + ' to learn more about interactive tables.';\n",
              "          element.innerHTML = '';\n",
              "          dataTable['output_type'] = 'display_data';\n",
              "          await google.colab.output.renderOutput(dataTable, element);\n",
              "          const docLink = document.createElement('div');\n",
              "          docLink.innerHTML = docLinkHtml;\n",
              "          element.appendChild(docLink);\n",
              "        }\n",
              "      </script>\n",
              "    </div>\n",
              "  </div>\n",
              "  "
            ]
          },
          "metadata": {},
          "execution_count": 18
        }
      ]
    },
    {
      "cell_type": "code",
      "source": [
        "df_reduced.info()"
      ],
      "metadata": {
        "colab": {
          "base_uri": "https://localhost:8080/"
        },
        "id": "3lqudGmaf_yl",
        "outputId": "799f4c3f-106b-4d8e-95f7-1a5f9a4d5d18"
      },
      "execution_count": null,
      "outputs": [
        {
          "output_type": "stream",
          "name": "stdout",
          "text": [
            "<class 'pandas.core.frame.DataFrame'>\n",
            "Int64Index: 2073 entries, 0 to 2095\n",
            "Data columns (total 17 columns):\n",
            " #   Column               Non-Null Count  Dtype  \n",
            "---  ------               --------------  -----  \n",
            " 0   author               2073 non-null   object \n",
            " 1   created_utc          2073 non-null   int64  \n",
            " 2   full_link            2073 non-null   object \n",
            " 3   id                   2073 non-null   object \n",
            " 4   is_original_content  1750 non-null   object \n",
            " 5   is_self              2073 non-null   bool   \n",
            " 6   is_video             1824 non-null   object \n",
            " 7   link_flair_text      1999 non-null   object \n",
            " 8   num_comments         2073 non-null   int64  \n",
            " 9   over_18              2073 non-null   bool   \n",
            " 10  score                2073 non-null   int64  \n",
            " 11  selftext             2072 non-null   object \n",
            " 12  send_replies         1755 non-null   object \n",
            " 13  subreddit            2073 non-null   object \n",
            " 14  title                2073 non-null   object \n",
            " 15  upvote_ratio         1523 non-null   float64\n",
            " 16  url                  2073 non-null   object \n",
            "dtypes: bool(2), float64(1), int64(3), object(11)\n",
            "memory usage: 263.2+ KB\n"
          ]
        }
      ]
    },
    {
      "cell_type": "markdown",
      "source": [
        "##Fill Null Values\n",
        "\n",
        "The following fields have one or more null values:\n",
        "\n",
        "is_original_content, is_video, link_flair_text, selftext, send_replies, upvote_ratio\n",
        "\n",
        "One by one, we will fill these null values depending on the distribution of the non-null values"
      ],
      "metadata": {
        "id": "ZWC8YJzygfkf"
      }
    },
    {
      "cell_type": "code",
      "source": [
        "df_reduced[\"is_original_content\"].value_counts()"
      ],
      "metadata": {
        "colab": {
          "base_uri": "https://localhost:8080/"
        },
        "id": "f4vgz0KtgapJ",
        "outputId": "268b7403-fb54-4f5d-a802-27cfca64f168"
      },
      "execution_count": null,
      "outputs": [
        {
          "output_type": "execute_result",
          "data": {
            "text/plain": [
              "False    1719\n",
              "True       31\n",
              "Name: is_original_content, dtype: int64"
            ]
          },
          "metadata": {},
          "execution_count": 22
        }
      ]
    },
    {
      "cell_type": "markdown",
      "source": [
        "Since most are False, we can just do a simple forward fill for wherever there is a null value"
      ],
      "metadata": {
        "id": "LzUftxdaSTZ9"
      }
    },
    {
      "cell_type": "code",
      "source": [
        "df_reduced[\"is_original_content\"] = df_reduced[\"is_original_content\"].fillna(method=\"ffill\")"
      ],
      "metadata": {
        "colab": {
          "base_uri": "https://localhost:8080/"
        },
        "id": "u5yxpIxfhDRX",
        "outputId": "60b25a36-d3ec-4ef5-e138-3d9fcf82227c"
      },
      "execution_count": null,
      "outputs": [
        {
          "output_type": "stream",
          "name": "stderr",
          "text": [
            "/usr/local/lib/python3.7/dist-packages/ipykernel_launcher.py:1: SettingWithCopyWarning: \n",
            "A value is trying to be set on a copy of a slice from a DataFrame.\n",
            "Try using .loc[row_indexer,col_indexer] = value instead\n",
            "\n",
            "See the caveats in the documentation: https://pandas.pydata.org/pandas-docs/stable/user_guide/indexing.html#returning-a-view-versus-a-copy\n",
            "  \"\"\"Entry point for launching an IPython kernel.\n"
          ]
        }
      ]
    },
    {
      "cell_type": "code",
      "source": [
        "df_reduced.info()"
      ],
      "metadata": {
        "colab": {
          "base_uri": "https://localhost:8080/"
        },
        "id": "17MBg7G4huFB",
        "outputId": "b517540f-e60d-485d-c594-f6f3d1149f98"
      },
      "execution_count": null,
      "outputs": [
        {
          "output_type": "stream",
          "name": "stdout",
          "text": [
            "<class 'pandas.core.frame.DataFrame'>\n",
            "Int64Index: 2073 entries, 0 to 2095\n",
            "Data columns (total 17 columns):\n",
            " #   Column               Non-Null Count  Dtype  \n",
            "---  ------               --------------  -----  \n",
            " 0   author               2073 non-null   object \n",
            " 1   created_utc          2073 non-null   int64  \n",
            " 2   full_link            2073 non-null   object \n",
            " 3   id                   2073 non-null   object \n",
            " 4   is_original_content  2073 non-null   bool   \n",
            " 5   is_self              2073 non-null   bool   \n",
            " 6   is_video             1824 non-null   object \n",
            " 7   link_flair_text      1999 non-null   object \n",
            " 8   num_comments         2073 non-null   int64  \n",
            " 9   over_18              2073 non-null   bool   \n",
            " 10  score                2073 non-null   int64  \n",
            " 11  selftext             2072 non-null   object \n",
            " 12  send_replies         1755 non-null   object \n",
            " 13  subreddit            2073 non-null   object \n",
            " 14  title                2073 non-null   object \n",
            " 15  upvote_ratio         1523 non-null   float64\n",
            " 16  url                  2073 non-null   object \n",
            "dtypes: bool(3), float64(1), int64(3), object(10)\n",
            "memory usage: 249.0+ KB\n"
          ]
        }
      ]
    },
    {
      "cell_type": "code",
      "source": [
        "df_reduced[\"is_original_content\"].value_counts()"
      ],
      "metadata": {
        "colab": {
          "base_uri": "https://localhost:8080/"
        },
        "id": "LVjKElaOh5XJ",
        "outputId": "3c41ebf8-59e8-4ab0-c662-8d58e0ecc01e"
      },
      "execution_count": null,
      "outputs": [
        {
          "output_type": "execute_result",
          "data": {
            "text/plain": [
              "False    2042\n",
              "True       31\n",
              "Name: is_original_content, dtype: int64"
            ]
          },
          "metadata": {},
          "execution_count": 28
        }
      ]
    },
    {
      "cell_type": "code",
      "source": [
        "df_reduced[\"is_video\"].value_counts()"
      ],
      "metadata": {
        "colab": {
          "base_uri": "https://localhost:8080/"
        },
        "id": "yYilkneih-K3",
        "outputId": "dd8708e0-81bb-4b22-a6c7-e35c4efe87c3"
      },
      "execution_count": null,
      "outputs": [
        {
          "output_type": "execute_result",
          "data": {
            "text/plain": [
              "False    1713\n",
              "True      111\n",
              "Name: is_video, dtype: int64"
            ]
          },
          "metadata": {},
          "execution_count": 31
        }
      ]
    },
    {
      "cell_type": "code",
      "source": [
        "df_reduced[\"is_video\"] = df_reduced[\"is_video\"].fillna(method=\"ffill\")"
      ],
      "metadata": {
        "colab": {
          "base_uri": "https://localhost:8080/"
        },
        "id": "KvfBY4eKiFE_",
        "outputId": "1a72cbd8-946f-4b43-f2f7-62d4c524702b"
      },
      "execution_count": null,
      "outputs": [
        {
          "output_type": "stream",
          "name": "stderr",
          "text": [
            "/usr/local/lib/python3.7/dist-packages/ipykernel_launcher.py:1: SettingWithCopyWarning: \n",
            "A value is trying to be set on a copy of a slice from a DataFrame.\n",
            "Try using .loc[row_indexer,col_indexer] = value instead\n",
            "\n",
            "See the caveats in the documentation: https://pandas.pydata.org/pandas-docs/stable/user_guide/indexing.html#returning-a-view-versus-a-copy\n",
            "  \"\"\"Entry point for launching an IPython kernel.\n"
          ]
        }
      ]
    },
    {
      "cell_type": "code",
      "source": [
        "df_reduced[\"is_video\"].value_counts()"
      ],
      "metadata": {
        "colab": {
          "base_uri": "https://localhost:8080/"
        },
        "id": "b_mIFZ2fiMI1",
        "outputId": "287b8a07-5942-4082-a5c0-fae412f5ff70"
      },
      "execution_count": null,
      "outputs": [
        {
          "output_type": "execute_result",
          "data": {
            "text/plain": [
              "False    1962\n",
              "True      111\n",
              "Name: is_video, dtype: int64"
            ]
          },
          "metadata": {},
          "execution_count": 33
        }
      ]
    },
    {
      "cell_type": "code",
      "source": [
        "df_reduced[\"link_flair_text\"].value_counts()"
      ],
      "metadata": {
        "colab": {
          "base_uri": "https://localhost:8080/"
        },
        "id": "HYHNa2gsiUIL",
        "outputId": "354779f9-a090-4080-8dac-1f539ad19786"
      },
      "execution_count": null,
      "outputs": [
        {
          "output_type": "execute_result",
          "data": {
            "text/plain": [
              "#Social-Issues 🗨️           1216\n",
              "Non-Political                195\n",
              "AskIndia                     180\n",
              "Politics                     152\n",
              "Policy/Economy                72\n",
              "[R]eddiquette                 45\n",
              "Coronavirus                   25\n",
              "Rant / Vent                   19\n",
              "Non Political                 13\n",
              "Science/Technology            12\n",
              "Culture &amp; Heritage        11\n",
              "Law &amp; Courts              10\n",
              "Policy                         7\n",
              "Scheduled                      6\n",
              "History                        6\n",
              "Net Neutrality                 5\n",
              "Business/Finance               5\n",
              "Entertainment                  3\n",
              "Demonetization                 3\n",
              "Moderated                      2\n",
              "Food                           2\n",
              "Foreign Relations              1\n",
              "AMA                            1\n",
              "Science &amp; Technology       1\n",
              "| Low-effort Self Post |       1\n",
              "Crime                          1\n",
              "Technology                     1\n",
              "Memes/Satire (OC)              1\n",
              "CAA-NRC                        1\n",
              "Governance                     1\n",
              "Health/Environment             1\n",
              "Name: link_flair_text, dtype: int64"
            ]
          },
          "metadata": {},
          "execution_count": 34
        }
      ]
    },
    {
      "cell_type": "markdown",
      "source": [
        "We fill null values for flair text as \"NOFLAIR\""
      ],
      "metadata": {
        "id": "z5-1_g2sSj56"
      }
    },
    {
      "cell_type": "code",
      "source": [
        "df_reduced[\"link_flair_text\"] = df_reduced[\"link_flair_text\"].fillna(\"NOFLAIR\")"
      ],
      "metadata": {
        "colab": {
          "base_uri": "https://localhost:8080/"
        },
        "id": "w19JHrIoibXi",
        "outputId": "e18031e9-0b00-4522-9040-33789bc7223f"
      },
      "execution_count": null,
      "outputs": [
        {
          "output_type": "stream",
          "name": "stderr",
          "text": [
            "/usr/local/lib/python3.7/dist-packages/ipykernel_launcher.py:1: SettingWithCopyWarning: \n",
            "A value is trying to be set on a copy of a slice from a DataFrame.\n",
            "Try using .loc[row_indexer,col_indexer] = value instead\n",
            "\n",
            "See the caveats in the documentation: https://pandas.pydata.org/pandas-docs/stable/user_guide/indexing.html#returning-a-view-versus-a-copy\n",
            "  \"\"\"Entry point for launching an IPython kernel.\n"
          ]
        }
      ]
    },
    {
      "cell_type": "code",
      "source": [
        "df_reduced[\"selftext\"] = df_reduced[\"selftext\"].fillna(\"NOTEXT\")"
      ],
      "metadata": {
        "colab": {
          "base_uri": "https://localhost:8080/"
        },
        "id": "z7BeqQ4hiw_Q",
        "outputId": "dc3f1d41-9798-44ae-beb4-320793a7cde4"
      },
      "execution_count": null,
      "outputs": [
        {
          "output_type": "stream",
          "name": "stderr",
          "text": [
            "/usr/local/lib/python3.7/dist-packages/ipykernel_launcher.py:1: SettingWithCopyWarning: \n",
            "A value is trying to be set on a copy of a slice from a DataFrame.\n",
            "Try using .loc[row_indexer,col_indexer] = value instead\n",
            "\n",
            "See the caveats in the documentation: https://pandas.pydata.org/pandas-docs/stable/user_guide/indexing.html#returning-a-view-versus-a-copy\n",
            "  \"\"\"Entry point for launching an IPython kernel.\n"
          ]
        }
      ]
    },
    {
      "cell_type": "code",
      "source": [
        "df_reduced[\"send_replies\"].value_counts()"
      ],
      "metadata": {
        "colab": {
          "base_uri": "https://localhost:8080/"
        },
        "id": "0OGCAxfMjAC3",
        "outputId": "87e49e75-4fba-4d65-afa8-31080ad82c18"
      },
      "execution_count": null,
      "outputs": [
        {
          "output_type": "execute_result",
          "data": {
            "text/plain": [
              "True     1400\n",
              "False     355\n",
              "Name: send_replies, dtype: int64"
            ]
          },
          "metadata": {},
          "execution_count": 37
        }
      ]
    },
    {
      "cell_type": "code",
      "source": [
        "df_reduced[\"send_replies\"] = df_reduced[\"send_replies\"].fillna(method=\"ffill\")"
      ],
      "metadata": {
        "colab": {
          "base_uri": "https://localhost:8080/"
        },
        "id": "tV6qLFQ7jJv9",
        "outputId": "bff69280-318c-4f3f-b65e-3364d0cedc93"
      },
      "execution_count": null,
      "outputs": [
        {
          "output_type": "stream",
          "name": "stderr",
          "text": [
            "/usr/local/lib/python3.7/dist-packages/ipykernel_launcher.py:1: SettingWithCopyWarning: \n",
            "A value is trying to be set on a copy of a slice from a DataFrame.\n",
            "Try using .loc[row_indexer,col_indexer] = value instead\n",
            "\n",
            "See the caveats in the documentation: https://pandas.pydata.org/pandas-docs/stable/user_guide/indexing.html#returning-a-view-versus-a-copy\n",
            "  \"\"\"Entry point for launching an IPython kernel.\n"
          ]
        }
      ]
    },
    {
      "cell_type": "markdown",
      "source": [
        "We fill null entries in upvote_ratio as the mean upvote ratio"
      ],
      "metadata": {
        "id": "XyqJUwwbSrO6"
      }
    },
    {
      "cell_type": "code",
      "source": [
        "df_reduced['upvote_ratio'].describe()"
      ],
      "metadata": {
        "colab": {
          "base_uri": "https://localhost:8080/"
        },
        "id": "Pxd2xzurjTR4",
        "outputId": "b7ec7b15-0bab-4f59-8897-7653029cd99a"
      },
      "execution_count": null,
      "outputs": [
        {
          "output_type": "execute_result",
          "data": {
            "text/plain": [
              "count    1523.000000\n",
              "mean        0.991904\n",
              "std         0.046300\n",
              "min         0.450000\n",
              "25%         1.000000\n",
              "50%         1.000000\n",
              "75%         1.000000\n",
              "max         1.000000\n",
              "Name: upvote_ratio, dtype: float64"
            ]
          },
          "metadata": {},
          "execution_count": 39
        }
      ]
    },
    {
      "cell_type": "code",
      "source": [
        "df_reduced[\"upvote_ratio\"] = df_reduced[\"upvote_ratio\"].fillna(0.991904)"
      ],
      "metadata": {
        "colab": {
          "base_uri": "https://localhost:8080/"
        },
        "id": "-mBnAKBOjaad",
        "outputId": "85c22755-6b08-44c2-937b-c98e105f116e"
      },
      "execution_count": null,
      "outputs": [
        {
          "output_type": "stream",
          "name": "stderr",
          "text": [
            "/usr/local/lib/python3.7/dist-packages/ipykernel_launcher.py:1: SettingWithCopyWarning: \n",
            "A value is trying to be set on a copy of a slice from a DataFrame.\n",
            "Try using .loc[row_indexer,col_indexer] = value instead\n",
            "\n",
            "See the caveats in the documentation: https://pandas.pydata.org/pandas-docs/stable/user_guide/indexing.html#returning-a-view-versus-a-copy\n",
            "  \"\"\"Entry point for launching an IPython kernel.\n"
          ]
        }
      ]
    },
    {
      "cell_type": "code",
      "source": [
        "df_reduced.info()"
      ],
      "metadata": {
        "colab": {
          "base_uri": "https://localhost:8080/"
        },
        "id": "I_DHXZy2jvZ5",
        "outputId": "1f88bea5-a2c1-4a82-a956-dfef90f23de4"
      },
      "execution_count": null,
      "outputs": [
        {
          "output_type": "stream",
          "name": "stdout",
          "text": [
            "<class 'pandas.core.frame.DataFrame'>\n",
            "Int64Index: 2073 entries, 0 to 2095\n",
            "Data columns (total 17 columns):\n",
            " #   Column               Non-Null Count  Dtype  \n",
            "---  ------               --------------  -----  \n",
            " 0   author               2073 non-null   object \n",
            " 1   created_utc          2073 non-null   int64  \n",
            " 2   full_link            2073 non-null   object \n",
            " 3   id                   2073 non-null   object \n",
            " 4   is_original_content  2073 non-null   bool   \n",
            " 5   is_self              2073 non-null   bool   \n",
            " 6   is_video             2073 non-null   bool   \n",
            " 7   link_flair_text      2073 non-null   object \n",
            " 8   num_comments         2073 non-null   int64  \n",
            " 9   over_18              2073 non-null   bool   \n",
            " 10  score                2073 non-null   int64  \n",
            " 11  selftext             2073 non-null   object \n",
            " 12  send_replies         2073 non-null   bool   \n",
            " 13  subreddit            2073 non-null   object \n",
            " 14  title                2073 non-null   object \n",
            " 15  upvote_ratio         2073 non-null   float64\n",
            " 16  url                  2073 non-null   object \n",
            "dtypes: bool(5), float64(1), int64(3), object(8)\n",
            "memory usage: 220.7+ KB\n"
          ]
        }
      ]
    },
    {
      "cell_type": "markdown",
      "source": [
        "Next, we create a new column for text that is a concatenation of the title of a post and the text of the post."
      ],
      "metadata": {
        "id": "XNmPCojLS3P2"
      }
    },
    {
      "cell_type": "code",
      "source": [
        "df_reduced[\"fulltext\"] = df_reduced[\"title\"]+' '+df_reduced[\"selftext\"]"
      ],
      "metadata": {
        "colab": {
          "base_uri": "https://localhost:8080/"
        },
        "id": "jVYEZ2Cdj0GH",
        "outputId": "2c2742d1-1ad6-489e-b0ee-91fbc62f1dfa"
      },
      "execution_count": null,
      "outputs": [
        {
          "output_type": "stream",
          "name": "stderr",
          "text": [
            "/usr/local/lib/python3.7/dist-packages/ipykernel_launcher.py:1: SettingWithCopyWarning: \n",
            "A value is trying to be set on a copy of a slice from a DataFrame.\n",
            "Try using .loc[row_indexer,col_indexer] = value instead\n",
            "\n",
            "See the caveats in the documentation: https://pandas.pydata.org/pandas-docs/stable/user_guide/indexing.html#returning-a-view-versus-a-copy\n",
            "  \"\"\"Entry point for launching an IPython kernel.\n"
          ]
        }
      ]
    },
    {
      "cell_type": "code",
      "source": [
        "df_reduced.head()"
      ],
      "metadata": {
        "colab": {
          "base_uri": "https://localhost:8080/",
          "height": 686
        },
        "id": "Y02AdlDWmqR7",
        "outputId": "94fda452-eb67-494e-9dff-87a09f8824a7"
      },
      "execution_count": null,
      "outputs": [
        {
          "output_type": "execute_result",
          "data": {
            "text/plain": [
              "                 author  created_utc  \\\n",
              "0     InternetFreedomIn   1628168541   \n",
              "1           adam0010101   1628452706   \n",
              "2  MaharajadhirajaSawai   1629126680   \n",
              "3     InternetFreedomIn   1627026319   \n",
              "4         wanderingmind   1628683922   \n",
              "\n",
              "                                           full_link      id  \\\n",
              "0  https://www.reddit.com/r/india/comments/oyh2uq...  oyh2uq   \n",
              "1  https://www.reddit.com/r/india/comments/p0lpok...  p0lpok   \n",
              "2  https://www.reddit.com/r/india/comments/p5i0b6...  p5i0b6   \n",
              "3  https://www.reddit.com/r/india/comments/opxkgc...  opxkgc   \n",
              "4  https://www.reddit.com/r/india/comments/p2btn6...  p2btn6   \n",
              "\n",
              "   is_original_content  is_self  is_video link_flair_text  num_comments  \\\n",
              "0                False     True     False  Policy/Economy             0   \n",
              "1                False     True     False        Politics             0   \n",
              "2                False     True     False        History              9   \n",
              "3                False     True     False  Policy/Economy            11   \n",
              "4                False     True     False   Non-Political            17   \n",
              "\n",
              "   over_18  score                                           selftext  \\\n",
              "0    False      1  &amp;#x200B;\\n\\nhttps://preview.redd.it/2vkmxg...   \n",
              "1    False      1  Despite India’s many social divisions, based o...   \n",
              "2    False      1  I'll make it clear at the very beginning, my i...   \n",
              "3    False      1  &amp;#x200B;\\n\\nhttps://preview.redd.it/ogjw20...   \n",
              "4    False      1  Barking dogs are a problem for those who want ...   \n",
              "\n",
              "   send_replies subreddit                                              title  \\\n",
              "0          True     india  #4 Cybersec Charcha: A Global overview of the ...   \n",
              "1          True     india    Indian social divisions and political redresses   \n",
              "2          True     india  My critique of The Carvaka Podcast's Warhorse ...   \n",
              "3          True     india  Dear Standing Committee, We Have Some Question...   \n",
              "4          True     india  Barking, biting stray dogs, hypocritical dog-l...   \n",
              "\n",
              "   upvote_ratio                                                url  \\\n",
              "0           1.0  https://www.reddit.com/r/india/comments/oyh2uq...   \n",
              "1           1.0  https://www.reddit.com/r/india/comments/p0lpok...   \n",
              "2           1.0  https://www.reddit.com/r/india/comments/p5i0b6...   \n",
              "3           1.0  https://www.reddit.com/r/india/comments/opxkgc...   \n",
              "4           1.0  https://www.reddit.com/r/india/comments/p2btn6...   \n",
              "\n",
              "                                            fulltext  \n",
              "0  #4 Cybersec Charcha: A Global overview of the ...  \n",
              "1  Indian social divisions and political redresse...  \n",
              "2  My critique of The Carvaka Podcast's Warhorse ...  \n",
              "3  Dear Standing Committee, We Have Some Question...  \n",
              "4  Barking, biting stray dogs, hypocritical dog-l...  "
            ],
            "text/html": [
              "\n",
              "  <div id=\"df-c9111035-9683-4e0c-9e68-feeb32de5c9f\">\n",
              "    <div class=\"colab-df-container\">\n",
              "      <div>\n",
              "<style scoped>\n",
              "    .dataframe tbody tr th:only-of-type {\n",
              "        vertical-align: middle;\n",
              "    }\n",
              "\n",
              "    .dataframe tbody tr th {\n",
              "        vertical-align: top;\n",
              "    }\n",
              "\n",
              "    .dataframe thead th {\n",
              "        text-align: right;\n",
              "    }\n",
              "</style>\n",
              "<table border=\"1\" class=\"dataframe\">\n",
              "  <thead>\n",
              "    <tr style=\"text-align: right;\">\n",
              "      <th></th>\n",
              "      <th>author</th>\n",
              "      <th>created_utc</th>\n",
              "      <th>full_link</th>\n",
              "      <th>id</th>\n",
              "      <th>is_original_content</th>\n",
              "      <th>is_self</th>\n",
              "      <th>is_video</th>\n",
              "      <th>link_flair_text</th>\n",
              "      <th>num_comments</th>\n",
              "      <th>over_18</th>\n",
              "      <th>score</th>\n",
              "      <th>selftext</th>\n",
              "      <th>send_replies</th>\n",
              "      <th>subreddit</th>\n",
              "      <th>title</th>\n",
              "      <th>upvote_ratio</th>\n",
              "      <th>url</th>\n",
              "      <th>fulltext</th>\n",
              "    </tr>\n",
              "  </thead>\n",
              "  <tbody>\n",
              "    <tr>\n",
              "      <th>0</th>\n",
              "      <td>InternetFreedomIn</td>\n",
              "      <td>1628168541</td>\n",
              "      <td>https://www.reddit.com/r/india/comments/oyh2uq...</td>\n",
              "      <td>oyh2uq</td>\n",
              "      <td>False</td>\n",
              "      <td>True</td>\n",
              "      <td>False</td>\n",
              "      <td>Policy/Economy</td>\n",
              "      <td>0</td>\n",
              "      <td>False</td>\n",
              "      <td>1</td>\n",
              "      <td>&amp;amp;#x200B;\\n\\nhttps://preview.redd.it/2vkmxg...</td>\n",
              "      <td>True</td>\n",
              "      <td>india</td>\n",
              "      <td>#4 Cybersec Charcha: A Global overview of the ...</td>\n",
              "      <td>1.0</td>\n",
              "      <td>https://www.reddit.com/r/india/comments/oyh2uq...</td>\n",
              "      <td>#4 Cybersec Charcha: A Global overview of the ...</td>\n",
              "    </tr>\n",
              "    <tr>\n",
              "      <th>1</th>\n",
              "      <td>adam0010101</td>\n",
              "      <td>1628452706</td>\n",
              "      <td>https://www.reddit.com/r/india/comments/p0lpok...</td>\n",
              "      <td>p0lpok</td>\n",
              "      <td>False</td>\n",
              "      <td>True</td>\n",
              "      <td>False</td>\n",
              "      <td>Politics</td>\n",
              "      <td>0</td>\n",
              "      <td>False</td>\n",
              "      <td>1</td>\n",
              "      <td>Despite India’s many social divisions, based o...</td>\n",
              "      <td>True</td>\n",
              "      <td>india</td>\n",
              "      <td>Indian social divisions and political redresses</td>\n",
              "      <td>1.0</td>\n",
              "      <td>https://www.reddit.com/r/india/comments/p0lpok...</td>\n",
              "      <td>Indian social divisions and political redresse...</td>\n",
              "    </tr>\n",
              "    <tr>\n",
              "      <th>2</th>\n",
              "      <td>MaharajadhirajaSawai</td>\n",
              "      <td>1629126680</td>\n",
              "      <td>https://www.reddit.com/r/india/comments/p5i0b6...</td>\n",
              "      <td>p5i0b6</td>\n",
              "      <td>False</td>\n",
              "      <td>True</td>\n",
              "      <td>False</td>\n",
              "      <td>History</td>\n",
              "      <td>9</td>\n",
              "      <td>False</td>\n",
              "      <td>1</td>\n",
              "      <td>I'll make it clear at the very beginning, my i...</td>\n",
              "      <td>True</td>\n",
              "      <td>india</td>\n",
              "      <td>My critique of The Carvaka Podcast's Warhorse ...</td>\n",
              "      <td>1.0</td>\n",
              "      <td>https://www.reddit.com/r/india/comments/p5i0b6...</td>\n",
              "      <td>My critique of The Carvaka Podcast's Warhorse ...</td>\n",
              "    </tr>\n",
              "    <tr>\n",
              "      <th>3</th>\n",
              "      <td>InternetFreedomIn</td>\n",
              "      <td>1627026319</td>\n",
              "      <td>https://www.reddit.com/r/india/comments/opxkgc...</td>\n",
              "      <td>opxkgc</td>\n",
              "      <td>False</td>\n",
              "      <td>True</td>\n",
              "      <td>False</td>\n",
              "      <td>Policy/Economy</td>\n",
              "      <td>11</td>\n",
              "      <td>False</td>\n",
              "      <td>1</td>\n",
              "      <td>&amp;amp;#x200B;\\n\\nhttps://preview.redd.it/ogjw20...</td>\n",
              "      <td>True</td>\n",
              "      <td>india</td>\n",
              "      <td>Dear Standing Committee, We Have Some Question...</td>\n",
              "      <td>1.0</td>\n",
              "      <td>https://www.reddit.com/r/india/comments/opxkgc...</td>\n",
              "      <td>Dear Standing Committee, We Have Some Question...</td>\n",
              "    </tr>\n",
              "    <tr>\n",
              "      <th>4</th>\n",
              "      <td>wanderingmind</td>\n",
              "      <td>1628683922</td>\n",
              "      <td>https://www.reddit.com/r/india/comments/p2btn6...</td>\n",
              "      <td>p2btn6</td>\n",
              "      <td>False</td>\n",
              "      <td>True</td>\n",
              "      <td>False</td>\n",
              "      <td>Non-Political</td>\n",
              "      <td>17</td>\n",
              "      <td>False</td>\n",
              "      <td>1</td>\n",
              "      <td>Barking dogs are a problem for those who want ...</td>\n",
              "      <td>True</td>\n",
              "      <td>india</td>\n",
              "      <td>Barking, biting stray dogs, hypocritical dog-l...</td>\n",
              "      <td>1.0</td>\n",
              "      <td>https://www.reddit.com/r/india/comments/p2btn6...</td>\n",
              "      <td>Barking, biting stray dogs, hypocritical dog-l...</td>\n",
              "    </tr>\n",
              "  </tbody>\n",
              "</table>\n",
              "</div>\n",
              "      <button class=\"colab-df-convert\" onclick=\"convertToInteractive('df-c9111035-9683-4e0c-9e68-feeb32de5c9f')\"\n",
              "              title=\"Convert this dataframe to an interactive table.\"\n",
              "              style=\"display:none;\">\n",
              "        \n",
              "  <svg xmlns=\"http://www.w3.org/2000/svg\" height=\"24px\"viewBox=\"0 0 24 24\"\n",
              "       width=\"24px\">\n",
              "    <path d=\"M0 0h24v24H0V0z\" fill=\"none\"/>\n",
              "    <path d=\"M18.56 5.44l.94 2.06.94-2.06 2.06-.94-2.06-.94-.94-2.06-.94 2.06-2.06.94zm-11 1L8.5 8.5l.94-2.06 2.06-.94-2.06-.94L8.5 2.5l-.94 2.06-2.06.94zm10 10l.94 2.06.94-2.06 2.06-.94-2.06-.94-.94-2.06-.94 2.06-2.06.94z\"/><path d=\"M17.41 7.96l-1.37-1.37c-.4-.4-.92-.59-1.43-.59-.52 0-1.04.2-1.43.59L10.3 9.45l-7.72 7.72c-.78.78-.78 2.05 0 2.83L4 21.41c.39.39.9.59 1.41.59.51 0 1.02-.2 1.41-.59l7.78-7.78 2.81-2.81c.8-.78.8-2.07 0-2.86zM5.41 20L4 18.59l7.72-7.72 1.47 1.35L5.41 20z\"/>\n",
              "  </svg>\n",
              "      </button>\n",
              "      \n",
              "  <style>\n",
              "    .colab-df-container {\n",
              "      display:flex;\n",
              "      flex-wrap:wrap;\n",
              "      gap: 12px;\n",
              "    }\n",
              "\n",
              "    .colab-df-convert {\n",
              "      background-color: #E8F0FE;\n",
              "      border: none;\n",
              "      border-radius: 50%;\n",
              "      cursor: pointer;\n",
              "      display: none;\n",
              "      fill: #1967D2;\n",
              "      height: 32px;\n",
              "      padding: 0 0 0 0;\n",
              "      width: 32px;\n",
              "    }\n",
              "\n",
              "    .colab-df-convert:hover {\n",
              "      background-color: #E2EBFA;\n",
              "      box-shadow: 0px 1px 2px rgba(60, 64, 67, 0.3), 0px 1px 3px 1px rgba(60, 64, 67, 0.15);\n",
              "      fill: #174EA6;\n",
              "    }\n",
              "\n",
              "    [theme=dark] .colab-df-convert {\n",
              "      background-color: #3B4455;\n",
              "      fill: #D2E3FC;\n",
              "    }\n",
              "\n",
              "    [theme=dark] .colab-df-convert:hover {\n",
              "      background-color: #434B5C;\n",
              "      box-shadow: 0px 1px 3px 1px rgba(0, 0, 0, 0.15);\n",
              "      filter: drop-shadow(0px 1px 2px rgba(0, 0, 0, 0.3));\n",
              "      fill: #FFFFFF;\n",
              "    }\n",
              "  </style>\n",
              "\n",
              "      <script>\n",
              "        const buttonEl =\n",
              "          document.querySelector('#df-c9111035-9683-4e0c-9e68-feeb32de5c9f button.colab-df-convert');\n",
              "        buttonEl.style.display =\n",
              "          google.colab.kernel.accessAllowed ? 'block' : 'none';\n",
              "\n",
              "        async function convertToInteractive(key) {\n",
              "          const element = document.querySelector('#df-c9111035-9683-4e0c-9e68-feeb32de5c9f');\n",
              "          const dataTable =\n",
              "            await google.colab.kernel.invokeFunction('convertToInteractive',\n",
              "                                                     [key], {});\n",
              "          if (!dataTable) return;\n",
              "\n",
              "          const docLinkHtml = 'Like what you see? Visit the ' +\n",
              "            '<a target=\"_blank\" href=https://colab.research.google.com/notebooks/data_table.ipynb>data table notebook</a>'\n",
              "            + ' to learn more about interactive tables.';\n",
              "          element.innerHTML = '';\n",
              "          dataTable['output_type'] = 'display_data';\n",
              "          await google.colab.output.renderOutput(dataTable, element);\n",
              "          const docLink = document.createElement('div');\n",
              "          docLink.innerHTML = docLinkHtml;\n",
              "          element.appendChild(docLink);\n",
              "        }\n",
              "      </script>\n",
              "    </div>\n",
              "  </div>\n",
              "  "
            ]
          },
          "metadata": {},
          "execution_count": 49
        }
      ]
    },
    {
      "cell_type": "code",
      "source": [
        "df_reduced[\"fulltext\"].iloc[0]"
      ],
      "metadata": {
        "colab": {
          "base_uri": "https://localhost:8080/",
          "height": 140
        },
        "id": "XMuR7AmdmsCI",
        "outputId": "f1588e52-8248-40f0-cdff-462103adff5a"
      },
      "execution_count": null,
      "outputs": [
        {
          "output_type": "execute_result",
          "data": {
            "text/plain": [
              "'#4 Cybersec Charcha: A Global overview of the state of surveillance after the pegasus revelations &amp;#x200B;\\n\\nhttps://preview.redd.it/2vkmxgd4fjf71.png?width=1600&amp;format=png&amp;auto=webp&amp;s=f4f7cba89b1260440aa5fd34ee09a8faa31aeefa\\n\\nA lot has happened in the month of July 2021. [**The revelations made by The Pegasus Project**](https://thewire.in/pegasusproject) exposed once again how sophisticated surveillance technology has become and how they are being widely used especially to target Human Rights Defenders, journalists, activists, not just in India but in countries across the world. In today’s edition of Cybersec Charcha, we’ll look at the global state of surveillance and its wide ranging impact on people’s fundamental right to privacy.\\n\\n[**Sign up for the newsletter**](https://mailer.internetfreedom.in/iff-newsletter-subscription-signup)\\n\\n### Background: What is The Pegasus Project?\\n\\nThe Pegasus Project is the result of an unprecedented collaboration by more than 80 journalists from 17 media organizations in 10 countries. The project was coordinated by [**Forbidden Stories**](https://forbiddenstories.org/), a Paris based media non profit organization, backed by technical support from Amnesty International’s Security Lab.\\n\\n### Forensic Analysis conducted by Amnesty International\\n\\nAs part of the Pegasus Project, [**Amnesty International’s Security lab conducted in-depth forensic analysis of multiple mobile phones used by HRDs and journalists**](https://www.amnesty.org/en/latest/research/2021/07/forensic-methodology-report-how-to-catch-nso-groups-pegasus/). Their findings uncovered persistent and unlawful surveillance and human rights abuses which were carried out using NSO’s Pegasus Spyware. Whereas the NSO Group (the company behind the Pegasus spyware) claims that Pegasus is only used to investigate terrorist and criminal activities and leaves no trace on the victim’s mobile phones, Amnesty’s analysis suggests that this is untrue. Amnesty has found traces left of iOS and Android phones after they were targeted with Pegasus.\\n\\nAs part of the project, Amnesty has also made Forensic Methodology public and you can read about it in full detail [**here**](https://www.amnesty.org/en/latest/research/2021/07/forensic-methodology-report-how-to-catch-nso-groups-pegasus/). The details can get a bit technical at times, but it is still worth a read to understand the sheer scale of these attacks.\\n\\n### Is NSO the only company that sells such spyware?\\n\\nA 2016 report published by Privacy International on [**The Global Surveillance Industry**](https://privacyinternational.org/sites/default/files/2017-12/global_surveillance_0.pdf) \\xa0has some telling findings, despite the report being a few years old now. A few figures from the report offer key insights and in hindsight, the current state of global surveillance does not seem as surprising. In fact, it has been coming for a long time.\\n\\nFor example, this graph looks at the number of surveillance companies created each year from 1945 to 2015.\\n\\n&amp;#x200B;\\n\\n[Source: Privacy International](https://preview.redd.it/1my0r8z6fjf71.png?width=1436&amp;format=png&amp;auto=webp&amp;s=dccaa2516c72b3a395fb83ea353bc549a3a0f067)\\n\\nOr this table, featured in the same report which looks at industry actors involved in surveillance.\\n\\n&amp;#x200B;\\n\\n[Source: Privacy International](https://preview.redd.it/1ss5aqsafjf71.png?width=1484&amp;format=png&amp;auto=webp&amp;s=6bad9adf967b46113658b4c9f26a1191effbc5ee)\\n\\n[**Multiple reports published in 2021**](https://telecom.economictimes.indiatimes.com/news/spyware-for-sale-the-booming-trade-in-surveillance-tech-like-pegasus/84665107) also suggest that NSO is merely one player in the surveillance industry globally. In fact, researchers say that these tools are getting cheaper everyday making it easy for not just top intelligence agencies to purchase such spyware but also can be procured easily by smaller governments and local police agencies.\\n\\nMany other vendors selling mercenary spyware have come into focus post the pegasus revelations. [**Citizen Lab published a detailed report on one such company called Candiru**](https://citizenlab.ca/2021/07/hooking-candiru-another-mercenary-spyware-vendor-comes-into-focus/), that sells similar spyware. Candiru’s spyware is said to have the ability to infect and monitor iPhones, Androids, Macs, PCs and Cloud accounts. In 2017, Citizen Lab found that Ethiopia had used spyware developed by Cyberbit (another company in Israel) to infect the computers of exiled dissidents. Germany’s FinFisher is a widely marketed tool that supposedly helps law enforcement agencies tackle crime. In 2015, Italian firm Hacking Team was at the centre of a scandal similar to Pegasus when a leak revealed it was selling spyware to governments all over the world. The company has since been renamed to Memento Labs.\\n\\nThis handpicked data shows us that the surveillance crisis is not a new problem, it has only gotten worse over the years leading up to The Pegasus Project. Civil society organisations all over the world have been warning us for years that the [**Unchecked Spyware Industry enables Human Rights abuses**](https://www.hrw.org/news/2021/07/30/unchecked-spyware-industry-enables-abuses). Due to the sophisticated nature of such spyware, governments must step in and ensure stringent regulations to control the export of these tools to ensure compliance with international human rights standards.\\n\\n### How are the victims targeted with Pegasus regaining control?\\n\\nThe revelations made as part of the project also brought to light [**harrowing accounts of victims who were targeted with Pegasus**](https://www.nbcnews.com/tech/social-media/i-will-not-be-silenced-women-targeted-hack-leak-attacks-n1275540). This includes female journalists and activists who had their private photos shared on social media and were at the receiving end of widespread harassment. Lina al-Hathloul, one of the many victims targeted with the spyware said, \\xa0“It’s effective in the short term, but in the long term it won’t work. Women will realize they are being shamed and oppressed, and they will gather to unite against it.” The message they are sending is clear - They will not be silenced.\\n\\n[**Closer home in India, 5 victims of the Pegasus spyware have moved to the Supreme Court to protect their fundamental Right To Privacy**](https://www.thequint.com/news/law/paranjoy-guha-thakurta-snm-abdi-prem-shankar-jha-rupesh-kumar-singh-ipsa-shatakshi-say-use-of-spyware-against-them-was-illegal-hacking-not-lawful-surveillance#read-more). These petitions have been filed by journalists Paranjoy Guha Thakurta, SNM Abdi, Prem Shankar Jha, Rupesh Kumar Singh and activist Ipsa Shatakshi.\\n\\nAmnesty International has also called on governments [**to issue a moratorium on the sale, export and use of technologies like Pegasus**](https://www.amnesty.org/en/latest/news/2021/07/pegasus-project-spyware-digital-surveillance-nso/).\\n\\n### Is there a way to defend yourself against these powerful attacks?\\n\\nSince Pegasus is a very sophisticated spyware, many people in light of the revelations are struggling with *Privacy Nihilism or Security Nihilism* and it’s imperative we don’t give into these feelings. Privacy is not dead. Insecure authoritarian regimes and governments spy on dissidents precisely because privacy is not dead and its continued existence is a threat to their regimes. Moreover, it’s also not true. Yes, it’s difficult to protect yourself against attacks like Pegasus but there are still protective measures to be taken. [**The Intercept has a detailed piece on the steps you can take to protect yourself against such attacks**](https://theintercept.com/2021/07/27/pegasus-nso-spyware-security/?utm_medium=email&amp;utm_source=The%20Intercept%20Newsletter). I urge you to go through the article since it offers some useful advice especially for people who are at risk of being targeted with such attacks.\\n\\n### In other news…\\n\\n* **IBM Report shows that the average cost of a data breach is the highest in 17 years.**\\n\\nA recent report that looks into the [**Cost of a Data Breach in 2021 by IBM Security**](https://www.ibm.com/downloads/cas/OJDVQGRY) indicates that the costs associated with a data breach have reached record high numbers. The report analysed over 500 breaches faced by different organizations in the last 12 months and found that an average data breach costs victims $4.24 million per incident, the highest in the 17 years. You can access [**the full report here**](https://www.ibm.com/downloads/cas/OJDVQGRY) or read [**an overview of the key findings here**](https://cybernews.com/news/influenced-by-the-pandemic-data-breach-costs-hit-a-record-high-ibm-report-shows/).\\n\\n* **Amazon has been fined $886m for alleged data law breach.**\\n\\nLuxembourg’s National Commission for Data Protection has fined the tech giant £636m, claiming their processing of personal data did not comply with EU laws. Amazon claims that their decision is “without merit” and they plan to “defend ourselves vigorously”. The fine comes in the aftermath of increasing regulatory scrutiny of tech giants due to concerns over privacy and misinformation. You can read more about the entire fiasco [**here**](https://www.bbc.com/news/business-58024116).\\n\\nIFF is reliant to your support to do our work effectively. If you like the work we do, [please consider](https://internetfreedom.in/donate/) becoming a member or making a one-time donation!'"
            ],
            "application/vnd.google.colaboratory.intrinsic+json": {
              "type": "string"
            }
          },
          "metadata": {},
          "execution_count": 50
        }
      ]
    },
    {
      "cell_type": "markdown",
      "source": [
        "##Date Addition\n",
        "\n",
        "Next, we create columns for getting human readable date formats"
      ],
      "metadata": {
        "id": "wY4Rs4f8TAMW"
      }
    },
    {
      "cell_type": "code",
      "source": [
        "from datetime import datetime\n",
        "def utc_to_datetime(data):\n",
        "    data['year'] = data['created_utc'].apply(lambda utc: datetime.fromtimestamp(utc).year)\n",
        "    data['month'] = data['created_utc'].apply(lambda utc: datetime.fromtimestamp(utc).month)\n",
        "    data['day'] = data['created_utc'].apply(lambda utc: datetime.fromtimestamp(utc).day)    \n",
        "    data['hour'] = data['created_utc'].apply(lambda utc: datetime.fromtimestamp(utc).hour)\n",
        "    data['minute'] = data['created_utc'].apply(lambda utc: datetime.fromtimestamp(utc).minute)\n",
        "    data['second'] = data['created_utc'].apply(lambda utc: datetime.fromtimestamp(utc).second)\n",
        "\n",
        "utc_to_datetime(df_reduced)\n",
        "df_reduced.head()"
      ],
      "metadata": {
        "colab": {
          "base_uri": "https://localhost:8080/",
          "height": 1000
        },
        "id": "oaV8d-9rm5aw",
        "outputId": "ddcc743e-8d49-4325-919b-ed9ee056ea25"
      },
      "execution_count": null,
      "outputs": [
        {
          "output_type": "stream",
          "name": "stderr",
          "text": [
            "/usr/local/lib/python3.7/dist-packages/ipykernel_launcher.py:3: SettingWithCopyWarning: \n",
            "A value is trying to be set on a copy of a slice from a DataFrame.\n",
            "Try using .loc[row_indexer,col_indexer] = value instead\n",
            "\n",
            "See the caveats in the documentation: https://pandas.pydata.org/pandas-docs/stable/user_guide/indexing.html#returning-a-view-versus-a-copy\n",
            "  This is separate from the ipykernel package so we can avoid doing imports until\n",
            "/usr/local/lib/python3.7/dist-packages/ipykernel_launcher.py:4: SettingWithCopyWarning: \n",
            "A value is trying to be set on a copy of a slice from a DataFrame.\n",
            "Try using .loc[row_indexer,col_indexer] = value instead\n",
            "\n",
            "See the caveats in the documentation: https://pandas.pydata.org/pandas-docs/stable/user_guide/indexing.html#returning-a-view-versus-a-copy\n",
            "  after removing the cwd from sys.path.\n",
            "/usr/local/lib/python3.7/dist-packages/ipykernel_launcher.py:5: SettingWithCopyWarning: \n",
            "A value is trying to be set on a copy of a slice from a DataFrame.\n",
            "Try using .loc[row_indexer,col_indexer] = value instead\n",
            "\n",
            "See the caveats in the documentation: https://pandas.pydata.org/pandas-docs/stable/user_guide/indexing.html#returning-a-view-versus-a-copy\n",
            "  \"\"\"\n",
            "/usr/local/lib/python3.7/dist-packages/ipykernel_launcher.py:6: SettingWithCopyWarning: \n",
            "A value is trying to be set on a copy of a slice from a DataFrame.\n",
            "Try using .loc[row_indexer,col_indexer] = value instead\n",
            "\n",
            "See the caveats in the documentation: https://pandas.pydata.org/pandas-docs/stable/user_guide/indexing.html#returning-a-view-versus-a-copy\n",
            "  \n",
            "/usr/local/lib/python3.7/dist-packages/ipykernel_launcher.py:7: SettingWithCopyWarning: \n",
            "A value is trying to be set on a copy of a slice from a DataFrame.\n",
            "Try using .loc[row_indexer,col_indexer] = value instead\n",
            "\n",
            "See the caveats in the documentation: https://pandas.pydata.org/pandas-docs/stable/user_guide/indexing.html#returning-a-view-versus-a-copy\n",
            "  import sys\n",
            "/usr/local/lib/python3.7/dist-packages/ipykernel_launcher.py:8: SettingWithCopyWarning: \n",
            "A value is trying to be set on a copy of a slice from a DataFrame.\n",
            "Try using .loc[row_indexer,col_indexer] = value instead\n",
            "\n",
            "See the caveats in the documentation: https://pandas.pydata.org/pandas-docs/stable/user_guide/indexing.html#returning-a-view-versus-a-copy\n",
            "  \n"
          ]
        },
        {
          "output_type": "execute_result",
          "data": {
            "text/plain": [
              "                 author  created_utc  \\\n",
              "0     InternetFreedomIn   1628168541   \n",
              "1           adam0010101   1628452706   \n",
              "2  MaharajadhirajaSawai   1629126680   \n",
              "3     InternetFreedomIn   1627026319   \n",
              "4         wanderingmind   1628683922   \n",
              "\n",
              "                                           full_link      id  \\\n",
              "0  https://www.reddit.com/r/india/comments/oyh2uq...  oyh2uq   \n",
              "1  https://www.reddit.com/r/india/comments/p0lpok...  p0lpok   \n",
              "2  https://www.reddit.com/r/india/comments/p5i0b6...  p5i0b6   \n",
              "3  https://www.reddit.com/r/india/comments/opxkgc...  opxkgc   \n",
              "4  https://www.reddit.com/r/india/comments/p2btn6...  p2btn6   \n",
              "\n",
              "   is_original_content  is_self  is_video link_flair_text  num_comments  \\\n",
              "0                False     True     False  Policy/Economy             0   \n",
              "1                False     True     False        Politics             0   \n",
              "2                False     True     False        History              9   \n",
              "3                False     True     False  Policy/Economy            11   \n",
              "4                False     True     False   Non-Political            17   \n",
              "\n",
              "   over_18  ...                                              title  \\\n",
              "0    False  ...  #4 Cybersec Charcha: A Global overview of the ...   \n",
              "1    False  ...    Indian social divisions and political redresses   \n",
              "2    False  ...  My critique of The Carvaka Podcast's Warhorse ...   \n",
              "3    False  ...  Dear Standing Committee, We Have Some Question...   \n",
              "4    False  ...  Barking, biting stray dogs, hypocritical dog-l...   \n",
              "\n",
              "  upvote_ratio                                                url  \\\n",
              "0          1.0  https://www.reddit.com/r/india/comments/oyh2uq...   \n",
              "1          1.0  https://www.reddit.com/r/india/comments/p0lpok...   \n",
              "2          1.0  https://www.reddit.com/r/india/comments/p5i0b6...   \n",
              "3          1.0  https://www.reddit.com/r/india/comments/opxkgc...   \n",
              "4          1.0  https://www.reddit.com/r/india/comments/p2btn6...   \n",
              "\n",
              "                                            fulltext  year  month day hour  \\\n",
              "0  #4 Cybersec Charcha: A Global overview of the ...  2021      8   5   13   \n",
              "1  Indian social divisions and political redresse...  2021      8   8   19   \n",
              "2  My critique of The Carvaka Podcast's Warhorse ...  2021      8  16   15   \n",
              "3  Dear Standing Committee, We Have Some Question...  2021      7  23    7   \n",
              "4  Barking, biting stray dogs, hypocritical dog-l...  2021      8  11   12   \n",
              "\n",
              "   minute  second  \n",
              "0       2      21  \n",
              "1      58      26  \n",
              "2      11      20  \n",
              "3      45      19  \n",
              "4      12       2  \n",
              "\n",
              "[5 rows x 24 columns]"
            ],
            "text/html": [
              "\n",
              "  <div id=\"df-9de67ebe-dacc-41b0-9162-ea807adf9bb4\">\n",
              "    <div class=\"colab-df-container\">\n",
              "      <div>\n",
              "<style scoped>\n",
              "    .dataframe tbody tr th:only-of-type {\n",
              "        vertical-align: middle;\n",
              "    }\n",
              "\n",
              "    .dataframe tbody tr th {\n",
              "        vertical-align: top;\n",
              "    }\n",
              "\n",
              "    .dataframe thead th {\n",
              "        text-align: right;\n",
              "    }\n",
              "</style>\n",
              "<table border=\"1\" class=\"dataframe\">\n",
              "  <thead>\n",
              "    <tr style=\"text-align: right;\">\n",
              "      <th></th>\n",
              "      <th>author</th>\n",
              "      <th>created_utc</th>\n",
              "      <th>full_link</th>\n",
              "      <th>id</th>\n",
              "      <th>is_original_content</th>\n",
              "      <th>is_self</th>\n",
              "      <th>is_video</th>\n",
              "      <th>link_flair_text</th>\n",
              "      <th>num_comments</th>\n",
              "      <th>over_18</th>\n",
              "      <th>...</th>\n",
              "      <th>title</th>\n",
              "      <th>upvote_ratio</th>\n",
              "      <th>url</th>\n",
              "      <th>fulltext</th>\n",
              "      <th>year</th>\n",
              "      <th>month</th>\n",
              "      <th>day</th>\n",
              "      <th>hour</th>\n",
              "      <th>minute</th>\n",
              "      <th>second</th>\n",
              "    </tr>\n",
              "  </thead>\n",
              "  <tbody>\n",
              "    <tr>\n",
              "      <th>0</th>\n",
              "      <td>InternetFreedomIn</td>\n",
              "      <td>1628168541</td>\n",
              "      <td>https://www.reddit.com/r/india/comments/oyh2uq...</td>\n",
              "      <td>oyh2uq</td>\n",
              "      <td>False</td>\n",
              "      <td>True</td>\n",
              "      <td>False</td>\n",
              "      <td>Policy/Economy</td>\n",
              "      <td>0</td>\n",
              "      <td>False</td>\n",
              "      <td>...</td>\n",
              "      <td>#4 Cybersec Charcha: A Global overview of the ...</td>\n",
              "      <td>1.0</td>\n",
              "      <td>https://www.reddit.com/r/india/comments/oyh2uq...</td>\n",
              "      <td>#4 Cybersec Charcha: A Global overview of the ...</td>\n",
              "      <td>2021</td>\n",
              "      <td>8</td>\n",
              "      <td>5</td>\n",
              "      <td>13</td>\n",
              "      <td>2</td>\n",
              "      <td>21</td>\n",
              "    </tr>\n",
              "    <tr>\n",
              "      <th>1</th>\n",
              "      <td>adam0010101</td>\n",
              "      <td>1628452706</td>\n",
              "      <td>https://www.reddit.com/r/india/comments/p0lpok...</td>\n",
              "      <td>p0lpok</td>\n",
              "      <td>False</td>\n",
              "      <td>True</td>\n",
              "      <td>False</td>\n",
              "      <td>Politics</td>\n",
              "      <td>0</td>\n",
              "      <td>False</td>\n",
              "      <td>...</td>\n",
              "      <td>Indian social divisions and political redresses</td>\n",
              "      <td>1.0</td>\n",
              "      <td>https://www.reddit.com/r/india/comments/p0lpok...</td>\n",
              "      <td>Indian social divisions and political redresse...</td>\n",
              "      <td>2021</td>\n",
              "      <td>8</td>\n",
              "      <td>8</td>\n",
              "      <td>19</td>\n",
              "      <td>58</td>\n",
              "      <td>26</td>\n",
              "    </tr>\n",
              "    <tr>\n",
              "      <th>2</th>\n",
              "      <td>MaharajadhirajaSawai</td>\n",
              "      <td>1629126680</td>\n",
              "      <td>https://www.reddit.com/r/india/comments/p5i0b6...</td>\n",
              "      <td>p5i0b6</td>\n",
              "      <td>False</td>\n",
              "      <td>True</td>\n",
              "      <td>False</td>\n",
              "      <td>History</td>\n",
              "      <td>9</td>\n",
              "      <td>False</td>\n",
              "      <td>...</td>\n",
              "      <td>My critique of The Carvaka Podcast's Warhorse ...</td>\n",
              "      <td>1.0</td>\n",
              "      <td>https://www.reddit.com/r/india/comments/p5i0b6...</td>\n",
              "      <td>My critique of The Carvaka Podcast's Warhorse ...</td>\n",
              "      <td>2021</td>\n",
              "      <td>8</td>\n",
              "      <td>16</td>\n",
              "      <td>15</td>\n",
              "      <td>11</td>\n",
              "      <td>20</td>\n",
              "    </tr>\n",
              "    <tr>\n",
              "      <th>3</th>\n",
              "      <td>InternetFreedomIn</td>\n",
              "      <td>1627026319</td>\n",
              "      <td>https://www.reddit.com/r/india/comments/opxkgc...</td>\n",
              "      <td>opxkgc</td>\n",
              "      <td>False</td>\n",
              "      <td>True</td>\n",
              "      <td>False</td>\n",
              "      <td>Policy/Economy</td>\n",
              "      <td>11</td>\n",
              "      <td>False</td>\n",
              "      <td>...</td>\n",
              "      <td>Dear Standing Committee, We Have Some Question...</td>\n",
              "      <td>1.0</td>\n",
              "      <td>https://www.reddit.com/r/india/comments/opxkgc...</td>\n",
              "      <td>Dear Standing Committee, We Have Some Question...</td>\n",
              "      <td>2021</td>\n",
              "      <td>7</td>\n",
              "      <td>23</td>\n",
              "      <td>7</td>\n",
              "      <td>45</td>\n",
              "      <td>19</td>\n",
              "    </tr>\n",
              "    <tr>\n",
              "      <th>4</th>\n",
              "      <td>wanderingmind</td>\n",
              "      <td>1628683922</td>\n",
              "      <td>https://www.reddit.com/r/india/comments/p2btn6...</td>\n",
              "      <td>p2btn6</td>\n",
              "      <td>False</td>\n",
              "      <td>True</td>\n",
              "      <td>False</td>\n",
              "      <td>Non-Political</td>\n",
              "      <td>17</td>\n",
              "      <td>False</td>\n",
              "      <td>...</td>\n",
              "      <td>Barking, biting stray dogs, hypocritical dog-l...</td>\n",
              "      <td>1.0</td>\n",
              "      <td>https://www.reddit.com/r/india/comments/p2btn6...</td>\n",
              "      <td>Barking, biting stray dogs, hypocritical dog-l...</td>\n",
              "      <td>2021</td>\n",
              "      <td>8</td>\n",
              "      <td>11</td>\n",
              "      <td>12</td>\n",
              "      <td>12</td>\n",
              "      <td>2</td>\n",
              "    </tr>\n",
              "  </tbody>\n",
              "</table>\n",
              "<p>5 rows × 24 columns</p>\n",
              "</div>\n",
              "      <button class=\"colab-df-convert\" onclick=\"convertToInteractive('df-9de67ebe-dacc-41b0-9162-ea807adf9bb4')\"\n",
              "              title=\"Convert this dataframe to an interactive table.\"\n",
              "              style=\"display:none;\">\n",
              "        \n",
              "  <svg xmlns=\"http://www.w3.org/2000/svg\" height=\"24px\"viewBox=\"0 0 24 24\"\n",
              "       width=\"24px\">\n",
              "    <path d=\"M0 0h24v24H0V0z\" fill=\"none\"/>\n",
              "    <path d=\"M18.56 5.44l.94 2.06.94-2.06 2.06-.94-2.06-.94-.94-2.06-.94 2.06-2.06.94zm-11 1L8.5 8.5l.94-2.06 2.06-.94-2.06-.94L8.5 2.5l-.94 2.06-2.06.94zm10 10l.94 2.06.94-2.06 2.06-.94-2.06-.94-.94-2.06-.94 2.06-2.06.94z\"/><path d=\"M17.41 7.96l-1.37-1.37c-.4-.4-.92-.59-1.43-.59-.52 0-1.04.2-1.43.59L10.3 9.45l-7.72 7.72c-.78.78-.78 2.05 0 2.83L4 21.41c.39.39.9.59 1.41.59.51 0 1.02-.2 1.41-.59l7.78-7.78 2.81-2.81c.8-.78.8-2.07 0-2.86zM5.41 20L4 18.59l7.72-7.72 1.47 1.35L5.41 20z\"/>\n",
              "  </svg>\n",
              "      </button>\n",
              "      \n",
              "  <style>\n",
              "    .colab-df-container {\n",
              "      display:flex;\n",
              "      flex-wrap:wrap;\n",
              "      gap: 12px;\n",
              "    }\n",
              "\n",
              "    .colab-df-convert {\n",
              "      background-color: #E8F0FE;\n",
              "      border: none;\n",
              "      border-radius: 50%;\n",
              "      cursor: pointer;\n",
              "      display: none;\n",
              "      fill: #1967D2;\n",
              "      height: 32px;\n",
              "      padding: 0 0 0 0;\n",
              "      width: 32px;\n",
              "    }\n",
              "\n",
              "    .colab-df-convert:hover {\n",
              "      background-color: #E2EBFA;\n",
              "      box-shadow: 0px 1px 2px rgba(60, 64, 67, 0.3), 0px 1px 3px 1px rgba(60, 64, 67, 0.15);\n",
              "      fill: #174EA6;\n",
              "    }\n",
              "\n",
              "    [theme=dark] .colab-df-convert {\n",
              "      background-color: #3B4455;\n",
              "      fill: #D2E3FC;\n",
              "    }\n",
              "\n",
              "    [theme=dark] .colab-df-convert:hover {\n",
              "      background-color: #434B5C;\n",
              "      box-shadow: 0px 1px 3px 1px rgba(0, 0, 0, 0.15);\n",
              "      filter: drop-shadow(0px 1px 2px rgba(0, 0, 0, 0.3));\n",
              "      fill: #FFFFFF;\n",
              "    }\n",
              "  </style>\n",
              "\n",
              "      <script>\n",
              "        const buttonEl =\n",
              "          document.querySelector('#df-9de67ebe-dacc-41b0-9162-ea807adf9bb4 button.colab-df-convert');\n",
              "        buttonEl.style.display =\n",
              "          google.colab.kernel.accessAllowed ? 'block' : 'none';\n",
              "\n",
              "        async function convertToInteractive(key) {\n",
              "          const element = document.querySelector('#df-9de67ebe-dacc-41b0-9162-ea807adf9bb4');\n",
              "          const dataTable =\n",
              "            await google.colab.kernel.invokeFunction('convertToInteractive',\n",
              "                                                     [key], {});\n",
              "          if (!dataTable) return;\n",
              "\n",
              "          const docLinkHtml = 'Like what you see? Visit the ' +\n",
              "            '<a target=\"_blank\" href=https://colab.research.google.com/notebooks/data_table.ipynb>data table notebook</a>'\n",
              "            + ' to learn more about interactive tables.';\n",
              "          element.innerHTML = '';\n",
              "          dataTable['output_type'] = 'display_data';\n",
              "          await google.colab.output.renderOutput(dataTable, element);\n",
              "          const docLink = document.createElement('div');\n",
              "          docLink.innerHTML = docLinkHtml;\n",
              "          element.appendChild(docLink);\n",
              "        }\n",
              "      </script>\n",
              "    </div>\n",
              "  </div>\n",
              "  "
            ]
          },
          "metadata": {},
          "execution_count": 51
        }
      ]
    },
    {
      "cell_type": "markdown",
      "source": [
        "##Text Preprocessing\n",
        "\n",
        "Finally, we perform clean up on the fulltext column. We remove links, stopwords, punctuations, extra whitespace, etc. We also create an additional column for lemmatized text using the WordNetLemmatizer."
      ],
      "metadata": {
        "id": "P_8KoK2ITIGT"
      }
    },
    {
      "cell_type": "code",
      "source": [
        "import nltk\n",
        "from nltk.corpus import stopwords\n",
        "from nltk.tokenize import word_tokenize\n",
        "from nltk.tag import pos_tag\n",
        "from nltk.stem import WordNetLemmatizer\n",
        "import tqdm\n",
        "import string"
      ],
      "metadata": {
        "id": "k-lcOrfsomV1"
      },
      "execution_count": null,
      "outputs": []
    },
    {
      "cell_type": "code",
      "source": [
        "def get_wordnet_tag(tag):\n",
        "    if tag == 'ADJ':\n",
        "        return 'j'\n",
        "    elif tag == 'VERB':\n",
        "        return 'v'\n",
        "    elif tag == 'NOUN':\n",
        "        return 'n'\n",
        "    elif tag == 'ADV':\n",
        "        return 'r'\n",
        "    else:\n",
        "        return 'n'\n",
        "\n",
        "def lemmatize_text(title):\n",
        "    stop = stopwords.words('english')\n",
        "    lemmatizer = WordNetLemmatizer()\n",
        "\n",
        "    words = list()\n",
        "    title = word_tokenize(title)\n",
        "    for word, tag in pos_tag(title):\n",
        "        tag = get_wordnet_tag(tag)\n",
        "        word = lemmatizer.lemmatize(word, tag)\n",
        "        if word not in stop:\n",
        "            words.append(word)\n",
        "    \n",
        "    return ' '.join(words)  "
      ],
      "metadata": {
        "id": "HvH9WhJMoZ4d"
      },
      "execution_count": null,
      "outputs": []
    },
    {
      "cell_type": "code",
      "source": [
        "def clean_text(dataset):\n",
        "    \n",
        "    tqdm.tqdm.pandas()\n",
        "    \n",
        "    dataset['ctext'] = dataset['fulltext'].str.lower()\n",
        "    dataset['ctext'] = dataset['ctext'].str.replace(r'\\[oc\\]', ' ')\n",
        "    pattern_link = r'https?://[^\\s]+|www\\.[^\\s]+|[^\\s]+\\.com[^\\s]*|[^\\s]+\\.org[^\\s]*|[^\\s]+\\.html[^\\s]*'\n",
        "    dataset['ctext'] = dataset['ctext'].str.replace(pattern_link, ' link ')\n",
        "    \n",
        "    pattern_punctuation = r'[' + string.punctuation + '’]'\n",
        "    dataset['ctext'] = dataset['ctext'].str.replace(pattern_punctuation, '')\n",
        "    dataset['ctext'] = dataset['ctext'].str.replace(r' [\\d]+ |^[\\d]+ | [\\d]+$', ' ')\n",
        "    dataset['ctext'] = dataset['ctext'].str.replace(r'[^\\w\\d\\s]+', ' ')\n",
        "    dataset['lemma_text'] = dataset['ctext'].progress_apply(lambda text: lemmatize_text(text))\n",
        "    dataset['ctext'] = dataset['ctext'].str.replace(r'\\s[\\s]+', ' ')\n",
        "    dataset['lemma_text'] = dataset['lemma_text'].str.replace(r'\\s[\\s]+', ' ')"
      ],
      "metadata": {
        "id": "_9ARy-RbnrKX"
      },
      "execution_count": null,
      "outputs": []
    },
    {
      "cell_type": "code",
      "source": [
        "nltk.download('stopwords')\n",
        "nltk.download('punkt')\n",
        "nltk.download('averaged_perceptron_tagger')\n",
        "nltk.download('wordnet')"
      ],
      "metadata": {
        "colab": {
          "base_uri": "https://localhost:8080/"
        },
        "id": "Rp45xh8AqH6B",
        "outputId": "f2d6986c-f982-4e31-840f-fa31c101e9a1"
      },
      "execution_count": null,
      "outputs": [
        {
          "output_type": "stream",
          "name": "stdout",
          "text": [
            "[nltk_data] Downloading package stopwords to /root/nltk_data...\n",
            "[nltk_data]   Package stopwords is already up-to-date!\n",
            "[nltk_data] Downloading package punkt to /root/nltk_data...\n",
            "[nltk_data]   Package punkt is already up-to-date!\n",
            "[nltk_data] Downloading package averaged_perceptron_tagger to\n",
            "[nltk_data]     /root/nltk_data...\n",
            "[nltk_data]   Package averaged_perceptron_tagger is already up-to-\n",
            "[nltk_data]       date!\n",
            "[nltk_data] Downloading package wordnet to /root/nltk_data...\n",
            "[nltk_data]   Unzipping corpora/wordnet.zip.\n"
          ]
        },
        {
          "output_type": "execute_result",
          "data": {
            "text/plain": [
              "True"
            ]
          },
          "metadata": {},
          "execution_count": 67
        }
      ]
    },
    {
      "cell_type": "code",
      "source": [
        "clean_text(df_reduced)"
      ],
      "metadata": {
        "colab": {
          "base_uri": "https://localhost:8080/"
        },
        "id": "sQiHc5RKpvl-",
        "outputId": "8ecdc283-2ebd-4b6a-baba-499e3c6f1c2c"
      },
      "execution_count": null,
      "outputs": [
        {
          "output_type": "stream",
          "name": "stderr",
          "text": [
            "/usr/local/lib/python3.7/dist-packages/ipykernel_launcher.py:5: SettingWithCopyWarning: \n",
            "A value is trying to be set on a copy of a slice from a DataFrame.\n",
            "Try using .loc[row_indexer,col_indexer] = value instead\n",
            "\n",
            "See the caveats in the documentation: https://pandas.pydata.org/pandas-docs/stable/user_guide/indexing.html#returning-a-view-versus-a-copy\n",
            "  \"\"\"\n",
            "/usr/local/lib/python3.7/dist-packages/ipykernel_launcher.py:6: FutureWarning: The default value of regex will change from True to False in a future version.\n",
            "  \n",
            "/usr/local/lib/python3.7/dist-packages/ipykernel_launcher.py:6: SettingWithCopyWarning: \n",
            "A value is trying to be set on a copy of a slice from a DataFrame.\n",
            "Try using .loc[row_indexer,col_indexer] = value instead\n",
            "\n",
            "See the caveats in the documentation: https://pandas.pydata.org/pandas-docs/stable/user_guide/indexing.html#returning-a-view-versus-a-copy\n",
            "  \n",
            "/usr/local/lib/python3.7/dist-packages/ipykernel_launcher.py:8: FutureWarning: The default value of regex will change from True to False in a future version.\n",
            "  \n",
            "/usr/local/lib/python3.7/dist-packages/ipykernel_launcher.py:8: SettingWithCopyWarning: \n",
            "A value is trying to be set on a copy of a slice from a DataFrame.\n",
            "Try using .loc[row_indexer,col_indexer] = value instead\n",
            "\n",
            "See the caveats in the documentation: https://pandas.pydata.org/pandas-docs/stable/user_guide/indexing.html#returning-a-view-versus-a-copy\n",
            "  \n",
            "/usr/local/lib/python3.7/dist-packages/ipykernel_launcher.py:11: FutureWarning: The default value of regex will change from True to False in a future version.\n",
            "  # This is added back by InteractiveShellApp.init_path()\n",
            "/usr/local/lib/python3.7/dist-packages/ipykernel_launcher.py:11: SettingWithCopyWarning: \n",
            "A value is trying to be set on a copy of a slice from a DataFrame.\n",
            "Try using .loc[row_indexer,col_indexer] = value instead\n",
            "\n",
            "See the caveats in the documentation: https://pandas.pydata.org/pandas-docs/stable/user_guide/indexing.html#returning-a-view-versus-a-copy\n",
            "  # This is added back by InteractiveShellApp.init_path()\n",
            "/usr/local/lib/python3.7/dist-packages/ipykernel_launcher.py:12: FutureWarning: The default value of regex will change from True to False in a future version.\n",
            "  if sys.path[0] == '':\n",
            "/usr/local/lib/python3.7/dist-packages/ipykernel_launcher.py:12: SettingWithCopyWarning: \n",
            "A value is trying to be set on a copy of a slice from a DataFrame.\n",
            "Try using .loc[row_indexer,col_indexer] = value instead\n",
            "\n",
            "See the caveats in the documentation: https://pandas.pydata.org/pandas-docs/stable/user_guide/indexing.html#returning-a-view-versus-a-copy\n",
            "  if sys.path[0] == '':\n",
            "/usr/local/lib/python3.7/dist-packages/ipykernel_launcher.py:13: FutureWarning: The default value of regex will change from True to False in a future version.\n",
            "  del sys.path[0]\n",
            "/usr/local/lib/python3.7/dist-packages/ipykernel_launcher.py:13: SettingWithCopyWarning: \n",
            "A value is trying to be set on a copy of a slice from a DataFrame.\n",
            "Try using .loc[row_indexer,col_indexer] = value instead\n",
            "\n",
            "See the caveats in the documentation: https://pandas.pydata.org/pandas-docs/stable/user_guide/indexing.html#returning-a-view-versus-a-copy\n",
            "  del sys.path[0]\n",
            "100%|██████████| 2073/2073 [00:39<00:00, 52.47it/s] \n",
            "/usr/local/lib/python3.7/dist-packages/ipykernel_launcher.py:14: SettingWithCopyWarning: \n",
            "A value is trying to be set on a copy of a slice from a DataFrame.\n",
            "Try using .loc[row_indexer,col_indexer] = value instead\n",
            "\n",
            "See the caveats in the documentation: https://pandas.pydata.org/pandas-docs/stable/user_guide/indexing.html#returning-a-view-versus-a-copy\n",
            "  \n",
            "/usr/local/lib/python3.7/dist-packages/ipykernel_launcher.py:15: FutureWarning: The default value of regex will change from True to False in a future version.\n",
            "  from ipykernel import kernelapp as app\n",
            "/usr/local/lib/python3.7/dist-packages/ipykernel_launcher.py:15: SettingWithCopyWarning: \n",
            "A value is trying to be set on a copy of a slice from a DataFrame.\n",
            "Try using .loc[row_indexer,col_indexer] = value instead\n",
            "\n",
            "See the caveats in the documentation: https://pandas.pydata.org/pandas-docs/stable/user_guide/indexing.html#returning-a-view-versus-a-copy\n",
            "  from ipykernel import kernelapp as app\n",
            "/usr/local/lib/python3.7/dist-packages/ipykernel_launcher.py:16: FutureWarning: The default value of regex will change from True to False in a future version.\n",
            "  app.launch_new_instance()\n",
            "/usr/local/lib/python3.7/dist-packages/ipykernel_launcher.py:16: SettingWithCopyWarning: \n",
            "A value is trying to be set on a copy of a slice from a DataFrame.\n",
            "Try using .loc[row_indexer,col_indexer] = value instead\n",
            "\n",
            "See the caveats in the documentation: https://pandas.pydata.org/pandas-docs/stable/user_guide/indexing.html#returning-a-view-versus-a-copy\n",
            "  app.launch_new_instance()\n"
          ]
        }
      ]
    },
    {
      "cell_type": "code",
      "source": [
        "df_reduced['lemma_text'].iloc[0]"
      ],
      "metadata": {
        "colab": {
          "base_uri": "https://localhost:8080/",
          "height": 140
        },
        "id": "jVy4LMX8p3uH",
        "outputId": "72d31560-f535-43df-b9e0-1b49f966ad01"
      },
      "execution_count": null,
      "outputs": [
        {
          "output_type": "execute_result",
          "data": {
            "text/plain": [
              "'cybersec charcha global overview state surveillance pegasus revelation ampx200b link lot ha happened month july revelation made pegasus project link exposed sophisticated surveillance technology ha become widely used especially target human right defender journalist activist india country across world today edition cybersec charcha well look global state surveillance wide ranging impact people fundamental right privacy sign newsletter link background pegasus project pegasus project result unprecedented collaboration journalist medium organization country project wa coordinated forbidden link paris based medium non profit organization backed technical support amnesty international security lab forensic analysis conducted amnesty international part pegasus project amnesty international security lab conducted indepth forensic analysis multiple mobile phone used hrds link finding uncovered persistent unlawful surveillance human right abuse carried using nsos pegasus spyware whereas nso group company behind pegasus spyware claim pegasus used investigate terrorist criminal activity leaf trace victim mobile phone amnesty analysis suggests untrue amnesty ha found trace left io android phone targeted pegasus part project amnesty ha also made forensic methodology public read full detail link detail get bit technical time still worth read understand sheer scale attack nso company sell spyware report published privacy international global surveillance link ha telling finding despite report year old figure report offer key insight hindsight current state global surveillance doe seem surprising fact ha coming long time example graph look number surveillance company created year 2015 ampx200b source privacy international link table featured report look industry actor involved surveillance ampx200b source privacy international link multiple report published link also suggest nso merely one player surveillance industry globally fact researcher say tool getting cheaper everyday making easy top intelligence agency purchase spyware also procured easily smaller government local police agency many vendor selling mercenary spyware come focus post pegasus revelation citizen lab published detailed report one company called candiru link sell similar spyware candirus spyware said ability infect monitor iphones android mac pc cloud account citizen lab found ethiopia used spyware developed cyberbit another company israel infect computer exiled dissident germany finfisher widely marketed tool supposedly help law enforcement agency tackle crime italian firm hacking team wa centre scandal similar pegasus leak revealed wa selling spyware government world company ha since renamed memento lab handpicked data show u surveillance crisis new problem ha gotten worse year leading pegasus project civil society organisation world warning u year unchecked spyware industry enables human right link due sophisticated nature spyware government must step ensure stringent regulation control export tool ensure compliance international human right standard victim targeted pegasus regaining control revelation made part project also brought light harrowing account victim targeted link includes female journalist activist private photo shared social medium receiving end widespread harassment lina alhathloul one many victim targeted spyware said effective short term long term wont work woman realize shamed oppressed gather unite message sending clear silenced closer home india victim pegasus spyware moved supreme court protect fundamental right link petition filed journalist paranjoy guha thakurta snm abdi prem shankar jha rupesh kumar singh activist ipsa shatakshi amnesty international ha also called government issue moratorium sale export use technology like link way defend powerful attack since pegasus sophisticated spyware many people light revelation struggling privacy nihilism security nihilism imperative dont give feeling privacy dead insecure authoritarian regime government spy dissident precisely privacy dead continued existence threat regime moreover also true yes difficult protect attack like pegasus still protective measure taken intercept ha detailed piece step take protect link urge go article since offer useful advice especially people risk targeted attack news ibm report show average cost data breach highest year recent report look cost data breach ibm link indicates cost associated data breach reached record high number report analysed breach faced different organization last month found average data breach cost victim million per incident highest year access full report link read overview key finding link amazon ha fined 886m alleged data law breach luxembourg national commission data protection ha fined tech giant 636m claiming processing personal data comply eu law amazon claim decision without merit plan defend vigorously fine come aftermath increasing regulatory scrutiny tech giant due concern privacy misinformation read entire fiasco link iff reliant support work effectively like work please consider link becoming member making onetime donation'"
            ],
            "application/vnd.google.colaboratory.intrinsic+json": {
              "type": "string"
            }
          },
          "metadata": {},
          "execution_count": 71
        }
      ]
    },
    {
      "cell_type": "code",
      "source": [
        "df_reduced.info()"
      ],
      "metadata": {
        "colab": {
          "base_uri": "https://localhost:8080/"
        },
        "id": "QNzhRwyLqsyC",
        "outputId": "0fa4dab4-a795-49a7-a117-f47ac9b4e642"
      },
      "execution_count": null,
      "outputs": [
        {
          "output_type": "stream",
          "name": "stdout",
          "text": [
            "<class 'pandas.core.frame.DataFrame'>\n",
            "Int64Index: 2073 entries, 0 to 2095\n",
            "Data columns (total 26 columns):\n",
            " #   Column               Non-Null Count  Dtype  \n",
            "---  ------               --------------  -----  \n",
            " 0   author               2073 non-null   object \n",
            " 1   created_utc          2073 non-null   int64  \n",
            " 2   full_link            2073 non-null   object \n",
            " 3   id                   2073 non-null   object \n",
            " 4   is_original_content  2073 non-null   bool   \n",
            " 5   is_self              2073 non-null   bool   \n",
            " 6   is_video             2073 non-null   bool   \n",
            " 7   link_flair_text      2073 non-null   object \n",
            " 8   num_comments         2073 non-null   int64  \n",
            " 9   over_18              2073 non-null   bool   \n",
            " 10  score                2073 non-null   int64  \n",
            " 11  selftext             2073 non-null   object \n",
            " 12  send_replies         2073 non-null   bool   \n",
            " 13  subreddit            2073 non-null   object \n",
            " 14  title                2073 non-null   object \n",
            " 15  upvote_ratio         2073 non-null   float64\n",
            " 16  url                  2073 non-null   object \n",
            " 17  fulltext             2073 non-null   object \n",
            " 18  year                 2073 non-null   int64  \n",
            " 19  month                2073 non-null   int64  \n",
            " 20  day                  2073 non-null   int64  \n",
            " 21  hour                 2073 non-null   int64  \n",
            " 22  minute               2073 non-null   int64  \n",
            " 23  second               2073 non-null   int64  \n",
            " 24  ctext                2073 non-null   object \n",
            " 25  lemma_text           2073 non-null   object \n",
            "dtypes: bool(5), float64(1), int64(9), object(11)\n",
            "memory usage: 366.4+ KB\n"
          ]
        }
      ]
    },
    {
      "cell_type": "code",
      "source": [
        "df_reduced.describe()"
      ],
      "metadata": {
        "colab": {
          "base_uri": "https://localhost:8080/",
          "height": 300
        },
        "id": "PJk84afCrM9b",
        "outputId": "dbeccb45-e11d-4815-c793-78a07e4af1e1"
      },
      "execution_count": null,
      "outputs": [
        {
          "output_type": "execute_result",
          "data": {
            "text/plain": [
              "        created_utc  num_comments        score  upvote_ratio         year  \\\n",
              "count  2.073000e+03   2073.000000  2073.000000   2073.000000  2073.000000   \n",
              "mean   1.598956e+09     18.805596    14.268693      0.991904  2020.152436   \n",
              "std    6.459901e+07     45.391947    55.169392      0.039682     2.077856   \n",
              "min    1.400265e+09      0.000000     0.000000      0.450000  2014.000000   \n",
              "25%    1.584604e+09      0.000000     1.000000      0.991904  2020.000000   \n",
              "50%    1.629211e+09      2.000000     1.000000      1.000000  2021.000000   \n",
              "75%    1.639813e+09     15.000000     1.000000      1.000000  2021.000000   \n",
              "max    1.651484e+09    608.000000   995.000000      1.000000  2022.000000   \n",
              "\n",
              "             month          day         hour       minute       second  \n",
              "count  2073.000000  2073.000000  2073.000000  2073.000000  2073.000000  \n",
              "mean      6.702364    15.962373    10.430777    29.477086    29.783406  \n",
              "std       3.490290     8.588430     5.478649    17.163184    17.025812  \n",
              "min       1.000000     1.000000     0.000000     0.000000     0.000000  \n",
              "25%       4.000000     8.000000     6.000000    15.000000    15.000000  \n",
              "50%       7.000000    16.000000    10.000000    30.000000    30.000000  \n",
              "75%      10.000000    23.000000    15.000000    44.000000    45.000000  \n",
              "max      12.000000    31.000000    23.000000    59.000000    59.000000  "
            ],
            "text/html": [
              "\n",
              "  <div id=\"df-9074f95d-e255-413d-a918-7f5738f809bd\">\n",
              "    <div class=\"colab-df-container\">\n",
              "      <div>\n",
              "<style scoped>\n",
              "    .dataframe tbody tr th:only-of-type {\n",
              "        vertical-align: middle;\n",
              "    }\n",
              "\n",
              "    .dataframe tbody tr th {\n",
              "        vertical-align: top;\n",
              "    }\n",
              "\n",
              "    .dataframe thead th {\n",
              "        text-align: right;\n",
              "    }\n",
              "</style>\n",
              "<table border=\"1\" class=\"dataframe\">\n",
              "  <thead>\n",
              "    <tr style=\"text-align: right;\">\n",
              "      <th></th>\n",
              "      <th>created_utc</th>\n",
              "      <th>num_comments</th>\n",
              "      <th>score</th>\n",
              "      <th>upvote_ratio</th>\n",
              "      <th>year</th>\n",
              "      <th>month</th>\n",
              "      <th>day</th>\n",
              "      <th>hour</th>\n",
              "      <th>minute</th>\n",
              "      <th>second</th>\n",
              "    </tr>\n",
              "  </thead>\n",
              "  <tbody>\n",
              "    <tr>\n",
              "      <th>count</th>\n",
              "      <td>2.073000e+03</td>\n",
              "      <td>2073.000000</td>\n",
              "      <td>2073.000000</td>\n",
              "      <td>2073.000000</td>\n",
              "      <td>2073.000000</td>\n",
              "      <td>2073.000000</td>\n",
              "      <td>2073.000000</td>\n",
              "      <td>2073.000000</td>\n",
              "      <td>2073.000000</td>\n",
              "      <td>2073.000000</td>\n",
              "    </tr>\n",
              "    <tr>\n",
              "      <th>mean</th>\n",
              "      <td>1.598956e+09</td>\n",
              "      <td>18.805596</td>\n",
              "      <td>14.268693</td>\n",
              "      <td>0.991904</td>\n",
              "      <td>2020.152436</td>\n",
              "      <td>6.702364</td>\n",
              "      <td>15.962373</td>\n",
              "      <td>10.430777</td>\n",
              "      <td>29.477086</td>\n",
              "      <td>29.783406</td>\n",
              "    </tr>\n",
              "    <tr>\n",
              "      <th>std</th>\n",
              "      <td>6.459901e+07</td>\n",
              "      <td>45.391947</td>\n",
              "      <td>55.169392</td>\n",
              "      <td>0.039682</td>\n",
              "      <td>2.077856</td>\n",
              "      <td>3.490290</td>\n",
              "      <td>8.588430</td>\n",
              "      <td>5.478649</td>\n",
              "      <td>17.163184</td>\n",
              "      <td>17.025812</td>\n",
              "    </tr>\n",
              "    <tr>\n",
              "      <th>min</th>\n",
              "      <td>1.400265e+09</td>\n",
              "      <td>0.000000</td>\n",
              "      <td>0.000000</td>\n",
              "      <td>0.450000</td>\n",
              "      <td>2014.000000</td>\n",
              "      <td>1.000000</td>\n",
              "      <td>1.000000</td>\n",
              "      <td>0.000000</td>\n",
              "      <td>0.000000</td>\n",
              "      <td>0.000000</td>\n",
              "    </tr>\n",
              "    <tr>\n",
              "      <th>25%</th>\n",
              "      <td>1.584604e+09</td>\n",
              "      <td>0.000000</td>\n",
              "      <td>1.000000</td>\n",
              "      <td>0.991904</td>\n",
              "      <td>2020.000000</td>\n",
              "      <td>4.000000</td>\n",
              "      <td>8.000000</td>\n",
              "      <td>6.000000</td>\n",
              "      <td>15.000000</td>\n",
              "      <td>15.000000</td>\n",
              "    </tr>\n",
              "    <tr>\n",
              "      <th>50%</th>\n",
              "      <td>1.629211e+09</td>\n",
              "      <td>2.000000</td>\n",
              "      <td>1.000000</td>\n",
              "      <td>1.000000</td>\n",
              "      <td>2021.000000</td>\n",
              "      <td>7.000000</td>\n",
              "      <td>16.000000</td>\n",
              "      <td>10.000000</td>\n",
              "      <td>30.000000</td>\n",
              "      <td>30.000000</td>\n",
              "    </tr>\n",
              "    <tr>\n",
              "      <th>75%</th>\n",
              "      <td>1.639813e+09</td>\n",
              "      <td>15.000000</td>\n",
              "      <td>1.000000</td>\n",
              "      <td>1.000000</td>\n",
              "      <td>2021.000000</td>\n",
              "      <td>10.000000</td>\n",
              "      <td>23.000000</td>\n",
              "      <td>15.000000</td>\n",
              "      <td>44.000000</td>\n",
              "      <td>45.000000</td>\n",
              "    </tr>\n",
              "    <tr>\n",
              "      <th>max</th>\n",
              "      <td>1.651484e+09</td>\n",
              "      <td>608.000000</td>\n",
              "      <td>995.000000</td>\n",
              "      <td>1.000000</td>\n",
              "      <td>2022.000000</td>\n",
              "      <td>12.000000</td>\n",
              "      <td>31.000000</td>\n",
              "      <td>23.000000</td>\n",
              "      <td>59.000000</td>\n",
              "      <td>59.000000</td>\n",
              "    </tr>\n",
              "  </tbody>\n",
              "</table>\n",
              "</div>\n",
              "      <button class=\"colab-df-convert\" onclick=\"convertToInteractive('df-9074f95d-e255-413d-a918-7f5738f809bd')\"\n",
              "              title=\"Convert this dataframe to an interactive table.\"\n",
              "              style=\"display:none;\">\n",
              "        \n",
              "  <svg xmlns=\"http://www.w3.org/2000/svg\" height=\"24px\"viewBox=\"0 0 24 24\"\n",
              "       width=\"24px\">\n",
              "    <path d=\"M0 0h24v24H0V0z\" fill=\"none\"/>\n",
              "    <path d=\"M18.56 5.44l.94 2.06.94-2.06 2.06-.94-2.06-.94-.94-2.06-.94 2.06-2.06.94zm-11 1L8.5 8.5l.94-2.06 2.06-.94-2.06-.94L8.5 2.5l-.94 2.06-2.06.94zm10 10l.94 2.06.94-2.06 2.06-.94-2.06-.94-.94-2.06-.94 2.06-2.06.94z\"/><path d=\"M17.41 7.96l-1.37-1.37c-.4-.4-.92-.59-1.43-.59-.52 0-1.04.2-1.43.59L10.3 9.45l-7.72 7.72c-.78.78-.78 2.05 0 2.83L4 21.41c.39.39.9.59 1.41.59.51 0 1.02-.2 1.41-.59l7.78-7.78 2.81-2.81c.8-.78.8-2.07 0-2.86zM5.41 20L4 18.59l7.72-7.72 1.47 1.35L5.41 20z\"/>\n",
              "  </svg>\n",
              "      </button>\n",
              "      \n",
              "  <style>\n",
              "    .colab-df-container {\n",
              "      display:flex;\n",
              "      flex-wrap:wrap;\n",
              "      gap: 12px;\n",
              "    }\n",
              "\n",
              "    .colab-df-convert {\n",
              "      background-color: #E8F0FE;\n",
              "      border: none;\n",
              "      border-radius: 50%;\n",
              "      cursor: pointer;\n",
              "      display: none;\n",
              "      fill: #1967D2;\n",
              "      height: 32px;\n",
              "      padding: 0 0 0 0;\n",
              "      width: 32px;\n",
              "    }\n",
              "\n",
              "    .colab-df-convert:hover {\n",
              "      background-color: #E2EBFA;\n",
              "      box-shadow: 0px 1px 2px rgba(60, 64, 67, 0.3), 0px 1px 3px 1px rgba(60, 64, 67, 0.15);\n",
              "      fill: #174EA6;\n",
              "    }\n",
              "\n",
              "    [theme=dark] .colab-df-convert {\n",
              "      background-color: #3B4455;\n",
              "      fill: #D2E3FC;\n",
              "    }\n",
              "\n",
              "    [theme=dark] .colab-df-convert:hover {\n",
              "      background-color: #434B5C;\n",
              "      box-shadow: 0px 1px 3px 1px rgba(0, 0, 0, 0.15);\n",
              "      filter: drop-shadow(0px 1px 2px rgba(0, 0, 0, 0.3));\n",
              "      fill: #FFFFFF;\n",
              "    }\n",
              "  </style>\n",
              "\n",
              "      <script>\n",
              "        const buttonEl =\n",
              "          document.querySelector('#df-9074f95d-e255-413d-a918-7f5738f809bd button.colab-df-convert');\n",
              "        buttonEl.style.display =\n",
              "          google.colab.kernel.accessAllowed ? 'block' : 'none';\n",
              "\n",
              "        async function convertToInteractive(key) {\n",
              "          const element = document.querySelector('#df-9074f95d-e255-413d-a918-7f5738f809bd');\n",
              "          const dataTable =\n",
              "            await google.colab.kernel.invokeFunction('convertToInteractive',\n",
              "                                                     [key], {});\n",
              "          if (!dataTable) return;\n",
              "\n",
              "          const docLinkHtml = 'Like what you see? Visit the ' +\n",
              "            '<a target=\"_blank\" href=https://colab.research.google.com/notebooks/data_table.ipynb>data table notebook</a>'\n",
              "            + ' to learn more about interactive tables.';\n",
              "          element.innerHTML = '';\n",
              "          dataTable['output_type'] = 'display_data';\n",
              "          await google.colab.output.renderOutput(dataTable, element);\n",
              "          const docLink = document.createElement('div');\n",
              "          docLink.innerHTML = docLinkHtml;\n",
              "          element.appendChild(docLink);\n",
              "        }\n",
              "      </script>\n",
              "    </div>\n",
              "  </div>\n",
              "  "
            ]
          },
          "metadata": {},
          "execution_count": 73
        }
      ]
    },
    {
      "cell_type": "code",
      "source": [
        "df_reduced.drop(['url', 'id'], axis=1, inplace=True)"
      ],
      "metadata": {
        "colab": {
          "base_uri": "https://localhost:8080/"
        },
        "id": "tJuzY8k_rT-v",
        "outputId": "8903f9f7-0e20-4c39-df0f-88ac087d3159"
      },
      "execution_count": null,
      "outputs": [
        {
          "output_type": "stream",
          "name": "stderr",
          "text": [
            "/usr/local/lib/python3.7/dist-packages/pandas/core/frame.py:4913: SettingWithCopyWarning: \n",
            "A value is trying to be set on a copy of a slice from a DataFrame\n",
            "\n",
            "See the caveats in the documentation: https://pandas.pydata.org/pandas-docs/stable/user_guide/indexing.html#returning-a-view-versus-a-copy\n",
            "  errors=errors,\n"
          ]
        }
      ]
    },
    {
      "cell_type": "code",
      "source": [
        "df_reduced.reset_index(drop=True, inplace=True)"
      ],
      "metadata": {
        "id": "s8_pLnboskU0"
      },
      "execution_count": null,
      "outputs": []
    },
    {
      "cell_type": "code",
      "source": [
        "df_reduced.to_pickle(\"/content/drive/MyDrive/Wysa/df_preproc.pkl\")"
      ],
      "metadata": {
        "id": "pT-0fYf5sXzx"
      },
      "execution_count": null,
      "outputs": []
    }
  ]
}