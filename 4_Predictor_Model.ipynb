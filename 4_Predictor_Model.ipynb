{
  "nbformat": 4,
  "nbformat_minor": 0,
  "metadata": {
    "colab": {
      "name": "Wysa Predictor Model.ipynb",
      "provenance": [],
      "collapsed_sections": []
    },
    "kernelspec": {
      "name": "python3",
      "display_name": "Python 3"
    },
    "language_info": {
      "name": "python"
    },
    "accelerator": "GPU",
    "widgets": {
      "application/vnd.jupyter.widget-state+json": {
        "a778bd9696b04c61ad5d7b8e671053b7": {
          "model_module": "@jupyter-widgets/controls",
          "model_name": "HBoxModel",
          "model_module_version": "1.5.0",
          "state": {
            "_dom_classes": [],
            "_model_module": "@jupyter-widgets/controls",
            "_model_module_version": "1.5.0",
            "_model_name": "HBoxModel",
            "_view_count": null,
            "_view_module": "@jupyter-widgets/controls",
            "_view_module_version": "1.5.0",
            "_view_name": "HBoxView",
            "box_style": "",
            "children": [
              "IPY_MODEL_bafe8bbaa66f42baa700440375389896",
              "IPY_MODEL_73343ba572224e808b65308e1a56ea84",
              "IPY_MODEL_1ebad50c4296430ab5f268179622b1fd"
            ],
            "layout": "IPY_MODEL_5a1d386db1964d49810970136c4a9bd5"
          }
        },
        "bafe8bbaa66f42baa700440375389896": {
          "model_module": "@jupyter-widgets/controls",
          "model_name": "HTMLModel",
          "model_module_version": "1.5.0",
          "state": {
            "_dom_classes": [],
            "_model_module": "@jupyter-widgets/controls",
            "_model_module_version": "1.5.0",
            "_model_name": "HTMLModel",
            "_view_count": null,
            "_view_module": "@jupyter-widgets/controls",
            "_view_module_version": "1.5.0",
            "_view_name": "HTMLView",
            "description": "",
            "description_tooltip": null,
            "layout": "IPY_MODEL_c80c4e03e7f8464c9a7203f7bc19cf81",
            "placeholder": "​",
            "style": "IPY_MODEL_0f7367561f204fe892100bf17221c681",
            "value": "Downloading: 100%"
          }
        },
        "73343ba572224e808b65308e1a56ea84": {
          "model_module": "@jupyter-widgets/controls",
          "model_name": "FloatProgressModel",
          "model_module_version": "1.5.0",
          "state": {
            "_dom_classes": [],
            "_model_module": "@jupyter-widgets/controls",
            "_model_module_version": "1.5.0",
            "_model_name": "FloatProgressModel",
            "_view_count": null,
            "_view_module": "@jupyter-widgets/controls",
            "_view_module_version": "1.5.0",
            "_view_name": "ProgressView",
            "bar_style": "success",
            "description": "",
            "description_tooltip": null,
            "layout": "IPY_MODEL_3a82b47c4ff64990a9f44241f8afd07a",
            "max": 28,
            "min": 0,
            "orientation": "horizontal",
            "style": "IPY_MODEL_fe9640252b8a4d468879898ff7c4ff39",
            "value": 28
          }
        },
        "1ebad50c4296430ab5f268179622b1fd": {
          "model_module": "@jupyter-widgets/controls",
          "model_name": "HTMLModel",
          "model_module_version": "1.5.0",
          "state": {
            "_dom_classes": [],
            "_model_module": "@jupyter-widgets/controls",
            "_model_module_version": "1.5.0",
            "_model_name": "HTMLModel",
            "_view_count": null,
            "_view_module": "@jupyter-widgets/controls",
            "_view_module_version": "1.5.0",
            "_view_name": "HTMLView",
            "description": "",
            "description_tooltip": null,
            "layout": "IPY_MODEL_1c23be9238ad4cf889f70aff945eb099",
            "placeholder": "​",
            "style": "IPY_MODEL_1d097afa3eed4ee593e136ab3c738eb1",
            "value": " 28.0/28.0 [00:00&lt;00:00, 643B/s]"
          }
        },
        "5a1d386db1964d49810970136c4a9bd5": {
          "model_module": "@jupyter-widgets/base",
          "model_name": "LayoutModel",
          "model_module_version": "1.2.0",
          "state": {
            "_model_module": "@jupyter-widgets/base",
            "_model_module_version": "1.2.0",
            "_model_name": "LayoutModel",
            "_view_count": null,
            "_view_module": "@jupyter-widgets/base",
            "_view_module_version": "1.2.0",
            "_view_name": "LayoutView",
            "align_content": null,
            "align_items": null,
            "align_self": null,
            "border": null,
            "bottom": null,
            "display": null,
            "flex": null,
            "flex_flow": null,
            "grid_area": null,
            "grid_auto_columns": null,
            "grid_auto_flow": null,
            "grid_auto_rows": null,
            "grid_column": null,
            "grid_gap": null,
            "grid_row": null,
            "grid_template_areas": null,
            "grid_template_columns": null,
            "grid_template_rows": null,
            "height": null,
            "justify_content": null,
            "justify_items": null,
            "left": null,
            "margin": null,
            "max_height": null,
            "max_width": null,
            "min_height": null,
            "min_width": null,
            "object_fit": null,
            "object_position": null,
            "order": null,
            "overflow": null,
            "overflow_x": null,
            "overflow_y": null,
            "padding": null,
            "right": null,
            "top": null,
            "visibility": null,
            "width": null
          }
        },
        "c80c4e03e7f8464c9a7203f7bc19cf81": {
          "model_module": "@jupyter-widgets/base",
          "model_name": "LayoutModel",
          "model_module_version": "1.2.0",
          "state": {
            "_model_module": "@jupyter-widgets/base",
            "_model_module_version": "1.2.0",
            "_model_name": "LayoutModel",
            "_view_count": null,
            "_view_module": "@jupyter-widgets/base",
            "_view_module_version": "1.2.0",
            "_view_name": "LayoutView",
            "align_content": null,
            "align_items": null,
            "align_self": null,
            "border": null,
            "bottom": null,
            "display": null,
            "flex": null,
            "flex_flow": null,
            "grid_area": null,
            "grid_auto_columns": null,
            "grid_auto_flow": null,
            "grid_auto_rows": null,
            "grid_column": null,
            "grid_gap": null,
            "grid_row": null,
            "grid_template_areas": null,
            "grid_template_columns": null,
            "grid_template_rows": null,
            "height": null,
            "justify_content": null,
            "justify_items": null,
            "left": null,
            "margin": null,
            "max_height": null,
            "max_width": null,
            "min_height": null,
            "min_width": null,
            "object_fit": null,
            "object_position": null,
            "order": null,
            "overflow": null,
            "overflow_x": null,
            "overflow_y": null,
            "padding": null,
            "right": null,
            "top": null,
            "visibility": null,
            "width": null
          }
        },
        "0f7367561f204fe892100bf17221c681": {
          "model_module": "@jupyter-widgets/controls",
          "model_name": "DescriptionStyleModel",
          "model_module_version": "1.5.0",
          "state": {
            "_model_module": "@jupyter-widgets/controls",
            "_model_module_version": "1.5.0",
            "_model_name": "DescriptionStyleModel",
            "_view_count": null,
            "_view_module": "@jupyter-widgets/base",
            "_view_module_version": "1.2.0",
            "_view_name": "StyleView",
            "description_width": ""
          }
        },
        "3a82b47c4ff64990a9f44241f8afd07a": {
          "model_module": "@jupyter-widgets/base",
          "model_name": "LayoutModel",
          "model_module_version": "1.2.0",
          "state": {
            "_model_module": "@jupyter-widgets/base",
            "_model_module_version": "1.2.0",
            "_model_name": "LayoutModel",
            "_view_count": null,
            "_view_module": "@jupyter-widgets/base",
            "_view_module_version": "1.2.0",
            "_view_name": "LayoutView",
            "align_content": null,
            "align_items": null,
            "align_self": null,
            "border": null,
            "bottom": null,
            "display": null,
            "flex": null,
            "flex_flow": null,
            "grid_area": null,
            "grid_auto_columns": null,
            "grid_auto_flow": null,
            "grid_auto_rows": null,
            "grid_column": null,
            "grid_gap": null,
            "grid_row": null,
            "grid_template_areas": null,
            "grid_template_columns": null,
            "grid_template_rows": null,
            "height": null,
            "justify_content": null,
            "justify_items": null,
            "left": null,
            "margin": null,
            "max_height": null,
            "max_width": null,
            "min_height": null,
            "min_width": null,
            "object_fit": null,
            "object_position": null,
            "order": null,
            "overflow": null,
            "overflow_x": null,
            "overflow_y": null,
            "padding": null,
            "right": null,
            "top": null,
            "visibility": null,
            "width": null
          }
        },
        "fe9640252b8a4d468879898ff7c4ff39": {
          "model_module": "@jupyter-widgets/controls",
          "model_name": "ProgressStyleModel",
          "model_module_version": "1.5.0",
          "state": {
            "_model_module": "@jupyter-widgets/controls",
            "_model_module_version": "1.5.0",
            "_model_name": "ProgressStyleModel",
            "_view_count": null,
            "_view_module": "@jupyter-widgets/base",
            "_view_module_version": "1.2.0",
            "_view_name": "StyleView",
            "bar_color": null,
            "description_width": ""
          }
        },
        "1c23be9238ad4cf889f70aff945eb099": {
          "model_module": "@jupyter-widgets/base",
          "model_name": "LayoutModel",
          "model_module_version": "1.2.0",
          "state": {
            "_model_module": "@jupyter-widgets/base",
            "_model_module_version": "1.2.0",
            "_model_name": "LayoutModel",
            "_view_count": null,
            "_view_module": "@jupyter-widgets/base",
            "_view_module_version": "1.2.0",
            "_view_name": "LayoutView",
            "align_content": null,
            "align_items": null,
            "align_self": null,
            "border": null,
            "bottom": null,
            "display": null,
            "flex": null,
            "flex_flow": null,
            "grid_area": null,
            "grid_auto_columns": null,
            "grid_auto_flow": null,
            "grid_auto_rows": null,
            "grid_column": null,
            "grid_gap": null,
            "grid_row": null,
            "grid_template_areas": null,
            "grid_template_columns": null,
            "grid_template_rows": null,
            "height": null,
            "justify_content": null,
            "justify_items": null,
            "left": null,
            "margin": null,
            "max_height": null,
            "max_width": null,
            "min_height": null,
            "min_width": null,
            "object_fit": null,
            "object_position": null,
            "order": null,
            "overflow": null,
            "overflow_x": null,
            "overflow_y": null,
            "padding": null,
            "right": null,
            "top": null,
            "visibility": null,
            "width": null
          }
        },
        "1d097afa3eed4ee593e136ab3c738eb1": {
          "model_module": "@jupyter-widgets/controls",
          "model_name": "DescriptionStyleModel",
          "model_module_version": "1.5.0",
          "state": {
            "_model_module": "@jupyter-widgets/controls",
            "_model_module_version": "1.5.0",
            "_model_name": "DescriptionStyleModel",
            "_view_count": null,
            "_view_module": "@jupyter-widgets/base",
            "_view_module_version": "1.2.0",
            "_view_name": "StyleView",
            "description_width": ""
          }
        },
        "6bcf4da30f9f4229a7b4b51d611688ea": {
          "model_module": "@jupyter-widgets/controls",
          "model_name": "HBoxModel",
          "model_module_version": "1.5.0",
          "state": {
            "_dom_classes": [],
            "_model_module": "@jupyter-widgets/controls",
            "_model_module_version": "1.5.0",
            "_model_name": "HBoxModel",
            "_view_count": null,
            "_view_module": "@jupyter-widgets/controls",
            "_view_module_version": "1.5.0",
            "_view_name": "HBoxView",
            "box_style": "",
            "children": [
              "IPY_MODEL_75971b28382f49ed80763c81433bd277",
              "IPY_MODEL_a14dea3981d94099a1f569776ac491b2",
              "IPY_MODEL_87e9e1005a0e4ecf8df384678bf0a841"
            ],
            "layout": "IPY_MODEL_16d2accff2bc472d9d92269feb93c5af"
          }
        },
        "75971b28382f49ed80763c81433bd277": {
          "model_module": "@jupyter-widgets/controls",
          "model_name": "HTMLModel",
          "model_module_version": "1.5.0",
          "state": {
            "_dom_classes": [],
            "_model_module": "@jupyter-widgets/controls",
            "_model_module_version": "1.5.0",
            "_model_name": "HTMLModel",
            "_view_count": null,
            "_view_module": "@jupyter-widgets/controls",
            "_view_module_version": "1.5.0",
            "_view_name": "HTMLView",
            "description": "",
            "description_tooltip": null,
            "layout": "IPY_MODEL_dc083f09f7714a029b1a9a9334d884ca",
            "placeholder": "​",
            "style": "IPY_MODEL_d8092406d3784ac1be9549c7cf075e30",
            "value": "Downloading: 100%"
          }
        },
        "a14dea3981d94099a1f569776ac491b2": {
          "model_module": "@jupyter-widgets/controls",
          "model_name": "FloatProgressModel",
          "model_module_version": "1.5.0",
          "state": {
            "_dom_classes": [],
            "_model_module": "@jupyter-widgets/controls",
            "_model_module_version": "1.5.0",
            "_model_name": "FloatProgressModel",
            "_view_count": null,
            "_view_module": "@jupyter-widgets/controls",
            "_view_module_version": "1.5.0",
            "_view_name": "ProgressView",
            "bar_style": "success",
            "description": "",
            "description_tooltip": null,
            "layout": "IPY_MODEL_393454ce13544812ba5ef8c38e300471",
            "max": 231508,
            "min": 0,
            "orientation": "horizontal",
            "style": "IPY_MODEL_34cff5d26b6c4a1e9ba952413d1276d1",
            "value": 231508
          }
        },
        "87e9e1005a0e4ecf8df384678bf0a841": {
          "model_module": "@jupyter-widgets/controls",
          "model_name": "HTMLModel",
          "model_module_version": "1.5.0",
          "state": {
            "_dom_classes": [],
            "_model_module": "@jupyter-widgets/controls",
            "_model_module_version": "1.5.0",
            "_model_name": "HTMLModel",
            "_view_count": null,
            "_view_module": "@jupyter-widgets/controls",
            "_view_module_version": "1.5.0",
            "_view_name": "HTMLView",
            "description": "",
            "description_tooltip": null,
            "layout": "IPY_MODEL_3ae508c628c7460dba82e6b4478c7654",
            "placeholder": "​",
            "style": "IPY_MODEL_af669ae1d417480c94a12454ee0596e8",
            "value": " 226k/226k [00:00&lt;00:00, 550kB/s]"
          }
        },
        "16d2accff2bc472d9d92269feb93c5af": {
          "model_module": "@jupyter-widgets/base",
          "model_name": "LayoutModel",
          "model_module_version": "1.2.0",
          "state": {
            "_model_module": "@jupyter-widgets/base",
            "_model_module_version": "1.2.0",
            "_model_name": "LayoutModel",
            "_view_count": null,
            "_view_module": "@jupyter-widgets/base",
            "_view_module_version": "1.2.0",
            "_view_name": "LayoutView",
            "align_content": null,
            "align_items": null,
            "align_self": null,
            "border": null,
            "bottom": null,
            "display": null,
            "flex": null,
            "flex_flow": null,
            "grid_area": null,
            "grid_auto_columns": null,
            "grid_auto_flow": null,
            "grid_auto_rows": null,
            "grid_column": null,
            "grid_gap": null,
            "grid_row": null,
            "grid_template_areas": null,
            "grid_template_columns": null,
            "grid_template_rows": null,
            "height": null,
            "justify_content": null,
            "justify_items": null,
            "left": null,
            "margin": null,
            "max_height": null,
            "max_width": null,
            "min_height": null,
            "min_width": null,
            "object_fit": null,
            "object_position": null,
            "order": null,
            "overflow": null,
            "overflow_x": null,
            "overflow_y": null,
            "padding": null,
            "right": null,
            "top": null,
            "visibility": null,
            "width": null
          }
        },
        "dc083f09f7714a029b1a9a9334d884ca": {
          "model_module": "@jupyter-widgets/base",
          "model_name": "LayoutModel",
          "model_module_version": "1.2.0",
          "state": {
            "_model_module": "@jupyter-widgets/base",
            "_model_module_version": "1.2.0",
            "_model_name": "LayoutModel",
            "_view_count": null,
            "_view_module": "@jupyter-widgets/base",
            "_view_module_version": "1.2.0",
            "_view_name": "LayoutView",
            "align_content": null,
            "align_items": null,
            "align_self": null,
            "border": null,
            "bottom": null,
            "display": null,
            "flex": null,
            "flex_flow": null,
            "grid_area": null,
            "grid_auto_columns": null,
            "grid_auto_flow": null,
            "grid_auto_rows": null,
            "grid_column": null,
            "grid_gap": null,
            "grid_row": null,
            "grid_template_areas": null,
            "grid_template_columns": null,
            "grid_template_rows": null,
            "height": null,
            "justify_content": null,
            "justify_items": null,
            "left": null,
            "margin": null,
            "max_height": null,
            "max_width": null,
            "min_height": null,
            "min_width": null,
            "object_fit": null,
            "object_position": null,
            "order": null,
            "overflow": null,
            "overflow_x": null,
            "overflow_y": null,
            "padding": null,
            "right": null,
            "top": null,
            "visibility": null,
            "width": null
          }
        },
        "d8092406d3784ac1be9549c7cf075e30": {
          "model_module": "@jupyter-widgets/controls",
          "model_name": "DescriptionStyleModel",
          "model_module_version": "1.5.0",
          "state": {
            "_model_module": "@jupyter-widgets/controls",
            "_model_module_version": "1.5.0",
            "_model_name": "DescriptionStyleModel",
            "_view_count": null,
            "_view_module": "@jupyter-widgets/base",
            "_view_module_version": "1.2.0",
            "_view_name": "StyleView",
            "description_width": ""
          }
        },
        "393454ce13544812ba5ef8c38e300471": {
          "model_module": "@jupyter-widgets/base",
          "model_name": "LayoutModel",
          "model_module_version": "1.2.0",
          "state": {
            "_model_module": "@jupyter-widgets/base",
            "_model_module_version": "1.2.0",
            "_model_name": "LayoutModel",
            "_view_count": null,
            "_view_module": "@jupyter-widgets/base",
            "_view_module_version": "1.2.0",
            "_view_name": "LayoutView",
            "align_content": null,
            "align_items": null,
            "align_self": null,
            "border": null,
            "bottom": null,
            "display": null,
            "flex": null,
            "flex_flow": null,
            "grid_area": null,
            "grid_auto_columns": null,
            "grid_auto_flow": null,
            "grid_auto_rows": null,
            "grid_column": null,
            "grid_gap": null,
            "grid_row": null,
            "grid_template_areas": null,
            "grid_template_columns": null,
            "grid_template_rows": null,
            "height": null,
            "justify_content": null,
            "justify_items": null,
            "left": null,
            "margin": null,
            "max_height": null,
            "max_width": null,
            "min_height": null,
            "min_width": null,
            "object_fit": null,
            "object_position": null,
            "order": null,
            "overflow": null,
            "overflow_x": null,
            "overflow_y": null,
            "padding": null,
            "right": null,
            "top": null,
            "visibility": null,
            "width": null
          }
        },
        "34cff5d26b6c4a1e9ba952413d1276d1": {
          "model_module": "@jupyter-widgets/controls",
          "model_name": "ProgressStyleModel",
          "model_module_version": "1.5.0",
          "state": {
            "_model_module": "@jupyter-widgets/controls",
            "_model_module_version": "1.5.0",
            "_model_name": "ProgressStyleModel",
            "_view_count": null,
            "_view_module": "@jupyter-widgets/base",
            "_view_module_version": "1.2.0",
            "_view_name": "StyleView",
            "bar_color": null,
            "description_width": ""
          }
        },
        "3ae508c628c7460dba82e6b4478c7654": {
          "model_module": "@jupyter-widgets/base",
          "model_name": "LayoutModel",
          "model_module_version": "1.2.0",
          "state": {
            "_model_module": "@jupyter-widgets/base",
            "_model_module_version": "1.2.0",
            "_model_name": "LayoutModel",
            "_view_count": null,
            "_view_module": "@jupyter-widgets/base",
            "_view_module_version": "1.2.0",
            "_view_name": "LayoutView",
            "align_content": null,
            "align_items": null,
            "align_self": null,
            "border": null,
            "bottom": null,
            "display": null,
            "flex": null,
            "flex_flow": null,
            "grid_area": null,
            "grid_auto_columns": null,
            "grid_auto_flow": null,
            "grid_auto_rows": null,
            "grid_column": null,
            "grid_gap": null,
            "grid_row": null,
            "grid_template_areas": null,
            "grid_template_columns": null,
            "grid_template_rows": null,
            "height": null,
            "justify_content": null,
            "justify_items": null,
            "left": null,
            "margin": null,
            "max_height": null,
            "max_width": null,
            "min_height": null,
            "min_width": null,
            "object_fit": null,
            "object_position": null,
            "order": null,
            "overflow": null,
            "overflow_x": null,
            "overflow_y": null,
            "padding": null,
            "right": null,
            "top": null,
            "visibility": null,
            "width": null
          }
        },
        "af669ae1d417480c94a12454ee0596e8": {
          "model_module": "@jupyter-widgets/controls",
          "model_name": "DescriptionStyleModel",
          "model_module_version": "1.5.0",
          "state": {
            "_model_module": "@jupyter-widgets/controls",
            "_model_module_version": "1.5.0",
            "_model_name": "DescriptionStyleModel",
            "_view_count": null,
            "_view_module": "@jupyter-widgets/base",
            "_view_module_version": "1.2.0",
            "_view_name": "StyleView",
            "description_width": ""
          }
        },
        "4c9bb2fa54db46d0b82ebd04ce62a1ca": {
          "model_module": "@jupyter-widgets/controls",
          "model_name": "HBoxModel",
          "model_module_version": "1.5.0",
          "state": {
            "_dom_classes": [],
            "_model_module": "@jupyter-widgets/controls",
            "_model_module_version": "1.5.0",
            "_model_name": "HBoxModel",
            "_view_count": null,
            "_view_module": "@jupyter-widgets/controls",
            "_view_module_version": "1.5.0",
            "_view_name": "HBoxView",
            "box_style": "",
            "children": [
              "IPY_MODEL_6414abb02d22461fb3aafac8a4d922b4",
              "IPY_MODEL_f863dee345bd4007be9085f829512c17",
              "IPY_MODEL_3ac8ea1c7f8f4b708de3aab5ca611a0b"
            ],
            "layout": "IPY_MODEL_2fb011135c564d12bf78d111f21e5f35"
          }
        },
        "6414abb02d22461fb3aafac8a4d922b4": {
          "model_module": "@jupyter-widgets/controls",
          "model_name": "HTMLModel",
          "model_module_version": "1.5.0",
          "state": {
            "_dom_classes": [],
            "_model_module": "@jupyter-widgets/controls",
            "_model_module_version": "1.5.0",
            "_model_name": "HTMLModel",
            "_view_count": null,
            "_view_module": "@jupyter-widgets/controls",
            "_view_module_version": "1.5.0",
            "_view_name": "HTMLView",
            "description": "",
            "description_tooltip": null,
            "layout": "IPY_MODEL_cf57faf3414141f4a73ee444c2b3cfb5",
            "placeholder": "​",
            "style": "IPY_MODEL_d28fe55f72ab40ca880ac8aa47a3821a",
            "value": "Downloading: 100%"
          }
        },
        "f863dee345bd4007be9085f829512c17": {
          "model_module": "@jupyter-widgets/controls",
          "model_name": "FloatProgressModel",
          "model_module_version": "1.5.0",
          "state": {
            "_dom_classes": [],
            "_model_module": "@jupyter-widgets/controls",
            "_model_module_version": "1.5.0",
            "_model_name": "FloatProgressModel",
            "_view_count": null,
            "_view_module": "@jupyter-widgets/controls",
            "_view_module_version": "1.5.0",
            "_view_name": "ProgressView",
            "bar_style": "success",
            "description": "",
            "description_tooltip": null,
            "layout": "IPY_MODEL_ed3bfee82cb14fdc9ae5419064c8ede2",
            "max": 466062,
            "min": 0,
            "orientation": "horizontal",
            "style": "IPY_MODEL_e06aa7c8578a4490b5f279270c16ac82",
            "value": 466062
          }
        },
        "3ac8ea1c7f8f4b708de3aab5ca611a0b": {
          "model_module": "@jupyter-widgets/controls",
          "model_name": "HTMLModel",
          "model_module_version": "1.5.0",
          "state": {
            "_dom_classes": [],
            "_model_module": "@jupyter-widgets/controls",
            "_model_module_version": "1.5.0",
            "_model_name": "HTMLModel",
            "_view_count": null,
            "_view_module": "@jupyter-widgets/controls",
            "_view_module_version": "1.5.0",
            "_view_name": "HTMLView",
            "description": "",
            "description_tooltip": null,
            "layout": "IPY_MODEL_53d91b184ecc475b84d4ef1b26520ea3",
            "placeholder": "​",
            "style": "IPY_MODEL_0451576e58584e56a191033fdf3d012a",
            "value": " 455k/455k [00:00&lt;00:00, 632kB/s]"
          }
        },
        "2fb011135c564d12bf78d111f21e5f35": {
          "model_module": "@jupyter-widgets/base",
          "model_name": "LayoutModel",
          "model_module_version": "1.2.0",
          "state": {
            "_model_module": "@jupyter-widgets/base",
            "_model_module_version": "1.2.0",
            "_model_name": "LayoutModel",
            "_view_count": null,
            "_view_module": "@jupyter-widgets/base",
            "_view_module_version": "1.2.0",
            "_view_name": "LayoutView",
            "align_content": null,
            "align_items": null,
            "align_self": null,
            "border": null,
            "bottom": null,
            "display": null,
            "flex": null,
            "flex_flow": null,
            "grid_area": null,
            "grid_auto_columns": null,
            "grid_auto_flow": null,
            "grid_auto_rows": null,
            "grid_column": null,
            "grid_gap": null,
            "grid_row": null,
            "grid_template_areas": null,
            "grid_template_columns": null,
            "grid_template_rows": null,
            "height": null,
            "justify_content": null,
            "justify_items": null,
            "left": null,
            "margin": null,
            "max_height": null,
            "max_width": null,
            "min_height": null,
            "min_width": null,
            "object_fit": null,
            "object_position": null,
            "order": null,
            "overflow": null,
            "overflow_x": null,
            "overflow_y": null,
            "padding": null,
            "right": null,
            "top": null,
            "visibility": null,
            "width": null
          }
        },
        "cf57faf3414141f4a73ee444c2b3cfb5": {
          "model_module": "@jupyter-widgets/base",
          "model_name": "LayoutModel",
          "model_module_version": "1.2.0",
          "state": {
            "_model_module": "@jupyter-widgets/base",
            "_model_module_version": "1.2.0",
            "_model_name": "LayoutModel",
            "_view_count": null,
            "_view_module": "@jupyter-widgets/base",
            "_view_module_version": "1.2.0",
            "_view_name": "LayoutView",
            "align_content": null,
            "align_items": null,
            "align_self": null,
            "border": null,
            "bottom": null,
            "display": null,
            "flex": null,
            "flex_flow": null,
            "grid_area": null,
            "grid_auto_columns": null,
            "grid_auto_flow": null,
            "grid_auto_rows": null,
            "grid_column": null,
            "grid_gap": null,
            "grid_row": null,
            "grid_template_areas": null,
            "grid_template_columns": null,
            "grid_template_rows": null,
            "height": null,
            "justify_content": null,
            "justify_items": null,
            "left": null,
            "margin": null,
            "max_height": null,
            "max_width": null,
            "min_height": null,
            "min_width": null,
            "object_fit": null,
            "object_position": null,
            "order": null,
            "overflow": null,
            "overflow_x": null,
            "overflow_y": null,
            "padding": null,
            "right": null,
            "top": null,
            "visibility": null,
            "width": null
          }
        },
        "d28fe55f72ab40ca880ac8aa47a3821a": {
          "model_module": "@jupyter-widgets/controls",
          "model_name": "DescriptionStyleModel",
          "model_module_version": "1.5.0",
          "state": {
            "_model_module": "@jupyter-widgets/controls",
            "_model_module_version": "1.5.0",
            "_model_name": "DescriptionStyleModel",
            "_view_count": null,
            "_view_module": "@jupyter-widgets/base",
            "_view_module_version": "1.2.0",
            "_view_name": "StyleView",
            "description_width": ""
          }
        },
        "ed3bfee82cb14fdc9ae5419064c8ede2": {
          "model_module": "@jupyter-widgets/base",
          "model_name": "LayoutModel",
          "model_module_version": "1.2.0",
          "state": {
            "_model_module": "@jupyter-widgets/base",
            "_model_module_version": "1.2.0",
            "_model_name": "LayoutModel",
            "_view_count": null,
            "_view_module": "@jupyter-widgets/base",
            "_view_module_version": "1.2.0",
            "_view_name": "LayoutView",
            "align_content": null,
            "align_items": null,
            "align_self": null,
            "border": null,
            "bottom": null,
            "display": null,
            "flex": null,
            "flex_flow": null,
            "grid_area": null,
            "grid_auto_columns": null,
            "grid_auto_flow": null,
            "grid_auto_rows": null,
            "grid_column": null,
            "grid_gap": null,
            "grid_row": null,
            "grid_template_areas": null,
            "grid_template_columns": null,
            "grid_template_rows": null,
            "height": null,
            "justify_content": null,
            "justify_items": null,
            "left": null,
            "margin": null,
            "max_height": null,
            "max_width": null,
            "min_height": null,
            "min_width": null,
            "object_fit": null,
            "object_position": null,
            "order": null,
            "overflow": null,
            "overflow_x": null,
            "overflow_y": null,
            "padding": null,
            "right": null,
            "top": null,
            "visibility": null,
            "width": null
          }
        },
        "e06aa7c8578a4490b5f279270c16ac82": {
          "model_module": "@jupyter-widgets/controls",
          "model_name": "ProgressStyleModel",
          "model_module_version": "1.5.0",
          "state": {
            "_model_module": "@jupyter-widgets/controls",
            "_model_module_version": "1.5.0",
            "_model_name": "ProgressStyleModel",
            "_view_count": null,
            "_view_module": "@jupyter-widgets/base",
            "_view_module_version": "1.2.0",
            "_view_name": "StyleView",
            "bar_color": null,
            "description_width": ""
          }
        },
        "53d91b184ecc475b84d4ef1b26520ea3": {
          "model_module": "@jupyter-widgets/base",
          "model_name": "LayoutModel",
          "model_module_version": "1.2.0",
          "state": {
            "_model_module": "@jupyter-widgets/base",
            "_model_module_version": "1.2.0",
            "_model_name": "LayoutModel",
            "_view_count": null,
            "_view_module": "@jupyter-widgets/base",
            "_view_module_version": "1.2.0",
            "_view_name": "LayoutView",
            "align_content": null,
            "align_items": null,
            "align_self": null,
            "border": null,
            "bottom": null,
            "display": null,
            "flex": null,
            "flex_flow": null,
            "grid_area": null,
            "grid_auto_columns": null,
            "grid_auto_flow": null,
            "grid_auto_rows": null,
            "grid_column": null,
            "grid_gap": null,
            "grid_row": null,
            "grid_template_areas": null,
            "grid_template_columns": null,
            "grid_template_rows": null,
            "height": null,
            "justify_content": null,
            "justify_items": null,
            "left": null,
            "margin": null,
            "max_height": null,
            "max_width": null,
            "min_height": null,
            "min_width": null,
            "object_fit": null,
            "object_position": null,
            "order": null,
            "overflow": null,
            "overflow_x": null,
            "overflow_y": null,
            "padding": null,
            "right": null,
            "top": null,
            "visibility": null,
            "width": null
          }
        },
        "0451576e58584e56a191033fdf3d012a": {
          "model_module": "@jupyter-widgets/controls",
          "model_name": "DescriptionStyleModel",
          "model_module_version": "1.5.0",
          "state": {
            "_model_module": "@jupyter-widgets/controls",
            "_model_module_version": "1.5.0",
            "_model_name": "DescriptionStyleModel",
            "_view_count": null,
            "_view_module": "@jupyter-widgets/base",
            "_view_module_version": "1.2.0",
            "_view_name": "StyleView",
            "description_width": ""
          }
        },
        "b34aebd5d1d2440fa814904d2b7e0726": {
          "model_module": "@jupyter-widgets/controls",
          "model_name": "HBoxModel",
          "model_module_version": "1.5.0",
          "state": {
            "_dom_classes": [],
            "_model_module": "@jupyter-widgets/controls",
            "_model_module_version": "1.5.0",
            "_model_name": "HBoxModel",
            "_view_count": null,
            "_view_module": "@jupyter-widgets/controls",
            "_view_module_version": "1.5.0",
            "_view_name": "HBoxView",
            "box_style": "",
            "children": [
              "IPY_MODEL_94e5817e1ab946a5bb4b9865811a6db9",
              "IPY_MODEL_5009ac33235f4df7b7965248a86e0e4e",
              "IPY_MODEL_4807dba3d71441de8e2dbdade4e9b69b"
            ],
            "layout": "IPY_MODEL_1cee6ee69ce348a0b7bf18211931e859"
          }
        },
        "94e5817e1ab946a5bb4b9865811a6db9": {
          "model_module": "@jupyter-widgets/controls",
          "model_name": "HTMLModel",
          "model_module_version": "1.5.0",
          "state": {
            "_dom_classes": [],
            "_model_module": "@jupyter-widgets/controls",
            "_model_module_version": "1.5.0",
            "_model_name": "HTMLModel",
            "_view_count": null,
            "_view_module": "@jupyter-widgets/controls",
            "_view_module_version": "1.5.0",
            "_view_name": "HTMLView",
            "description": "",
            "description_tooltip": null,
            "layout": "IPY_MODEL_6484948173e149168e9f1cbfacd46d58",
            "placeholder": "​",
            "style": "IPY_MODEL_f48742b56ff74e8a8a332c02225fe5b9",
            "value": "Downloading: 100%"
          }
        },
        "5009ac33235f4df7b7965248a86e0e4e": {
          "model_module": "@jupyter-widgets/controls",
          "model_name": "FloatProgressModel",
          "model_module_version": "1.5.0",
          "state": {
            "_dom_classes": [],
            "_model_module": "@jupyter-widgets/controls",
            "_model_module_version": "1.5.0",
            "_model_name": "FloatProgressModel",
            "_view_count": null,
            "_view_module": "@jupyter-widgets/controls",
            "_view_module_version": "1.5.0",
            "_view_name": "ProgressView",
            "bar_style": "success",
            "description": "",
            "description_tooltip": null,
            "layout": "IPY_MODEL_63791011f34d4df1a3d830e46b1a5de8",
            "max": 483,
            "min": 0,
            "orientation": "horizontal",
            "style": "IPY_MODEL_f57b617cb60a48ae8c4bc08475a1689c",
            "value": 483
          }
        },
        "4807dba3d71441de8e2dbdade4e9b69b": {
          "model_module": "@jupyter-widgets/controls",
          "model_name": "HTMLModel",
          "model_module_version": "1.5.0",
          "state": {
            "_dom_classes": [],
            "_model_module": "@jupyter-widgets/controls",
            "_model_module_version": "1.5.0",
            "_model_name": "HTMLModel",
            "_view_count": null,
            "_view_module": "@jupyter-widgets/controls",
            "_view_module_version": "1.5.0",
            "_view_name": "HTMLView",
            "description": "",
            "description_tooltip": null,
            "layout": "IPY_MODEL_49f2bf844ff54bb79675e329422cc5ef",
            "placeholder": "​",
            "style": "IPY_MODEL_ab5837429aef4988a5d5390ab4a0f4bb",
            "value": " 483/483 [00:00&lt;00:00, 13.5kB/s]"
          }
        },
        "1cee6ee69ce348a0b7bf18211931e859": {
          "model_module": "@jupyter-widgets/base",
          "model_name": "LayoutModel",
          "model_module_version": "1.2.0",
          "state": {
            "_model_module": "@jupyter-widgets/base",
            "_model_module_version": "1.2.0",
            "_model_name": "LayoutModel",
            "_view_count": null,
            "_view_module": "@jupyter-widgets/base",
            "_view_module_version": "1.2.0",
            "_view_name": "LayoutView",
            "align_content": null,
            "align_items": null,
            "align_self": null,
            "border": null,
            "bottom": null,
            "display": null,
            "flex": null,
            "flex_flow": null,
            "grid_area": null,
            "grid_auto_columns": null,
            "grid_auto_flow": null,
            "grid_auto_rows": null,
            "grid_column": null,
            "grid_gap": null,
            "grid_row": null,
            "grid_template_areas": null,
            "grid_template_columns": null,
            "grid_template_rows": null,
            "height": null,
            "justify_content": null,
            "justify_items": null,
            "left": null,
            "margin": null,
            "max_height": null,
            "max_width": null,
            "min_height": null,
            "min_width": null,
            "object_fit": null,
            "object_position": null,
            "order": null,
            "overflow": null,
            "overflow_x": null,
            "overflow_y": null,
            "padding": null,
            "right": null,
            "top": null,
            "visibility": null,
            "width": null
          }
        },
        "6484948173e149168e9f1cbfacd46d58": {
          "model_module": "@jupyter-widgets/base",
          "model_name": "LayoutModel",
          "model_module_version": "1.2.0",
          "state": {
            "_model_module": "@jupyter-widgets/base",
            "_model_module_version": "1.2.0",
            "_model_name": "LayoutModel",
            "_view_count": null,
            "_view_module": "@jupyter-widgets/base",
            "_view_module_version": "1.2.0",
            "_view_name": "LayoutView",
            "align_content": null,
            "align_items": null,
            "align_self": null,
            "border": null,
            "bottom": null,
            "display": null,
            "flex": null,
            "flex_flow": null,
            "grid_area": null,
            "grid_auto_columns": null,
            "grid_auto_flow": null,
            "grid_auto_rows": null,
            "grid_column": null,
            "grid_gap": null,
            "grid_row": null,
            "grid_template_areas": null,
            "grid_template_columns": null,
            "grid_template_rows": null,
            "height": null,
            "justify_content": null,
            "justify_items": null,
            "left": null,
            "margin": null,
            "max_height": null,
            "max_width": null,
            "min_height": null,
            "min_width": null,
            "object_fit": null,
            "object_position": null,
            "order": null,
            "overflow": null,
            "overflow_x": null,
            "overflow_y": null,
            "padding": null,
            "right": null,
            "top": null,
            "visibility": null,
            "width": null
          }
        },
        "f48742b56ff74e8a8a332c02225fe5b9": {
          "model_module": "@jupyter-widgets/controls",
          "model_name": "DescriptionStyleModel",
          "model_module_version": "1.5.0",
          "state": {
            "_model_module": "@jupyter-widgets/controls",
            "_model_module_version": "1.5.0",
            "_model_name": "DescriptionStyleModel",
            "_view_count": null,
            "_view_module": "@jupyter-widgets/base",
            "_view_module_version": "1.2.0",
            "_view_name": "StyleView",
            "description_width": ""
          }
        },
        "63791011f34d4df1a3d830e46b1a5de8": {
          "model_module": "@jupyter-widgets/base",
          "model_name": "LayoutModel",
          "model_module_version": "1.2.0",
          "state": {
            "_model_module": "@jupyter-widgets/base",
            "_model_module_version": "1.2.0",
            "_model_name": "LayoutModel",
            "_view_count": null,
            "_view_module": "@jupyter-widgets/base",
            "_view_module_version": "1.2.0",
            "_view_name": "LayoutView",
            "align_content": null,
            "align_items": null,
            "align_self": null,
            "border": null,
            "bottom": null,
            "display": null,
            "flex": null,
            "flex_flow": null,
            "grid_area": null,
            "grid_auto_columns": null,
            "grid_auto_flow": null,
            "grid_auto_rows": null,
            "grid_column": null,
            "grid_gap": null,
            "grid_row": null,
            "grid_template_areas": null,
            "grid_template_columns": null,
            "grid_template_rows": null,
            "height": null,
            "justify_content": null,
            "justify_items": null,
            "left": null,
            "margin": null,
            "max_height": null,
            "max_width": null,
            "min_height": null,
            "min_width": null,
            "object_fit": null,
            "object_position": null,
            "order": null,
            "overflow": null,
            "overflow_x": null,
            "overflow_y": null,
            "padding": null,
            "right": null,
            "top": null,
            "visibility": null,
            "width": null
          }
        },
        "f57b617cb60a48ae8c4bc08475a1689c": {
          "model_module": "@jupyter-widgets/controls",
          "model_name": "ProgressStyleModel",
          "model_module_version": "1.5.0",
          "state": {
            "_model_module": "@jupyter-widgets/controls",
            "_model_module_version": "1.5.0",
            "_model_name": "ProgressStyleModel",
            "_view_count": null,
            "_view_module": "@jupyter-widgets/base",
            "_view_module_version": "1.2.0",
            "_view_name": "StyleView",
            "bar_color": null,
            "description_width": ""
          }
        },
        "49f2bf844ff54bb79675e329422cc5ef": {
          "model_module": "@jupyter-widgets/base",
          "model_name": "LayoutModel",
          "model_module_version": "1.2.0",
          "state": {
            "_model_module": "@jupyter-widgets/base",
            "_model_module_version": "1.2.0",
            "_model_name": "LayoutModel",
            "_view_count": null,
            "_view_module": "@jupyter-widgets/base",
            "_view_module_version": "1.2.0",
            "_view_name": "LayoutView",
            "align_content": null,
            "align_items": null,
            "align_self": null,
            "border": null,
            "bottom": null,
            "display": null,
            "flex": null,
            "flex_flow": null,
            "grid_area": null,
            "grid_auto_columns": null,
            "grid_auto_flow": null,
            "grid_auto_rows": null,
            "grid_column": null,
            "grid_gap": null,
            "grid_row": null,
            "grid_template_areas": null,
            "grid_template_columns": null,
            "grid_template_rows": null,
            "height": null,
            "justify_content": null,
            "justify_items": null,
            "left": null,
            "margin": null,
            "max_height": null,
            "max_width": null,
            "min_height": null,
            "min_width": null,
            "object_fit": null,
            "object_position": null,
            "order": null,
            "overflow": null,
            "overflow_x": null,
            "overflow_y": null,
            "padding": null,
            "right": null,
            "top": null,
            "visibility": null,
            "width": null
          }
        },
        "ab5837429aef4988a5d5390ab4a0f4bb": {
          "model_module": "@jupyter-widgets/controls",
          "model_name": "DescriptionStyleModel",
          "model_module_version": "1.5.0",
          "state": {
            "_model_module": "@jupyter-widgets/controls",
            "_model_module_version": "1.5.0",
            "_model_name": "DescriptionStyleModel",
            "_view_count": null,
            "_view_module": "@jupyter-widgets/base",
            "_view_module_version": "1.2.0",
            "_view_name": "StyleView",
            "description_width": ""
          }
        }
      }
    }
  },
  "cells": [
    {
      "cell_type": "markdown",
      "source": [
        "#Predictive Model Creation"
      ],
      "metadata": {
        "id": "EW2M0ZXHX2Z2"
      }
    },
    {
      "cell_type": "markdown",
      "source": [
        "In this notebook, we create predictive models for the topic distribution we figured out in the previous notebook. We establish one classical ML baseline as well as a neural baseline using DistilBERT.\n",
        "\n",
        "However, before proceeding, we must discuss the validity of this approach. We have labeled the entire dataset automatically using LDA and NMF methods. Now, we are training models to learn the function representation that NMF has provided. For this to work, the underlying assumption is that NMF provided the absolute perfect topic distribution and classification. However, that is dangerous to assume without doing a random sanity check of the dataset. "
      ],
      "metadata": {
        "id": "kTDHxZx0Zd6B"
      }
    },
    {
      "cell_type": "code",
      "execution_count": null,
      "metadata": {
        "id": "_HuMAnosBhu4"
      },
      "outputs": [],
      "source": [
        "df_path = '/content/drive/MyDrive/Wysa/final.pkl'"
      ]
    },
    {
      "cell_type": "code",
      "source": [
        "import pandas as pd"
      ],
      "metadata": {
        "id": "VsPfWArdB2eD"
      },
      "execution_count": null,
      "outputs": []
    },
    {
      "cell_type": "code",
      "source": [
        "df = pd.read_pickle(df_path)"
      ],
      "metadata": {
        "id": "rxWpjRisB4gQ"
      },
      "execution_count": null,
      "outputs": []
    },
    {
      "cell_type": "code",
      "source": [
        "df.head()"
      ],
      "metadata": {
        "colab": {
          "base_uri": "https://localhost:8080/",
          "height": 716
        },
        "id": "7ZvIRHvgB7bc",
        "outputId": "caf59dcb-94ac-4bf6-f69f-ea46ab0e438c"
      },
      "execution_count": null,
      "outputs": [
        {
          "output_type": "execute_result",
          "data": {
            "text/plain": [
              "                 author  created_utc  \\\n",
              "0     InternetFreedomIn   1628168541   \n",
              "1           adam0010101   1628452706   \n",
              "2  MaharajadhirajaSawai   1629126680   \n",
              "3     InternetFreedomIn   1627026319   \n",
              "4         wanderingmind   1628683922   \n",
              "\n",
              "                                           full_link  is_original_content  \\\n",
              "0  https://www.reddit.com/r/india/comments/oyh2uq...                False   \n",
              "1  https://www.reddit.com/r/india/comments/p0lpok...                False   \n",
              "2  https://www.reddit.com/r/india/comments/p5i0b6...                False   \n",
              "3  https://www.reddit.com/r/india/comments/opxkgc...                False   \n",
              "4  https://www.reddit.com/r/india/comments/p2btn6...                False   \n",
              "\n",
              "   is_self  is_video link_flair_text  num_comments  over_18  score  ...  \\\n",
              "0     True     False  Policy/Economy             0    False      1  ...   \n",
              "1     True     False        Politics             0    False      1  ...   \n",
              "2     True     False        History              9    False      1  ...   \n",
              "3     True     False  Policy/Economy            11    False      1  ...   \n",
              "4     True     False   Non-Political            17    False      1  ...   \n",
              "\n",
              "                 date  word_count  \\\n",
              "0 2021-08-05 13:02:21        1180   \n",
              "1 2021-08-08 19:58:26          33   \n",
              "2 2021-08-16 15:11:20        3812   \n",
              "3 2021-07-23 07:45:19        1657   \n",
              "4 2021-08-11 12:12:02         843   \n",
              "\n",
              "                                              ctitle  \\\n",
              "0   cybersec charcha a global overview of the sta...   \n",
              "1    indian social divisions and political redresses   \n",
              "2  my critique of the carvaka podcasts warhorse e...   \n",
              "3  dear standing committee we have some questions...   \n",
              "4  barking biting stray dogs hypocritical doglove...   \n",
              "\n",
              "                                         lemma_title  tword_count nmf_topics  \\\n",
              "0  cybersec charcha global overview state surveil...           14          1   \n",
              "1           indian social division political redress            6          4   \n",
              "2  critique carvaka podcasts warhorse evolution e...           20          0   \n",
              "3           dear standing committee question pegasus            9          1   \n",
              "4  barking biting stray dog hypocritical doglover...           10          0   \n",
              "\n",
              "   lda_topics                                    nmf_topics_text  \\\n",
              "0           0  government, information bill, privacy, protection   \n",
              "1           3                         population, world, culture   \n",
              "2           3                       life, friend, social problem   \n",
              "3           4  government, information bill, privacy, protection   \n",
              "4           4                       life, friend, social problem   \n",
              "\n",
              "                          lda_topics_text  polarity  \n",
              "0        school, problem, family, support  0.000000  \n",
              "1   karnataka, culture, population, drugs  0.016667  \n",
              "2   karnataka, culture, population, drugs -0.100000  \n",
              "3  government, survey, kidnapped, suicide  0.000000  \n",
              "4  government, survey, kidnapped, suicide  0.000000  \n",
              "\n",
              "[5 rows x 34 columns]"
            ],
            "text/html": [
              "\n",
              "  <div id=\"df-3ce21aee-27f0-459e-9448-f1071be044b2\">\n",
              "    <div class=\"colab-df-container\">\n",
              "      <div>\n",
              "<style scoped>\n",
              "    .dataframe tbody tr th:only-of-type {\n",
              "        vertical-align: middle;\n",
              "    }\n",
              "\n",
              "    .dataframe tbody tr th {\n",
              "        vertical-align: top;\n",
              "    }\n",
              "\n",
              "    .dataframe thead th {\n",
              "        text-align: right;\n",
              "    }\n",
              "</style>\n",
              "<table border=\"1\" class=\"dataframe\">\n",
              "  <thead>\n",
              "    <tr style=\"text-align: right;\">\n",
              "      <th></th>\n",
              "      <th>author</th>\n",
              "      <th>created_utc</th>\n",
              "      <th>full_link</th>\n",
              "      <th>is_original_content</th>\n",
              "      <th>is_self</th>\n",
              "      <th>is_video</th>\n",
              "      <th>link_flair_text</th>\n",
              "      <th>num_comments</th>\n",
              "      <th>over_18</th>\n",
              "      <th>score</th>\n",
              "      <th>...</th>\n",
              "      <th>date</th>\n",
              "      <th>word_count</th>\n",
              "      <th>ctitle</th>\n",
              "      <th>lemma_title</th>\n",
              "      <th>tword_count</th>\n",
              "      <th>nmf_topics</th>\n",
              "      <th>lda_topics</th>\n",
              "      <th>nmf_topics_text</th>\n",
              "      <th>lda_topics_text</th>\n",
              "      <th>polarity</th>\n",
              "    </tr>\n",
              "  </thead>\n",
              "  <tbody>\n",
              "    <tr>\n",
              "      <th>0</th>\n",
              "      <td>InternetFreedomIn</td>\n",
              "      <td>1628168541</td>\n",
              "      <td>https://www.reddit.com/r/india/comments/oyh2uq...</td>\n",
              "      <td>False</td>\n",
              "      <td>True</td>\n",
              "      <td>False</td>\n",
              "      <td>Policy/Economy</td>\n",
              "      <td>0</td>\n",
              "      <td>False</td>\n",
              "      <td>1</td>\n",
              "      <td>...</td>\n",
              "      <td>2021-08-05 13:02:21</td>\n",
              "      <td>1180</td>\n",
              "      <td>cybersec charcha a global overview of the sta...</td>\n",
              "      <td>cybersec charcha global overview state surveil...</td>\n",
              "      <td>14</td>\n",
              "      <td>1</td>\n",
              "      <td>0</td>\n",
              "      <td>government, information bill, privacy, protection</td>\n",
              "      <td>school, problem, family, support</td>\n",
              "      <td>0.000000</td>\n",
              "    </tr>\n",
              "    <tr>\n",
              "      <th>1</th>\n",
              "      <td>adam0010101</td>\n",
              "      <td>1628452706</td>\n",
              "      <td>https://www.reddit.com/r/india/comments/p0lpok...</td>\n",
              "      <td>False</td>\n",
              "      <td>True</td>\n",
              "      <td>False</td>\n",
              "      <td>Politics</td>\n",
              "      <td>0</td>\n",
              "      <td>False</td>\n",
              "      <td>1</td>\n",
              "      <td>...</td>\n",
              "      <td>2021-08-08 19:58:26</td>\n",
              "      <td>33</td>\n",
              "      <td>indian social divisions and political redresses</td>\n",
              "      <td>indian social division political redress</td>\n",
              "      <td>6</td>\n",
              "      <td>4</td>\n",
              "      <td>3</td>\n",
              "      <td>population, world, culture</td>\n",
              "      <td>karnataka, culture, population, drugs</td>\n",
              "      <td>0.016667</td>\n",
              "    </tr>\n",
              "    <tr>\n",
              "      <th>2</th>\n",
              "      <td>MaharajadhirajaSawai</td>\n",
              "      <td>1629126680</td>\n",
              "      <td>https://www.reddit.com/r/india/comments/p5i0b6...</td>\n",
              "      <td>False</td>\n",
              "      <td>True</td>\n",
              "      <td>False</td>\n",
              "      <td>History</td>\n",
              "      <td>9</td>\n",
              "      <td>False</td>\n",
              "      <td>1</td>\n",
              "      <td>...</td>\n",
              "      <td>2021-08-16 15:11:20</td>\n",
              "      <td>3812</td>\n",
              "      <td>my critique of the carvaka podcasts warhorse e...</td>\n",
              "      <td>critique carvaka podcasts warhorse evolution e...</td>\n",
              "      <td>20</td>\n",
              "      <td>0</td>\n",
              "      <td>3</td>\n",
              "      <td>life, friend, social problem</td>\n",
              "      <td>karnataka, culture, population, drugs</td>\n",
              "      <td>-0.100000</td>\n",
              "    </tr>\n",
              "    <tr>\n",
              "      <th>3</th>\n",
              "      <td>InternetFreedomIn</td>\n",
              "      <td>1627026319</td>\n",
              "      <td>https://www.reddit.com/r/india/comments/opxkgc...</td>\n",
              "      <td>False</td>\n",
              "      <td>True</td>\n",
              "      <td>False</td>\n",
              "      <td>Policy/Economy</td>\n",
              "      <td>11</td>\n",
              "      <td>False</td>\n",
              "      <td>1</td>\n",
              "      <td>...</td>\n",
              "      <td>2021-07-23 07:45:19</td>\n",
              "      <td>1657</td>\n",
              "      <td>dear standing committee we have some questions...</td>\n",
              "      <td>dear standing committee question pegasus</td>\n",
              "      <td>9</td>\n",
              "      <td>1</td>\n",
              "      <td>4</td>\n",
              "      <td>government, information bill, privacy, protection</td>\n",
              "      <td>government, survey, kidnapped, suicide</td>\n",
              "      <td>0.000000</td>\n",
              "    </tr>\n",
              "    <tr>\n",
              "      <th>4</th>\n",
              "      <td>wanderingmind</td>\n",
              "      <td>1628683922</td>\n",
              "      <td>https://www.reddit.com/r/india/comments/p2btn6...</td>\n",
              "      <td>False</td>\n",
              "      <td>True</td>\n",
              "      <td>False</td>\n",
              "      <td>Non-Political</td>\n",
              "      <td>17</td>\n",
              "      <td>False</td>\n",
              "      <td>1</td>\n",
              "      <td>...</td>\n",
              "      <td>2021-08-11 12:12:02</td>\n",
              "      <td>843</td>\n",
              "      <td>barking biting stray dogs hypocritical doglove...</td>\n",
              "      <td>barking biting stray dog hypocritical doglover...</td>\n",
              "      <td>10</td>\n",
              "      <td>0</td>\n",
              "      <td>4</td>\n",
              "      <td>life, friend, social problem</td>\n",
              "      <td>government, survey, kidnapped, suicide</td>\n",
              "      <td>0.000000</td>\n",
              "    </tr>\n",
              "  </tbody>\n",
              "</table>\n",
              "<p>5 rows × 34 columns</p>\n",
              "</div>\n",
              "      <button class=\"colab-df-convert\" onclick=\"convertToInteractive('df-3ce21aee-27f0-459e-9448-f1071be044b2')\"\n",
              "              title=\"Convert this dataframe to an interactive table.\"\n",
              "              style=\"display:none;\">\n",
              "        \n",
              "  <svg xmlns=\"http://www.w3.org/2000/svg\" height=\"24px\"viewBox=\"0 0 24 24\"\n",
              "       width=\"24px\">\n",
              "    <path d=\"M0 0h24v24H0V0z\" fill=\"none\"/>\n",
              "    <path d=\"M18.56 5.44l.94 2.06.94-2.06 2.06-.94-2.06-.94-.94-2.06-.94 2.06-2.06.94zm-11 1L8.5 8.5l.94-2.06 2.06-.94-2.06-.94L8.5 2.5l-.94 2.06-2.06.94zm10 10l.94 2.06.94-2.06 2.06-.94-2.06-.94-.94-2.06-.94 2.06-2.06.94z\"/><path d=\"M17.41 7.96l-1.37-1.37c-.4-.4-.92-.59-1.43-.59-.52 0-1.04.2-1.43.59L10.3 9.45l-7.72 7.72c-.78.78-.78 2.05 0 2.83L4 21.41c.39.39.9.59 1.41.59.51 0 1.02-.2 1.41-.59l7.78-7.78 2.81-2.81c.8-.78.8-2.07 0-2.86zM5.41 20L4 18.59l7.72-7.72 1.47 1.35L5.41 20z\"/>\n",
              "  </svg>\n",
              "      </button>\n",
              "      \n",
              "  <style>\n",
              "    .colab-df-container {\n",
              "      display:flex;\n",
              "      flex-wrap:wrap;\n",
              "      gap: 12px;\n",
              "    }\n",
              "\n",
              "    .colab-df-convert {\n",
              "      background-color: #E8F0FE;\n",
              "      border: none;\n",
              "      border-radius: 50%;\n",
              "      cursor: pointer;\n",
              "      display: none;\n",
              "      fill: #1967D2;\n",
              "      height: 32px;\n",
              "      padding: 0 0 0 0;\n",
              "      width: 32px;\n",
              "    }\n",
              "\n",
              "    .colab-df-convert:hover {\n",
              "      background-color: #E2EBFA;\n",
              "      box-shadow: 0px 1px 2px rgba(60, 64, 67, 0.3), 0px 1px 3px 1px rgba(60, 64, 67, 0.15);\n",
              "      fill: #174EA6;\n",
              "    }\n",
              "\n",
              "    [theme=dark] .colab-df-convert {\n",
              "      background-color: #3B4455;\n",
              "      fill: #D2E3FC;\n",
              "    }\n",
              "\n",
              "    [theme=dark] .colab-df-convert:hover {\n",
              "      background-color: #434B5C;\n",
              "      box-shadow: 0px 1px 3px 1px rgba(0, 0, 0, 0.15);\n",
              "      filter: drop-shadow(0px 1px 2px rgba(0, 0, 0, 0.3));\n",
              "      fill: #FFFFFF;\n",
              "    }\n",
              "  </style>\n",
              "\n",
              "      <script>\n",
              "        const buttonEl =\n",
              "          document.querySelector('#df-3ce21aee-27f0-459e-9448-f1071be044b2 button.colab-df-convert');\n",
              "        buttonEl.style.display =\n",
              "          google.colab.kernel.accessAllowed ? 'block' : 'none';\n",
              "\n",
              "        async function convertToInteractive(key) {\n",
              "          const element = document.querySelector('#df-3ce21aee-27f0-459e-9448-f1071be044b2');\n",
              "          const dataTable =\n",
              "            await google.colab.kernel.invokeFunction('convertToInteractive',\n",
              "                                                     [key], {});\n",
              "          if (!dataTable) return;\n",
              "\n",
              "          const docLinkHtml = 'Like what you see? Visit the ' +\n",
              "            '<a target=\"_blank\" href=https://colab.research.google.com/notebooks/data_table.ipynb>data table notebook</a>'\n",
              "            + ' to learn more about interactive tables.';\n",
              "          element.innerHTML = '';\n",
              "          dataTable['output_type'] = 'display_data';\n",
              "          await google.colab.output.renderOutput(dataTable, element);\n",
              "          const docLink = document.createElement('div');\n",
              "          docLink.innerHTML = docLinkHtml;\n",
              "          element.appendChild(docLink);\n",
              "        }\n",
              "      </script>\n",
              "    </div>\n",
              "  </div>\n",
              "  "
            ]
          },
          "metadata": {},
          "execution_count": 4
        }
      ]
    },
    {
      "cell_type": "markdown",
      "source": [
        "First, we create our train, dev, and test sets with the labels as the NMF topics."
      ],
      "metadata": {
        "id": "LU5g0F7HX6nk"
      }
    },
    {
      "cell_type": "code",
      "source": [
        "from sklearn.model_selection import train_test_split\n",
        "\n",
        "xtrain, xtest, ytrain, ytest = train_test_split(df['lemma_text'], df['nmf_topics'], test_size=0.1, stratify = df['nmf_topics'])"
      ],
      "metadata": {
        "id": "P02zet50B-Um"
      },
      "execution_count": null,
      "outputs": []
    },
    {
      "cell_type": "code",
      "source": [
        "xtrain, xdev, ytrain, ydev = train_test_split(xtrain, ytrain, test_size=0.1, stratify=ytrain)"
      ],
      "metadata": {
        "id": "9Ra4uoH_D_0b"
      },
      "execution_count": null,
      "outputs": []
    },
    {
      "cell_type": "code",
      "source": [
        "print(xtrain.shape)\n",
        "print(xdev.shape)\n",
        "print(xtest.shape)"
      ],
      "metadata": {
        "colab": {
          "base_uri": "https://localhost:8080/"
        },
        "id": "vY6ltFMMEQou",
        "outputId": "b65f2d7e-a788-430b-f537-43e409f29cca"
      },
      "execution_count": null,
      "outputs": [
        {
          "output_type": "stream",
          "name": "stdout",
          "text": [
            "(1678,)\n",
            "(187,)\n",
            "(208,)\n"
          ]
        }
      ]
    },
    {
      "cell_type": "markdown",
      "source": [
        "We create a basic pipeline for Multinomial Naive Bayes followed by a grid search over three parameters."
      ],
      "metadata": {
        "id": "Ajl0H54DYAUJ"
      }
    },
    {
      "cell_type": "code",
      "source": [
        "from sklearn.feature_extraction.text import TfidfTransformer\n",
        "from sklearn.feature_extraction.text import CountVectorizer\n",
        "from sklearn.naive_bayes import MultinomialNB\n",
        "from sklearn.pipeline import Pipeline\n",
        "from sklearn.metrics import classification_report\n",
        "from sklearn.model_selection import GridSearchCV"
      ],
      "metadata": {
        "id": "54VEpWCFEUTL"
      },
      "execution_count": null,
      "outputs": []
    },
    {
      "cell_type": "code",
      "source": [
        "naive_bayes = Pipeline([('vect', CountVectorizer(stop_words='english')),\n",
        "               ('tfidf', TfidfTransformer()),\n",
        "               ('clf', MultinomialNB(fit_prior=False)),\n",
        "              ], verbose=True)\n",
        "\n",
        "parameters = {'vect__ngram_range': [(1, 2), (1, 3)],\n",
        "               'tfidf__use_idf': [True],\n",
        "               'clf__alpha': (1, 1e-2)}\n",
        "\n",
        "gs_naive_bayes = GridSearchCV(naive_bayes, parameters, verbose=3)\n",
        "\n",
        "gs_naive_bayes = gs_naive_bayes.fit(xtrain, ytrain)"
      ],
      "metadata": {
        "colab": {
          "base_uri": "https://localhost:8080/"
        },
        "id": "Euyyb5vmFEqC",
        "outputId": "38036370-d0dc-4e84-cb77-a80075ff4f2e"
      },
      "execution_count": null,
      "outputs": [
        {
          "output_type": "stream",
          "name": "stdout",
          "text": [
            "Fitting 5 folds for each of 4 candidates, totalling 20 fits\n",
            "[Pipeline] .............. (step 1 of 3) Processing vect, total=   1.0s\n",
            "[Pipeline] ............. (step 2 of 3) Processing tfidf, total=   0.1s\n",
            "[Pipeline] ............... (step 3 of 3) Processing clf, total=   0.0s\n",
            "[CV 1/5] END clf__alpha=1, tfidf__use_idf=True, vect__ngram_range=(1, 2);, score=0.676 total time=   1.2s\n",
            "[Pipeline] .............. (step 1 of 3) Processing vect, total=   1.0s\n",
            "[Pipeline] ............. (step 2 of 3) Processing tfidf, total=   0.0s\n",
            "[Pipeline] ............... (step 3 of 3) Processing clf, total=   0.0s\n",
            "[CV 2/5] END clf__alpha=1, tfidf__use_idf=True, vect__ngram_range=(1, 2);, score=0.670 total time=   1.2s\n",
            "[Pipeline] .............. (step 1 of 3) Processing vect, total=   1.0s\n",
            "[Pipeline] ............. (step 2 of 3) Processing tfidf, total=   0.0s\n",
            "[Pipeline] ............... (step 3 of 3) Processing clf, total=   0.0s\n",
            "[CV 3/5] END clf__alpha=1, tfidf__use_idf=True, vect__ngram_range=(1, 2);, score=0.696 total time=   1.2s\n",
            "[Pipeline] .............. (step 1 of 3) Processing vect, total=   1.0s\n",
            "[Pipeline] ............. (step 2 of 3) Processing tfidf, total=   0.0s\n",
            "[Pipeline] ............... (step 3 of 3) Processing clf, total=   0.0s\n",
            "[CV 4/5] END clf__alpha=1, tfidf__use_idf=True, vect__ngram_range=(1, 2);, score=0.681 total time=   1.2s\n",
            "[Pipeline] .............. (step 1 of 3) Processing vect, total=   1.0s\n",
            "[Pipeline] ............. (step 2 of 3) Processing tfidf, total=   0.0s\n",
            "[Pipeline] ............... (step 3 of 3) Processing clf, total=   0.0s\n",
            "[CV 5/5] END clf__alpha=1, tfidf__use_idf=True, vect__ngram_range=(1, 2);, score=0.645 total time=   1.2s\n",
            "[Pipeline] .............. (step 1 of 3) Processing vect, total=   2.0s\n",
            "[Pipeline] ............. (step 2 of 3) Processing tfidf, total=   0.1s\n",
            "[Pipeline] ............... (step 3 of 3) Processing clf, total=   0.1s\n",
            "[CV 1/5] END clf__alpha=1, tfidf__use_idf=True, vect__ngram_range=(1, 3);, score=0.685 total time=   2.3s\n",
            "[Pipeline] .............. (step 1 of 3) Processing vect, total=   2.0s\n",
            "[Pipeline] ............. (step 2 of 3) Processing tfidf, total=   0.1s\n",
            "[Pipeline] ............... (step 3 of 3) Processing clf, total=   0.1s\n",
            "[CV 2/5] END clf__alpha=1, tfidf__use_idf=True, vect__ngram_range=(1, 3);, score=0.673 total time=   2.3s\n",
            "[Pipeline] .............. (step 1 of 3) Processing vect, total=   2.0s\n",
            "[Pipeline] ............. (step 2 of 3) Processing tfidf, total=   0.1s\n",
            "[Pipeline] ............... (step 3 of 3) Processing clf, total=   0.1s\n",
            "[CV 3/5] END clf__alpha=1, tfidf__use_idf=True, vect__ngram_range=(1, 3);, score=0.690 total time=   2.3s\n",
            "[Pipeline] .............. (step 1 of 3) Processing vect, total=   2.0s\n",
            "[Pipeline] ............. (step 2 of 3) Processing tfidf, total=   0.1s\n",
            "[Pipeline] ............... (step 3 of 3) Processing clf, total=   0.0s\n",
            "[CV 4/5] END clf__alpha=1, tfidf__use_idf=True, vect__ngram_range=(1, 3);, score=0.684 total time=   2.3s\n",
            "[Pipeline] .............. (step 1 of 3) Processing vect, total=   2.1s\n",
            "[Pipeline] ............. (step 2 of 3) Processing tfidf, total=   0.1s\n",
            "[Pipeline] ............... (step 3 of 3) Processing clf, total=   0.1s\n",
            "[CV 5/5] END clf__alpha=1, tfidf__use_idf=True, vect__ngram_range=(1, 3);, score=0.651 total time=   2.4s\n",
            "[Pipeline] .............. (step 1 of 3) Processing vect, total=   1.0s\n",
            "[Pipeline] ............. (step 2 of 3) Processing tfidf, total=   0.0s\n",
            "[Pipeline] ............... (step 3 of 3) Processing clf, total=   0.0s\n",
            "[CV 1/5] END clf__alpha=0.01, tfidf__use_idf=True, vect__ngram_range=(1, 2);, score=0.658 total time=   1.2s\n",
            "[Pipeline] .............. (step 1 of 3) Processing vect, total=   1.0s\n",
            "[Pipeline] ............. (step 2 of 3) Processing tfidf, total=   0.0s\n",
            "[Pipeline] ............... (step 3 of 3) Processing clf, total=   0.0s\n",
            "[CV 2/5] END clf__alpha=0.01, tfidf__use_idf=True, vect__ngram_range=(1, 2);, score=0.673 total time=   1.2s\n",
            "[Pipeline] .............. (step 1 of 3) Processing vect, total=   0.9s\n",
            "[Pipeline] ............. (step 2 of 3) Processing tfidf, total=   0.0s\n",
            "[Pipeline] ............... (step 3 of 3) Processing clf, total=   0.0s\n",
            "[CV 3/5] END clf__alpha=0.01, tfidf__use_idf=True, vect__ngram_range=(1, 2);, score=0.717 total time=   1.1s\n",
            "[Pipeline] .............. (step 1 of 3) Processing vect, total=   1.0s\n",
            "[Pipeline] ............. (step 2 of 3) Processing tfidf, total=   0.0s\n",
            "[Pipeline] ............... (step 3 of 3) Processing clf, total=   0.0s\n",
            "[CV 4/5] END clf__alpha=0.01, tfidf__use_idf=True, vect__ngram_range=(1, 2);, score=0.699 total time=   1.2s\n",
            "[Pipeline] .............. (step 1 of 3) Processing vect, total=   1.0s\n",
            "[Pipeline] ............. (step 2 of 3) Processing tfidf, total=   0.0s\n",
            "[Pipeline] ............... (step 3 of 3) Processing clf, total=   0.0s\n",
            "[CV 5/5] END clf__alpha=0.01, tfidf__use_idf=True, vect__ngram_range=(1, 2);, score=0.660 total time=   1.2s\n",
            "[Pipeline] .............. (step 1 of 3) Processing vect, total=   2.2s\n",
            "[Pipeline] ............. (step 2 of 3) Processing tfidf, total=   0.1s\n",
            "[Pipeline] ............... (step 3 of 3) Processing clf, total=   0.1s\n",
            "[CV 1/5] END clf__alpha=0.01, tfidf__use_idf=True, vect__ngram_range=(1, 3);, score=0.670 total time=   2.5s\n",
            "[Pipeline] .............. (step 1 of 3) Processing vect, total=   2.3s\n",
            "[Pipeline] ............. (step 2 of 3) Processing tfidf, total=   0.1s\n",
            "[Pipeline] ............... (step 3 of 3) Processing clf, total=   0.1s\n",
            "[CV 2/5] END clf__alpha=0.01, tfidf__use_idf=True, vect__ngram_range=(1, 3);, score=0.667 total time=   2.7s\n",
            "[Pipeline] .............. (step 1 of 3) Processing vect, total=   2.0s\n",
            "[Pipeline] ............. (step 2 of 3) Processing tfidf, total=   0.1s\n",
            "[Pipeline] ............... (step 3 of 3) Processing clf, total=   0.1s\n",
            "[CV 3/5] END clf__alpha=0.01, tfidf__use_idf=True, vect__ngram_range=(1, 3);, score=0.717 total time=   2.3s\n",
            "[Pipeline] .............. (step 1 of 3) Processing vect, total=   1.9s\n",
            "[Pipeline] ............. (step 2 of 3) Processing tfidf, total=   0.1s\n",
            "[Pipeline] ............... (step 3 of 3) Processing clf, total=   0.1s\n",
            "[CV 4/5] END clf__alpha=0.01, tfidf__use_idf=True, vect__ngram_range=(1, 3);, score=0.687 total time=   2.2s\n",
            "[Pipeline] .............. (step 1 of 3) Processing vect, total=   2.0s\n",
            "[Pipeline] ............. (step 2 of 3) Processing tfidf, total=   0.1s\n",
            "[Pipeline] ............... (step 3 of 3) Processing clf, total=   0.1s\n",
            "[CV 5/5] END clf__alpha=0.01, tfidf__use_idf=True, vect__ngram_range=(1, 3);, score=0.660 total time=   2.3s\n",
            "[Pipeline] .............. (step 1 of 3) Processing vect, total=   1.2s\n",
            "[Pipeline] ............. (step 2 of 3) Processing tfidf, total=   0.1s\n",
            "[Pipeline] ............... (step 3 of 3) Processing clf, total=   0.0s\n"
          ]
        }
      ]
    },
    {
      "cell_type": "code",
      "source": [
        "gs_naive_bayes.best_params_"
      ],
      "metadata": {
        "colab": {
          "base_uri": "https://localhost:8080/"
        },
        "id": "JqhgwWwfFtUi",
        "outputId": "be9f800f-b43b-47ba-d706-ad181e65d1fe"
      },
      "execution_count": null,
      "outputs": [
        {
          "output_type": "execute_result",
          "data": {
            "text/plain": [
              "{'clf__alpha': 0.01, 'tfidf__use_idf': True, 'vect__ngram_range': (1, 2)}"
            ]
          },
          "metadata": {},
          "execution_count": 17
        }
      ]
    },
    {
      "cell_type": "code",
      "source": [
        "ydev_pred = gs_naive_bayes.predict(xdev)\n",
        "print(classification_report(ydev, ydev_pred))"
      ],
      "metadata": {
        "colab": {
          "base_uri": "https://localhost:8080/"
        },
        "id": "_ZRrEHYhGFa2",
        "outputId": "b77cad88-6892-48d1-df49-d05e02c13b32"
      },
      "execution_count": null,
      "outputs": [
        {
          "output_type": "stream",
          "name": "stdout",
          "text": [
            "              precision    recall  f1-score   support\n",
            "\n",
            "           0       0.71      0.74      0.72        62\n",
            "           1       0.60      0.70      0.65        30\n",
            "           2       0.77      0.61      0.68        38\n",
            "           3       0.67      0.29      0.40         7\n",
            "           4       0.59      0.64      0.62        50\n",
            "\n",
            "    accuracy                           0.66       187\n",
            "   macro avg       0.67      0.59      0.61       187\n",
            "weighted avg       0.67      0.66      0.66       187\n",
            "\n"
          ]
        }
      ]
    },
    {
      "cell_type": "code",
      "source": [
        "ytest_pred = gs_naive_bayes.predict(xtest)\n",
        "print(classification_report(ytest, ytest_pred))"
      ],
      "metadata": {
        "colab": {
          "base_uri": "https://localhost:8080/"
        },
        "id": "n71wPP7LGSlt",
        "outputId": "e4c9cb3e-c215-4396-dfaf-34123a3da1a7"
      },
      "execution_count": null,
      "outputs": [
        {
          "output_type": "stream",
          "name": "stdout",
          "text": [
            "              precision    recall  f1-score   support\n",
            "\n",
            "           0       0.61      0.78      0.68        69\n",
            "           1       0.64      0.55      0.59        33\n",
            "           2       0.74      0.48      0.58        42\n",
            "           3       0.50      0.12      0.20         8\n",
            "           4       0.61      0.68      0.64        56\n",
            "\n",
            "    accuracy                           0.63       208\n",
            "   macro avg       0.62      0.52      0.54       208\n",
            "weighted avg       0.64      0.63      0.62       208\n",
            "\n"
          ]
        }
      ]
    },
    {
      "cell_type": "markdown",
      "source": [
        "63% accuracy is a decent baseline. Since there is no severe class imbalance either, the FScores are also quite decent, barring class 3."
      ],
      "metadata": {
        "id": "kHfpiQfRYKt7"
      }
    },
    {
      "cell_type": "markdown",
      "source": [
        "We do the same for LDA topics."
      ],
      "metadata": {
        "id": "bB5j1IO_YXEp"
      }
    },
    {
      "cell_type": "code",
      "source": [
        "xtrainlda, xtestlda, ytrainlda, ytestlda = train_test_split(df['lemma_title'], df['lda_topics'], test_size=0.1, stratify = df['lda_topics'])\n",
        "xtrainlda, xdevlda, ytrainlda, ydevlda = train_test_split(xtrainlda, ytrainlda, test_size=0.1, stratify=ytrainlda)"
      ],
      "metadata": {
        "id": "hKWegsP3GiTN"
      },
      "execution_count": null,
      "outputs": []
    },
    {
      "cell_type": "code",
      "source": [
        "naive_bayes_lda = Pipeline([('vect', CountVectorizer(stop_words='english')),\n",
        "               ('tfidf', TfidfTransformer()),\n",
        "               ('clf', MultinomialNB(fit_prior=False)),\n",
        "              ], verbose=True)\n",
        "\n",
        "parameters_lda = {'vect__ngram_range': [(1, 2), (1, 3)],\n",
        "               'tfidf__use_idf': [True],\n",
        "               'clf__alpha': (1, 1e-2)}\n",
        "\n",
        "gs_naive_bayes_lda = GridSearchCV(naive_bayes_lda, parameters_lda, verbose=3)\n",
        "\n",
        "gs_naive_bayes_lda = gs_naive_bayes_lda.fit(xtrainlda, ytrainlda)"
      ],
      "metadata": {
        "colab": {
          "base_uri": "https://localhost:8080/"
        },
        "id": "hdqZ_u7uHBAA",
        "outputId": "d862491e-96d9-422b-86d4-721d38ce2b25"
      },
      "execution_count": null,
      "outputs": [
        {
          "output_type": "stream",
          "name": "stdout",
          "text": [
            "Fitting 5 folds for each of 4 candidates, totalling 20 fits\n",
            "[Pipeline] .............. (step 1 of 3) Processing vect, total=   0.1s\n",
            "[Pipeline] ............. (step 2 of 3) Processing tfidf, total=   0.0s\n",
            "[Pipeline] ............... (step 3 of 3) Processing clf, total=   0.0s\n",
            "[CV 1/5] END clf__alpha=1, tfidf__use_idf=True, vect__ngram_range=(1, 2);, score=0.384 total time=   0.1s\n",
            "[Pipeline] .............. (step 1 of 3) Processing vect, total=   0.1s\n",
            "[Pipeline] ............. (step 2 of 3) Processing tfidf, total=   0.0s\n",
            "[Pipeline] ............... (step 3 of 3) Processing clf, total=   0.0s\n",
            "[CV 2/5] END clf__alpha=1, tfidf__use_idf=True, vect__ngram_range=(1, 2);, score=0.446 total time=   0.2s\n",
            "[Pipeline] .............. (step 1 of 3) Processing vect, total=   0.1s\n",
            "[Pipeline] ............. (step 2 of 3) Processing tfidf, total=   0.0s\n",
            "[Pipeline] ............... (step 3 of 3) Processing clf, total=   0.0s\n",
            "[CV 3/5] END clf__alpha=1, tfidf__use_idf=True, vect__ngram_range=(1, 2);, score=0.440 total time=   0.1s\n",
            "[Pipeline] .............. (step 1 of 3) Processing vect, total=   0.1s\n",
            "[Pipeline] ............. (step 2 of 3) Processing tfidf, total=   0.0s\n",
            "[Pipeline] ............... (step 3 of 3) Processing clf, total=   0.0s\n",
            "[CV 4/5] END clf__alpha=1, tfidf__use_idf=True, vect__ngram_range=(1, 2);, score=0.367 total time=   0.1s\n",
            "[Pipeline] .............. (step 1 of 3) Processing vect, total=   0.1s\n",
            "[Pipeline] ............. (step 2 of 3) Processing tfidf, total=   0.0s\n",
            "[Pipeline] ............... (step 3 of 3) Processing clf, total=   0.0s\n",
            "[CV 5/5] END clf__alpha=1, tfidf__use_idf=True, vect__ngram_range=(1, 2);, score=0.454 total time=   0.2s\n",
            "[Pipeline] .............. (step 1 of 3) Processing vect, total=   0.3s\n",
            "[Pipeline] ............. (step 2 of 3) Processing tfidf, total=   0.0s\n",
            "[Pipeline] ............... (step 3 of 3) Processing clf, total=   0.0s\n",
            "[CV 1/5] END clf__alpha=1, tfidf__use_idf=True, vect__ngram_range=(1, 3);, score=0.387 total time=   0.4s\n",
            "[Pipeline] .............. (step 1 of 3) Processing vect, total=   0.3s\n",
            "[Pipeline] ............. (step 2 of 3) Processing tfidf, total=   0.0s\n",
            "[Pipeline] ............... (step 3 of 3) Processing clf, total=   0.0s\n",
            "[CV 2/5] END clf__alpha=1, tfidf__use_idf=True, vect__ngram_range=(1, 3);, score=0.449 total time=   0.3s\n",
            "[Pipeline] .............. (step 1 of 3) Processing vect, total=   0.2s\n",
            "[Pipeline] ............. (step 2 of 3) Processing tfidf, total=   0.0s\n",
            "[Pipeline] ............... (step 3 of 3) Processing clf, total=   0.0s\n",
            "[CV 3/5] END clf__alpha=1, tfidf__use_idf=True, vect__ngram_range=(1, 3);, score=0.435 total time=   0.2s\n",
            "[Pipeline] .............. (step 1 of 3) Processing vect, total=   0.1s\n",
            "[Pipeline] ............. (step 2 of 3) Processing tfidf, total=   0.0s\n",
            "[Pipeline] ............... (step 3 of 3) Processing clf, total=   0.0s\n",
            "[CV 4/5] END clf__alpha=1, tfidf__use_idf=True, vect__ngram_range=(1, 3);, score=0.364 total time=   0.1s\n",
            "[Pipeline] .............. (step 1 of 3) Processing vect, total=   0.1s\n",
            "[Pipeline] ............. (step 2 of 3) Processing tfidf, total=   0.0s\n",
            "[Pipeline] ............... (step 3 of 3) Processing clf, total=   0.0s\n",
            "[CV 5/5] END clf__alpha=1, tfidf__use_idf=True, vect__ngram_range=(1, 3);, score=0.448 total time=   0.1s\n",
            "[Pipeline] .............. (step 1 of 3) Processing vect, total=   0.1s\n",
            "[Pipeline] ............. (step 2 of 3) Processing tfidf, total=   0.0s\n",
            "[Pipeline] ............... (step 3 of 3) Processing clf, total=   0.0s\n",
            "[CV 1/5] END clf__alpha=0.01, tfidf__use_idf=True, vect__ngram_range=(1, 2);, score=0.330 total time=   0.1s\n",
            "[Pipeline] .............. (step 1 of 3) Processing vect, total=   0.0s\n",
            "[Pipeline] ............. (step 2 of 3) Processing tfidf, total=   0.0s\n",
            "[Pipeline] ............... (step 3 of 3) Processing clf, total=   0.0s\n",
            "[CV 2/5] END clf__alpha=0.01, tfidf__use_idf=True, vect__ngram_range=(1, 2);, score=0.399 total time=   0.1s\n",
            "[Pipeline] .............. (step 1 of 3) Processing vect, total=   0.1s\n",
            "[Pipeline] ............. (step 2 of 3) Processing tfidf, total=   0.0s\n",
            "[Pipeline] ............... (step 3 of 3) Processing clf, total=   0.0s\n",
            "[CV 3/5] END clf__alpha=0.01, tfidf__use_idf=True, vect__ngram_range=(1, 2);, score=0.417 total time=   0.1s\n",
            "[Pipeline] .............. (step 1 of 3) Processing vect, total=   0.1s\n",
            "[Pipeline] ............. (step 2 of 3) Processing tfidf, total=   0.0s\n",
            "[Pipeline] ............... (step 3 of 3) Processing clf, total=   0.0s\n",
            "[CV 4/5] END clf__alpha=0.01, tfidf__use_idf=True, vect__ngram_range=(1, 2);, score=0.385 total time=   0.1s\n",
            "[Pipeline] .............. (step 1 of 3) Processing vect, total=   0.1s\n",
            "[Pipeline] ............. (step 2 of 3) Processing tfidf, total=   0.0s\n",
            "[Pipeline] ............... (step 3 of 3) Processing clf, total=   0.0s\n",
            "[CV 5/5] END clf__alpha=0.01, tfidf__use_idf=True, vect__ngram_range=(1, 2);, score=0.397 total time=   0.1s\n",
            "[Pipeline] .............. (step 1 of 3) Processing vect, total=   0.1s\n",
            "[Pipeline] ............. (step 2 of 3) Processing tfidf, total=   0.0s\n",
            "[Pipeline] ............... (step 3 of 3) Processing clf, total=   0.0s\n",
            "[CV 1/5] END clf__alpha=0.01, tfidf__use_idf=True, vect__ngram_range=(1, 3);, score=0.327 total time=   0.1s\n",
            "[Pipeline] .............. (step 1 of 3) Processing vect, total=   0.1s\n",
            "[Pipeline] ............. (step 2 of 3) Processing tfidf, total=   0.0s\n",
            "[Pipeline] ............... (step 3 of 3) Processing clf, total=   0.0s\n",
            "[CV 2/5] END clf__alpha=0.01, tfidf__use_idf=True, vect__ngram_range=(1, 3);, score=0.399 total time=   0.1s\n",
            "[Pipeline] .............. (step 1 of 3) Processing vect, total=   0.1s\n",
            "[Pipeline] ............. (step 2 of 3) Processing tfidf, total=   0.0s\n",
            "[Pipeline] ............... (step 3 of 3) Processing clf, total=   0.0s\n",
            "[CV 3/5] END clf__alpha=0.01, tfidf__use_idf=True, vect__ngram_range=(1, 3);, score=0.420 total time=   0.1s\n",
            "[Pipeline] .............. (step 1 of 3) Processing vect, total=   0.1s\n",
            "[Pipeline] ............. (step 2 of 3) Processing tfidf, total=   0.0s\n",
            "[Pipeline] ............... (step 3 of 3) Processing clf, total=   0.0s\n",
            "[CV 4/5] END clf__alpha=0.01, tfidf__use_idf=True, vect__ngram_range=(1, 3);, score=0.382 total time=   0.1s\n",
            "[Pipeline] .............. (step 1 of 3) Processing vect, total=   0.1s\n",
            "[Pipeline] ............. (step 2 of 3) Processing tfidf, total=   0.0s\n",
            "[Pipeline] ............... (step 3 of 3) Processing clf, total=   0.0s\n",
            "[CV 5/5] END clf__alpha=0.01, tfidf__use_idf=True, vect__ngram_range=(1, 3);, score=0.400 total time=   0.1s\n",
            "[Pipeline] .............. (step 1 of 3) Processing vect, total=   0.1s\n",
            "[Pipeline] ............. (step 2 of 3) Processing tfidf, total=   0.0s\n",
            "[Pipeline] ............... (step 3 of 3) Processing clf, total=   0.0s\n"
          ]
        }
      ]
    },
    {
      "cell_type": "code",
      "source": [
        "gs_naive_bayes_lda.best_params_"
      ],
      "metadata": {
        "colab": {
          "base_uri": "https://localhost:8080/"
        },
        "id": "C7vM_GqjHThV",
        "outputId": "6959a3eb-350f-4a4a-d5cc-9f8709bb751f"
      },
      "execution_count": null,
      "outputs": [
        {
          "output_type": "execute_result",
          "data": {
            "text/plain": [
              "{'clf__alpha': 1, 'tfidf__use_idf': True, 'vect__ngram_range': (1, 2)}"
            ]
          },
          "metadata": {},
          "execution_count": 22
        }
      ]
    },
    {
      "cell_type": "code",
      "source": [
        "ydev_pred_lda = gs_naive_bayes_lda.predict(xdevlda)\n",
        "print(classification_report(ydevlda, ydev_pred_lda))"
      ],
      "metadata": {
        "colab": {
          "base_uri": "https://localhost:8080/"
        },
        "id": "yUbkxnFAHg7C",
        "outputId": "081e5480-320b-4e82-8159-ac2588503fd3"
      },
      "execution_count": null,
      "outputs": [
        {
          "output_type": "stream",
          "name": "stdout",
          "text": [
            "              precision    recall  f1-score   support\n",
            "\n",
            "           0       0.34      0.57      0.42        46\n",
            "           1       0.45      0.45      0.45        44\n",
            "           2       0.58      0.47      0.52        38\n",
            "           3       0.30      0.12      0.17        25\n",
            "           4       0.44      0.32      0.37        34\n",
            "\n",
            "    accuracy                           0.42       187\n",
            "   macro avg       0.42      0.39      0.39       187\n",
            "weighted avg       0.43      0.42      0.41       187\n",
            "\n"
          ]
        }
      ]
    },
    {
      "cell_type": "code",
      "source": [
        "ytest_pred_lda = gs_naive_bayes_lda.predict(xtestlda)\n",
        "print(classification_report(ytestlda, ytest_pred_lda))"
      ],
      "metadata": {
        "colab": {
          "base_uri": "https://localhost:8080/"
        },
        "id": "f5CxzRFxHpi4",
        "outputId": "4020ce17-4dcd-4d91-a43a-fb4cb14d8345"
      },
      "execution_count": null,
      "outputs": [
        {
          "output_type": "stream",
          "name": "stdout",
          "text": [
            "              precision    recall  f1-score   support\n",
            "\n",
            "           0       0.38      0.54      0.45        52\n",
            "           1       0.47      0.55      0.50        49\n",
            "           2       0.42      0.38      0.40        42\n",
            "           3       0.29      0.07      0.12        27\n",
            "           4       0.41      0.34      0.37        38\n",
            "\n",
            "    accuracy                           0.41       208\n",
            "   macro avg       0.39      0.38      0.37       208\n",
            "weighted avg       0.40      0.41      0.39       208\n",
            "\n"
          ]
        }
      ]
    },
    {
      "cell_type": "markdown",
      "source": [
        "LDA topic classification seems to be a bit of a bust.\n",
        "\n",
        "\n",
        "Now that we have established a classical ML baseline, lets also get a neural baseline model for classifying the NMF topics."
      ],
      "metadata": {
        "id": "xuuDh_PCYatM"
      }
    },
    {
      "cell_type": "code",
      "source": [
        "!pip install transformers"
      ],
      "metadata": {
        "colab": {
          "base_uri": "https://localhost:8080/"
        },
        "id": "t6sXmJFZHxyF",
        "outputId": "e8150e6c-6250-4e64-b4fd-5f235ee59294"
      },
      "execution_count": null,
      "outputs": [
        {
          "output_type": "stream",
          "name": "stdout",
          "text": [
            "Collecting transformers\n",
            "  Downloading transformers-4.18.0-py3-none-any.whl (4.0 MB)\n",
            "\u001b[K     |████████████████████████████████| 4.0 MB 8.0 MB/s \n",
            "\u001b[?25hRequirement already satisfied: filelock in /usr/local/lib/python3.7/dist-packages (from transformers) (3.6.0)\n",
            "Requirement already satisfied: packaging>=20.0 in /usr/local/lib/python3.7/dist-packages (from transformers) (21.3)\n",
            "Collecting huggingface-hub<1.0,>=0.1.0\n",
            "  Downloading huggingface_hub-0.5.1-py3-none-any.whl (77 kB)\n",
            "\u001b[K     |████████████████████████████████| 77 kB 3.0 MB/s \n",
            "\u001b[?25hRequirement already satisfied: tqdm>=4.27 in /usr/local/lib/python3.7/dist-packages (from transformers) (4.64.0)\n",
            "Requirement already satisfied: importlib-metadata in /usr/local/lib/python3.7/dist-packages (from transformers) (4.11.3)\n",
            "Collecting tokenizers!=0.11.3,<0.13,>=0.11.1\n",
            "  Downloading tokenizers-0.12.1-cp37-cp37m-manylinux_2_12_x86_64.manylinux2010_x86_64.whl (6.6 MB)\n",
            "\u001b[K     |████████████████████████████████| 6.6 MB 38.9 MB/s \n",
            "\u001b[?25hRequirement already satisfied: requests in /usr/local/lib/python3.7/dist-packages (from transformers) (2.23.0)\n",
            "Collecting pyyaml>=5.1\n",
            "  Downloading PyYAML-6.0-cp37-cp37m-manylinux_2_5_x86_64.manylinux1_x86_64.manylinux_2_12_x86_64.manylinux2010_x86_64.whl (596 kB)\n",
            "\u001b[K     |████████████████████████████████| 596 kB 32.4 MB/s \n",
            "\u001b[?25hRequirement already satisfied: regex!=2019.12.17 in /usr/local/lib/python3.7/dist-packages (from transformers) (2019.12.20)\n",
            "Collecting sacremoses\n",
            "  Downloading sacremoses-0.0.53.tar.gz (880 kB)\n",
            "\u001b[K     |████████████████████████████████| 880 kB 27.9 MB/s \n",
            "\u001b[?25hRequirement already satisfied: numpy>=1.17 in /usr/local/lib/python3.7/dist-packages (from transformers) (1.21.6)\n",
            "Requirement already satisfied: typing-extensions>=3.7.4.3 in /usr/local/lib/python3.7/dist-packages (from huggingface-hub<1.0,>=0.1.0->transformers) (4.2.0)\n",
            "Requirement already satisfied: pyparsing!=3.0.5,>=2.0.2 in /usr/local/lib/python3.7/dist-packages (from packaging>=20.0->transformers) (3.0.8)\n",
            "Requirement already satisfied: zipp>=0.5 in /usr/local/lib/python3.7/dist-packages (from importlib-metadata->transformers) (3.8.0)\n",
            "Requirement already satisfied: certifi>=2017.4.17 in /usr/local/lib/python3.7/dist-packages (from requests->transformers) (2021.10.8)\n",
            "Requirement already satisfied: urllib3!=1.25.0,!=1.25.1,<1.26,>=1.21.1 in /usr/local/lib/python3.7/dist-packages (from requests->transformers) (1.24.3)\n",
            "Requirement already satisfied: idna<3,>=2.5 in /usr/local/lib/python3.7/dist-packages (from requests->transformers) (2.10)\n",
            "Requirement already satisfied: chardet<4,>=3.0.2 in /usr/local/lib/python3.7/dist-packages (from requests->transformers) (3.0.4)\n",
            "Requirement already satisfied: six in /usr/local/lib/python3.7/dist-packages (from sacremoses->transformers) (1.15.0)\n",
            "Requirement already satisfied: click in /usr/local/lib/python3.7/dist-packages (from sacremoses->transformers) (7.1.2)\n",
            "Requirement already satisfied: joblib in /usr/local/lib/python3.7/dist-packages (from sacremoses->transformers) (1.1.0)\n",
            "Building wheels for collected packages: sacremoses\n",
            "  Building wheel for sacremoses (setup.py) ... \u001b[?25l\u001b[?25hdone\n",
            "  Created wheel for sacremoses: filename=sacremoses-0.0.53-py3-none-any.whl size=895260 sha256=033805c71c8cea36b7ad5b4ffa2c2b8137392abb4030a5522e7cdefd7e130a30\n",
            "  Stored in directory: /root/.cache/pip/wheels/87/39/dd/a83eeef36d0bf98e7a4d1933a4ad2d660295a40613079bafc9\n",
            "Successfully built sacremoses\n",
            "Installing collected packages: pyyaml, tokenizers, sacremoses, huggingface-hub, transformers\n",
            "  Attempting uninstall: pyyaml\n",
            "    Found existing installation: PyYAML 3.13\n",
            "    Uninstalling PyYAML-3.13:\n",
            "      Successfully uninstalled PyYAML-3.13\n",
            "Successfully installed huggingface-hub-0.5.1 pyyaml-6.0 sacremoses-0.0.53 tokenizers-0.12.1 transformers-4.18.0\n"
          ]
        }
      ]
    },
    {
      "cell_type": "code",
      "source": [
        "import torch\n",
        "from tqdm import tqdm\n",
        "from transformers import DistilBertTokenizerFast"
      ],
      "metadata": {
        "id": "Q5fiJsqVVeLb"
      },
      "execution_count": null,
      "outputs": []
    },
    {
      "cell_type": "code",
      "source": [
        "tokenizer = DistilBertTokenizerFast.from_pretrained('distilbert-base-uncased')\n",
        "train_encodings = tokenizer(list(xtrain), truncation=True, padding=True)\n",
        "val_encodings = tokenizer(list(xdev), truncation=True, padding=True)"
      ],
      "metadata": {
        "colab": {
          "base_uri": "https://localhost:8080/",
          "height": 145,
          "referenced_widgets": [
            "a778bd9696b04c61ad5d7b8e671053b7",
            "bafe8bbaa66f42baa700440375389896",
            "73343ba572224e808b65308e1a56ea84",
            "1ebad50c4296430ab5f268179622b1fd",
            "5a1d386db1964d49810970136c4a9bd5",
            "c80c4e03e7f8464c9a7203f7bc19cf81",
            "0f7367561f204fe892100bf17221c681",
            "3a82b47c4ff64990a9f44241f8afd07a",
            "fe9640252b8a4d468879898ff7c4ff39",
            "1c23be9238ad4cf889f70aff945eb099",
            "1d097afa3eed4ee593e136ab3c738eb1",
            "6bcf4da30f9f4229a7b4b51d611688ea",
            "75971b28382f49ed80763c81433bd277",
            "a14dea3981d94099a1f569776ac491b2",
            "87e9e1005a0e4ecf8df384678bf0a841",
            "16d2accff2bc472d9d92269feb93c5af",
            "dc083f09f7714a029b1a9a9334d884ca",
            "d8092406d3784ac1be9549c7cf075e30",
            "393454ce13544812ba5ef8c38e300471",
            "34cff5d26b6c4a1e9ba952413d1276d1",
            "3ae508c628c7460dba82e6b4478c7654",
            "af669ae1d417480c94a12454ee0596e8",
            "4c9bb2fa54db46d0b82ebd04ce62a1ca",
            "6414abb02d22461fb3aafac8a4d922b4",
            "f863dee345bd4007be9085f829512c17",
            "3ac8ea1c7f8f4b708de3aab5ca611a0b",
            "2fb011135c564d12bf78d111f21e5f35",
            "cf57faf3414141f4a73ee444c2b3cfb5",
            "d28fe55f72ab40ca880ac8aa47a3821a",
            "ed3bfee82cb14fdc9ae5419064c8ede2",
            "e06aa7c8578a4490b5f279270c16ac82",
            "53d91b184ecc475b84d4ef1b26520ea3",
            "0451576e58584e56a191033fdf3d012a",
            "b34aebd5d1d2440fa814904d2b7e0726",
            "94e5817e1ab946a5bb4b9865811a6db9",
            "5009ac33235f4df7b7965248a86e0e4e",
            "4807dba3d71441de8e2dbdade4e9b69b",
            "1cee6ee69ce348a0b7bf18211931e859",
            "6484948173e149168e9f1cbfacd46d58",
            "f48742b56ff74e8a8a332c02225fe5b9",
            "63791011f34d4df1a3d830e46b1a5de8",
            "f57b617cb60a48ae8c4bc08475a1689c",
            "49f2bf844ff54bb79675e329422cc5ef",
            "ab5837429aef4988a5d5390ab4a0f4bb"
          ]
        },
        "id": "_e7bZVHkVjYN",
        "outputId": "ea96d373-0b46-4cf1-b85a-790040d36aed"
      },
      "execution_count": null,
      "outputs": [
        {
          "output_type": "display_data",
          "data": {
            "text/plain": [
              "Downloading:   0%|          | 0.00/28.0 [00:00<?, ?B/s]"
            ],
            "application/vnd.jupyter.widget-view+json": {
              "version_major": 2,
              "version_minor": 0,
              "model_id": "a778bd9696b04c61ad5d7b8e671053b7"
            }
          },
          "metadata": {}
        },
        {
          "output_type": "display_data",
          "data": {
            "text/plain": [
              "Downloading:   0%|          | 0.00/226k [00:00<?, ?B/s]"
            ],
            "application/vnd.jupyter.widget-view+json": {
              "version_major": 2,
              "version_minor": 0,
              "model_id": "6bcf4da30f9f4229a7b4b51d611688ea"
            }
          },
          "metadata": {}
        },
        {
          "output_type": "display_data",
          "data": {
            "text/plain": [
              "Downloading:   0%|          | 0.00/455k [00:00<?, ?B/s]"
            ],
            "application/vnd.jupyter.widget-view+json": {
              "version_major": 2,
              "version_minor": 0,
              "model_id": "4c9bb2fa54db46d0b82ebd04ce62a1ca"
            }
          },
          "metadata": {}
        },
        {
          "output_type": "display_data",
          "data": {
            "text/plain": [
              "Downloading:   0%|          | 0.00/483 [00:00<?, ?B/s]"
            ],
            "application/vnd.jupyter.widget-view+json": {
              "version_major": 2,
              "version_minor": 0,
              "model_id": "b34aebd5d1d2440fa814904d2b7e0726"
            }
          },
          "metadata": {}
        }
      ]
    },
    {
      "cell_type": "code",
      "source": [
        "class IndiaDataset(torch.utils.data.Dataset):\n",
        "    def __init__(self, encodings, labels):\n",
        "        self.encodings = encodings\n",
        "        self.labels = labels\n",
        "\n",
        "    def __getitem__(self, idx):\n",
        "        item = {key: torch.tensor(val[idx]) for key, val in self.encodings.items()}\n",
        "        item['labels'] = torch.tensor(self.labels[idx])\n",
        "        return item\n",
        "\n",
        "    def __len__(self):\n",
        "        return len(self.labels)\n",
        "\n",
        "train_dataset = IndiaDataset(train_encodings, list(ytrain))\n",
        "val_dataset = IndiaDataset(val_encodings, list(ydev))"
      ],
      "metadata": {
        "id": "5Aq65Yw3VnyK"
      },
      "execution_count": null,
      "outputs": []
    },
    {
      "cell_type": "code",
      "source": [
        "from transformers import DistilBertForSequenceClassification, BertConfig\n",
        "\n",
        "config = BertConfig.from_pretrained('distilbert-base-uncased')\n",
        "config.num_labels = 5\n",
        "model = DistilBertForSequenceClassification(config)\n",
        "model.parameters"
      ],
      "metadata": {
        "colab": {
          "base_uri": "https://localhost:8080/"
        },
        "id": "u5Y1a6RMWiZK",
        "outputId": "c996b440-1749-44e3-d658-e8079bb3480d"
      },
      "execution_count": null,
      "outputs": [
        {
          "output_type": "stream",
          "name": "stderr",
          "text": [
            "You are using a model of type distilbert to instantiate a model of type bert. This is not supported for all configurations of models and can yield errors.\n"
          ]
        },
        {
          "output_type": "execute_result",
          "data": {
            "text/plain": [
              "<bound method Module.parameters of DistilBertForSequenceClassification(\n",
              "  (distilbert): DistilBertModel(\n",
              "    (embeddings): Embeddings(\n",
              "      (word_embeddings): Embedding(30522, 768, padding_idx=0)\n",
              "      (position_embeddings): Embedding(512, 768)\n",
              "      (LayerNorm): LayerNorm((768,), eps=1e-12, elementwise_affine=True)\n",
              "      (dropout): Dropout(p=0.1, inplace=False)\n",
              "    )\n",
              "    (transformer): Transformer(\n",
              "      (layer): ModuleList(\n",
              "        (0): TransformerBlock(\n",
              "          (attention): MultiHeadSelfAttention(\n",
              "            (dropout): Dropout(p=0.1, inplace=False)\n",
              "            (q_lin): Linear(in_features=768, out_features=768, bias=True)\n",
              "            (k_lin): Linear(in_features=768, out_features=768, bias=True)\n",
              "            (v_lin): Linear(in_features=768, out_features=768, bias=True)\n",
              "            (out_lin): Linear(in_features=768, out_features=768, bias=True)\n",
              "          )\n",
              "          (sa_layer_norm): LayerNorm((768,), eps=1e-12, elementwise_affine=True)\n",
              "          (ffn): FFN(\n",
              "            (dropout): Dropout(p=0.1, inplace=False)\n",
              "            (lin1): Linear(in_features=768, out_features=3072, bias=True)\n",
              "            (lin2): Linear(in_features=3072, out_features=768, bias=True)\n",
              "            (activation): GELUActivation()\n",
              "          )\n",
              "          (output_layer_norm): LayerNorm((768,), eps=1e-12, elementwise_affine=True)\n",
              "        )\n",
              "        (1): TransformerBlock(\n",
              "          (attention): MultiHeadSelfAttention(\n",
              "            (dropout): Dropout(p=0.1, inplace=False)\n",
              "            (q_lin): Linear(in_features=768, out_features=768, bias=True)\n",
              "            (k_lin): Linear(in_features=768, out_features=768, bias=True)\n",
              "            (v_lin): Linear(in_features=768, out_features=768, bias=True)\n",
              "            (out_lin): Linear(in_features=768, out_features=768, bias=True)\n",
              "          )\n",
              "          (sa_layer_norm): LayerNorm((768,), eps=1e-12, elementwise_affine=True)\n",
              "          (ffn): FFN(\n",
              "            (dropout): Dropout(p=0.1, inplace=False)\n",
              "            (lin1): Linear(in_features=768, out_features=3072, bias=True)\n",
              "            (lin2): Linear(in_features=3072, out_features=768, bias=True)\n",
              "            (activation): GELUActivation()\n",
              "          )\n",
              "          (output_layer_norm): LayerNorm((768,), eps=1e-12, elementwise_affine=True)\n",
              "        )\n",
              "        (2): TransformerBlock(\n",
              "          (attention): MultiHeadSelfAttention(\n",
              "            (dropout): Dropout(p=0.1, inplace=False)\n",
              "            (q_lin): Linear(in_features=768, out_features=768, bias=True)\n",
              "            (k_lin): Linear(in_features=768, out_features=768, bias=True)\n",
              "            (v_lin): Linear(in_features=768, out_features=768, bias=True)\n",
              "            (out_lin): Linear(in_features=768, out_features=768, bias=True)\n",
              "          )\n",
              "          (sa_layer_norm): LayerNorm((768,), eps=1e-12, elementwise_affine=True)\n",
              "          (ffn): FFN(\n",
              "            (dropout): Dropout(p=0.1, inplace=False)\n",
              "            (lin1): Linear(in_features=768, out_features=3072, bias=True)\n",
              "            (lin2): Linear(in_features=3072, out_features=768, bias=True)\n",
              "            (activation): GELUActivation()\n",
              "          )\n",
              "          (output_layer_norm): LayerNorm((768,), eps=1e-12, elementwise_affine=True)\n",
              "        )\n",
              "        (3): TransformerBlock(\n",
              "          (attention): MultiHeadSelfAttention(\n",
              "            (dropout): Dropout(p=0.1, inplace=False)\n",
              "            (q_lin): Linear(in_features=768, out_features=768, bias=True)\n",
              "            (k_lin): Linear(in_features=768, out_features=768, bias=True)\n",
              "            (v_lin): Linear(in_features=768, out_features=768, bias=True)\n",
              "            (out_lin): Linear(in_features=768, out_features=768, bias=True)\n",
              "          )\n",
              "          (sa_layer_norm): LayerNorm((768,), eps=1e-12, elementwise_affine=True)\n",
              "          (ffn): FFN(\n",
              "            (dropout): Dropout(p=0.1, inplace=False)\n",
              "            (lin1): Linear(in_features=768, out_features=3072, bias=True)\n",
              "            (lin2): Linear(in_features=3072, out_features=768, bias=True)\n",
              "            (activation): GELUActivation()\n",
              "          )\n",
              "          (output_layer_norm): LayerNorm((768,), eps=1e-12, elementwise_affine=True)\n",
              "        )\n",
              "        (4): TransformerBlock(\n",
              "          (attention): MultiHeadSelfAttention(\n",
              "            (dropout): Dropout(p=0.1, inplace=False)\n",
              "            (q_lin): Linear(in_features=768, out_features=768, bias=True)\n",
              "            (k_lin): Linear(in_features=768, out_features=768, bias=True)\n",
              "            (v_lin): Linear(in_features=768, out_features=768, bias=True)\n",
              "            (out_lin): Linear(in_features=768, out_features=768, bias=True)\n",
              "          )\n",
              "          (sa_layer_norm): LayerNorm((768,), eps=1e-12, elementwise_affine=True)\n",
              "          (ffn): FFN(\n",
              "            (dropout): Dropout(p=0.1, inplace=False)\n",
              "            (lin1): Linear(in_features=768, out_features=3072, bias=True)\n",
              "            (lin2): Linear(in_features=3072, out_features=768, bias=True)\n",
              "            (activation): GELUActivation()\n",
              "          )\n",
              "          (output_layer_norm): LayerNorm((768,), eps=1e-12, elementwise_affine=True)\n",
              "        )\n",
              "        (5): TransformerBlock(\n",
              "          (attention): MultiHeadSelfAttention(\n",
              "            (dropout): Dropout(p=0.1, inplace=False)\n",
              "            (q_lin): Linear(in_features=768, out_features=768, bias=True)\n",
              "            (k_lin): Linear(in_features=768, out_features=768, bias=True)\n",
              "            (v_lin): Linear(in_features=768, out_features=768, bias=True)\n",
              "            (out_lin): Linear(in_features=768, out_features=768, bias=True)\n",
              "          )\n",
              "          (sa_layer_norm): LayerNorm((768,), eps=1e-12, elementwise_affine=True)\n",
              "          (ffn): FFN(\n",
              "            (dropout): Dropout(p=0.1, inplace=False)\n",
              "            (lin1): Linear(in_features=768, out_features=3072, bias=True)\n",
              "            (lin2): Linear(in_features=3072, out_features=768, bias=True)\n",
              "            (activation): GELUActivation()\n",
              "          )\n",
              "          (output_layer_norm): LayerNorm((768,), eps=1e-12, elementwise_affine=True)\n",
              "        )\n",
              "      )\n",
              "    )\n",
              "  )\n",
              "  (pre_classifier): Linear(in_features=768, out_features=768, bias=True)\n",
              "  (classifier): Linear(in_features=768, out_features=5, bias=True)\n",
              "  (dropout): Dropout(p=0.2, inplace=False)\n",
              ")>"
            ]
          },
          "metadata": {},
          "execution_count": 13
        }
      ]
    },
    {
      "cell_type": "code",
      "source": [
        "from torch.utils.data import DataLoader\n",
        "from transformers import DistilBertForSequenceClassification, AdamW\n",
        "\n",
        "device = torch.device('cuda') if torch.cuda.is_available() else torch.device('cpu')\n",
        "# device = torch.device('cpu')\n",
        "print(device)\n",
        "\n",
        "# model = DistilBertForSequenceClassification.from_pretrained('distilbert-base-uncased')\n",
        "model.to(device)\n",
        "\n",
        "\n",
        "train_loader = DataLoader(train_dataset, batch_size=16, shuffle=True)\n",
        "val_loader = DataLoader(val_dataset, batch_size=16, shuffle=True)\n",
        "model.train()\n",
        "optim = AdamW(model.parameters(), lr=5e-5)\n",
        "\n",
        "for epoch in range(5):\n",
        "    all_train_preds = None\n",
        "    all_train_labels = None\n",
        "    all_val_preds = None\n",
        "    all_val_labels = None\n",
        "    model.train()\n",
        "    for batch in tqdm(train_loader):\n",
        "        optim.zero_grad()\n",
        "        input_ids = batch['input_ids'].to(device)\n",
        "        attention_mask = batch['attention_mask'].to(device)\n",
        "        labels = batch['labels'].to(device)\n",
        "        outputs = model(input_ids, attention_mask=attention_mask, labels=labels)\n",
        "        loss = outputs[0]\n",
        "        logits = outputs[1]\n",
        "        preds = torch.argmax(logits,dim=1)\n",
        "\n",
        "        if all_train_preds is None:\n",
        "            all_train_preds = preds\n",
        "            all_train_labels = labels\n",
        "        else:\n",
        "            all_train_preds = torch.cat((all_train_preds,preds))\n",
        "            all_train_labels = torch.cat((all_train_labels,labels))\n",
        "\n",
        "        loss.backward()\n",
        "        optim.step()\n",
        "    \n",
        "    print(\"train accuracy:\", torch.sum(all_train_preds==all_train_labels)/all_train_labels.shape[0])\n",
        "    \n",
        "model.eval()\n",
        "for batch in tqdm(val_loader):\n",
        "    input_ids = batch['input_ids'].to(device)\n",
        "    attention_mask = batch['attention_mask'].to(device)\n",
        "    labels = batch['labels'].to(device)\n",
        "    outputs = model(input_ids, attention_mask=attention_mask, labels=labels)\n",
        "    val_loss = outputs[0]\n",
        "    logits = outputs[1]\n",
        "    preds = torch.argmax(logits,dim=1)\n",
        "\n",
        "    if all_val_preds is None:\n",
        "        all_val_preds = preds\n",
        "        all_val_labels = labels\n",
        "    else:\n",
        "        all_val_preds = torch.cat((all_val_preds,preds))\n",
        "        all_val_labels = torch.cat((all_val_labels,labels))\n",
        "\n",
        "print(\"val accuracy:\", torch.sum(all_val_preds==all_val_labels)/all_val_labels.shape[0])"
      ],
      "metadata": {
        "colab": {
          "base_uri": "https://localhost:8080/"
        },
        "id": "-3ELIN7UWmec",
        "outputId": "dcbaa90d-f499-4b2b-d29e-e573ab6c7e22"
      },
      "execution_count": null,
      "outputs": [
        {
          "output_type": "stream",
          "name": "stdout",
          "text": [
            "cuda\n"
          ]
        },
        {
          "output_type": "stream",
          "name": "stderr",
          "text": [
            "/usr/local/lib/python3.7/dist-packages/transformers/optimization.py:309: FutureWarning: This implementation of AdamW is deprecated and will be removed in a future version. Use the PyTorch implementation torch.optim.AdamW instead, or set `no_deprecation_warning=True` to disable this warning\n",
            "  FutureWarning,\n",
            "100%|██████████| 105/105 [02:28<00:00,  1.41s/it]\n"
          ]
        },
        {
          "output_type": "stream",
          "name": "stdout",
          "text": [
            "train accuracy: tensor(0.4350, device='cuda:0')\n"
          ]
        },
        {
          "output_type": "stream",
          "name": "stderr",
          "text": [
            "100%|██████████| 105/105 [02:27<00:00,  1.41s/it]\n"
          ]
        },
        {
          "output_type": "stream",
          "name": "stdout",
          "text": [
            "train accuracy: tensor(0.7193, device='cuda:0')\n"
          ]
        },
        {
          "output_type": "stream",
          "name": "stderr",
          "text": [
            "100%|██████████| 105/105 [02:27<00:00,  1.41s/it]\n"
          ]
        },
        {
          "output_type": "stream",
          "name": "stdout",
          "text": [
            "train accuracy: tensor(0.8969, device='cuda:0')\n"
          ]
        },
        {
          "output_type": "stream",
          "name": "stderr",
          "text": [
            "100%|██████████| 105/105 [02:27<00:00,  1.40s/it]\n"
          ]
        },
        {
          "output_type": "stream",
          "name": "stdout",
          "text": [
            "train accuracy: tensor(0.9583, device='cuda:0')\n"
          ]
        },
        {
          "output_type": "stream",
          "name": "stderr",
          "text": [
            "100%|██████████| 105/105 [02:27<00:00,  1.40s/it]\n"
          ]
        },
        {
          "output_type": "stream",
          "name": "stdout",
          "text": [
            "train accuracy: tensor(0.9809, device='cuda:0')\n"
          ]
        },
        {
          "output_type": "stream",
          "name": "stderr",
          "text": [
            "100%|██████████| 12/12 [00:05<00:00,  2.12it/s]\n"
          ]
        },
        {
          "output_type": "stream",
          "name": "stdout",
          "text": [
            "val accuracy: tensor(0.7112, device='cuda:0')\n"
          ]
        }
      ]
    },
    {
      "cell_type": "code",
      "source": [
        "print(classification_report(all_val_labels.cpu(), all_val_preds.cpu()))"
      ],
      "metadata": {
        "colab": {
          "base_uri": "https://localhost:8080/"
        },
        "id": "KXNS9rj8XeSE",
        "outputId": "c01e40cb-784e-4079-de51-e255311333e9"
      },
      "execution_count": null,
      "outputs": [
        {
          "output_type": "stream",
          "name": "stdout",
          "text": [
            "              precision    recall  f1-score   support\n",
            "\n",
            "           0       0.76      0.84      0.80        62\n",
            "           1       0.45      0.83      0.59        30\n",
            "           2       0.83      0.76      0.79        38\n",
            "           3       1.00      0.57      0.73         7\n",
            "           4       0.92      0.46      0.61        50\n",
            "\n",
            "    accuracy                           0.71       187\n",
            "   macro avg       0.79      0.69      0.70       187\n",
            "weighted avg       0.78      0.71      0.71       187\n",
            "\n"
          ]
        }
      ]
    },
    {
      "cell_type": "markdown",
      "source": [
        "Indeed, we improve quite a bit on our Naive Bayes outcome. Better preprocessing, trying out different pre-trained models more suited to reddit, and hyperparameter tuning should be able to increase our FScores further. However, before doing that, we need to establish the validity of our labels in a better way. In the interest of time, I am concluding this task at this stage. Thank you :)"
      ],
      "metadata": {
        "id": "vyaxYFWpYywA"
      }
    },
    {
      "cell_type": "code",
      "source": [
        "torch.save(model.state_dict(), '/content/drive/MyDrive/Wysa/distilbert_nmf_topics.pt')"
      ],
      "metadata": {
        "id": "H-ZvqX3ncg5e"
      },
      "execution_count": null,
      "outputs": []
    },
    {
      "cell_type": "code",
      "source": [
        ""
      ],
      "metadata": {
        "id": "ZyYA9rAcdK40"
      },
      "execution_count": null,
      "outputs": []
    }
  ]
}